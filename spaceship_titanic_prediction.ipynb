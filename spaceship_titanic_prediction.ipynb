{
  "cells": [
    {
      "cell_type": "markdown",
      "metadata": {
        "id": "view-in-github",
        "colab_type": "text"
      },
      "source": [
        "<a href=\"https://colab.research.google.com/github/AmirMAAI/Spaceship_Titanic/blob/main/spaceship_titanic_prediction.ipynb\" target=\"_parent\"><img src=\"https://colab.research.google.com/assets/colab-badge.svg\" alt=\"Open In Colab\"/></a>"
      ]
    },
    {
      "cell_type": "markdown",
      "id": "365086fc",
      "metadata": {
        "papermill": {
          "duration": 0.154006,
          "end_time": "2022-04-15T09:55:59.910201",
          "exception": false,
          "start_time": "2022-04-15T09:55:59.756195",
          "status": "completed"
        },
        "tags": [],
        "id": "365086fc"
      },
      "source": [
        "<center>\n",
        "<img src=\"https://encrypted-tbn0.gstatic.com/images?q=tbn:ANd9GcRM0nCU7nbBzEKPg7RdAUe1sJM98rGo8FJSQQIdgj1rA0IrwBFf2fzw1oLAnK65pSvaBjk&usqp=CAU\" width=500 height=500 />\n",
        "</center>"
      ]
    },
    {
      "cell_type": "markdown",
      "id": "65a0f5fe",
      "metadata": {
        "papermill": {
          "duration": 0.131497,
          "end_time": "2022-04-15T09:56:00.178388",
          "exception": false,
          "start_time": "2022-04-15T09:56:00.046891",
          "status": "completed"
        },
        "tags": [],
        "id": "65a0f5fe"
      },
      "source": [
        "<a id=\"1\"></a> <br>\n",
        "# 1. Import Necessary Libraries"
      ]
    },
    {
      "cell_type": "code",
      "execution_count": 119,
      "id": "13f5bc77",
      "metadata": {
        "execution": {
          "iopub.execute_input": "2022-04-15T09:56:00.447547Z",
          "iopub.status.busy": "2022-04-15T09:56:00.446884Z",
          "iopub.status.idle": "2022-04-15T09:56:01.682509Z",
          "shell.execute_reply": "2022-04-15T09:56:01.681905Z",
          "shell.execute_reply.started": "2022-04-15T09:44:06.57738Z"
        },
        "papermill": {
          "duration": 1.374437,
          "end_time": "2022-04-15T09:56:01.682653",
          "exception": false,
          "start_time": "2022-04-15T09:56:00.308216",
          "status": "completed"
        },
        "tags": [],
        "id": "13f5bc77"
      },
      "outputs": [],
      "source": [
        "import numpy as np\n",
        "import pandas as pd\n",
        "import seaborn as sns\n",
        "import warnings\n",
        "warnings.filterwarnings(\"ignore\")\n",
        "import matplotlib.pyplot as plt\n",
        "%matplotlib inline\n",
        "from sklearn.pipeline import Pipeline\n",
        "from sklearn.preprocessing import OneHotEncoder, LabelEncoder\n",
        "from sklearn.model_selection import train_test_split\n",
        "from sklearn.ensemble import RandomForestClassifier, GradientBoostingClassifier, ExtraTreesClassifier\n",
        "from sklearn.linear_model import LogisticRegression,LinearRegression\n",
        "from sklearn.neighbors import KNeighborsClassifier\n",
        "from sklearn.tree import DecisionTreeClassifier\n",
        "from sklearn.neural_network import MLPClassifier\n",
        "from sklearn.svm import SVC\n",
        "from sklearn.model_selection import cross_val_score, StratifiedKFold\n",
        "from sklearn.metrics import mean_absolute_error\n",
        "from sklearn.metrics import plot_confusion_matrix,classification_report,confusion_matrix,accuracy_score"
      ]
    },
    {
      "cell_type": "markdown",
      "id": "af59f4c7",
      "metadata": {
        "papermill": {
          "duration": 0.127399,
          "end_time": "2022-04-15T09:56:01.939675",
          "exception": false,
          "start_time": "2022-04-15T09:56:01.812276",
          "status": "completed"
        },
        "tags": [],
        "id": "af59f4c7"
      },
      "source": [
        "<a id=\"1\"></a> <br>\n",
        "# 2. Import Dataset"
      ]
    },
    {
      "cell_type": "code",
      "execution_count": 120,
      "id": "16d1412d",
      "metadata": {
        "execution": {
          "iopub.execute_input": "2022-04-15T09:56:02.208158Z",
          "iopub.status.busy": "2022-04-15T09:56:02.207526Z",
          "iopub.status.idle": "2022-04-15T09:56:02.302513Z",
          "shell.execute_reply": "2022-04-15T09:56:02.301882Z",
          "shell.execute_reply.started": "2022-04-15T09:44:08.471447Z"
        },
        "papermill": {
          "duration": 0.23155,
          "end_time": "2022-04-15T09:56:02.302660",
          "exception": false,
          "start_time": "2022-04-15T09:56:02.071110",
          "status": "completed"
        },
        "tags": [],
        "id": "16d1412d"
      },
      "outputs": [],
      "source": [
        "df_train = pd.read_csv('/content/spaceship_titanic_train.csv')\n",
        "df_test = pd.read_csv('/content/spaceship_titanic_test.csv')\n",
        "df_data = pd.concat([df_train,df_test]).reset_index(drop=True)"
      ]
    },
    {
      "cell_type": "code",
      "execution_count": 121,
      "id": "ce2ec6ec",
      "metadata": {
        "execution": {
          "iopub.execute_input": "2022-04-15T09:56:02.570940Z",
          "iopub.status.busy": "2022-04-15T09:56:02.570092Z",
          "iopub.status.idle": "2022-04-15T09:56:02.594120Z",
          "shell.execute_reply": "2022-04-15T09:56:02.594579Z",
          "shell.execute_reply.started": "2022-04-15T09:44:10.204399Z"
        },
        "papermill": {
          "duration": 0.159842,
          "end_time": "2022-04-15T09:56:02.594733",
          "exception": false,
          "start_time": "2022-04-15T09:56:02.434891",
          "status": "completed"
        },
        "tags": [],
        "colab": {
          "base_uri": "https://localhost:8080/",
          "height": 206
        },
        "id": "ce2ec6ec",
        "outputId": "f1a22b53-4b80-4fa1-dc75-5cd6f3124b9d"
      },
      "outputs": [
        {
          "output_type": "execute_result",
          "data": {
            "text/plain": [
              "  PassengerId HomePlanet CryoSleep  Cabin  Destination   Age    VIP  \\\n",
              "0     0001_01     Europa     False  B/0/P  TRAPPIST-1e  39.0  False   \n",
              "1     0002_01      Earth     False  F/0/S  TRAPPIST-1e  24.0  False   \n",
              "2     0003_01     Europa     False  A/0/S  TRAPPIST-1e  58.0   True   \n",
              "3     0003_02     Europa     False  A/0/S  TRAPPIST-1e  33.0  False   \n",
              "4     0004_01      Earth     False  F/1/S  TRAPPIST-1e  16.0  False   \n",
              "\n",
              "   RoomService  FoodCourt  ShoppingMall     Spa  VRDeck               Name  \\\n",
              "0          0.0        0.0           0.0     0.0     0.0    Maham Ofracculy   \n",
              "1        109.0        9.0          25.0   549.0    44.0       Juanna Vines   \n",
              "2         43.0     3576.0           0.0  6715.0    49.0      Altark Susent   \n",
              "3          0.0     1283.0         371.0  3329.0   193.0       Solam Susent   \n",
              "4        303.0       70.0         151.0   565.0     2.0  Willy Santantines   \n",
              "\n",
              "  Transported  \n",
              "0       False  \n",
              "1        True  \n",
              "2       False  \n",
              "3       False  \n",
              "4        True  "
            ],
            "text/html": [
              "\n",
              "  <div id=\"df-41eea851-5554-4fcf-9756-3c4357c0d414\">\n",
              "    <div class=\"colab-df-container\">\n",
              "      <div>\n",
              "<style scoped>\n",
              "    .dataframe tbody tr th:only-of-type {\n",
              "        vertical-align: middle;\n",
              "    }\n",
              "\n",
              "    .dataframe tbody tr th {\n",
              "        vertical-align: top;\n",
              "    }\n",
              "\n",
              "    .dataframe thead th {\n",
              "        text-align: right;\n",
              "    }\n",
              "</style>\n",
              "<table border=\"1\" class=\"dataframe\">\n",
              "  <thead>\n",
              "    <tr style=\"text-align: right;\">\n",
              "      <th></th>\n",
              "      <th>PassengerId</th>\n",
              "      <th>HomePlanet</th>\n",
              "      <th>CryoSleep</th>\n",
              "      <th>Cabin</th>\n",
              "      <th>Destination</th>\n",
              "      <th>Age</th>\n",
              "      <th>VIP</th>\n",
              "      <th>RoomService</th>\n",
              "      <th>FoodCourt</th>\n",
              "      <th>ShoppingMall</th>\n",
              "      <th>Spa</th>\n",
              "      <th>VRDeck</th>\n",
              "      <th>Name</th>\n",
              "      <th>Transported</th>\n",
              "    </tr>\n",
              "  </thead>\n",
              "  <tbody>\n",
              "    <tr>\n",
              "      <th>0</th>\n",
              "      <td>0001_01</td>\n",
              "      <td>Europa</td>\n",
              "      <td>False</td>\n",
              "      <td>B/0/P</td>\n",
              "      <td>TRAPPIST-1e</td>\n",
              "      <td>39.0</td>\n",
              "      <td>False</td>\n",
              "      <td>0.0</td>\n",
              "      <td>0.0</td>\n",
              "      <td>0.0</td>\n",
              "      <td>0.0</td>\n",
              "      <td>0.0</td>\n",
              "      <td>Maham Ofracculy</td>\n",
              "      <td>False</td>\n",
              "    </tr>\n",
              "    <tr>\n",
              "      <th>1</th>\n",
              "      <td>0002_01</td>\n",
              "      <td>Earth</td>\n",
              "      <td>False</td>\n",
              "      <td>F/0/S</td>\n",
              "      <td>TRAPPIST-1e</td>\n",
              "      <td>24.0</td>\n",
              "      <td>False</td>\n",
              "      <td>109.0</td>\n",
              "      <td>9.0</td>\n",
              "      <td>25.0</td>\n",
              "      <td>549.0</td>\n",
              "      <td>44.0</td>\n",
              "      <td>Juanna Vines</td>\n",
              "      <td>True</td>\n",
              "    </tr>\n",
              "    <tr>\n",
              "      <th>2</th>\n",
              "      <td>0003_01</td>\n",
              "      <td>Europa</td>\n",
              "      <td>False</td>\n",
              "      <td>A/0/S</td>\n",
              "      <td>TRAPPIST-1e</td>\n",
              "      <td>58.0</td>\n",
              "      <td>True</td>\n",
              "      <td>43.0</td>\n",
              "      <td>3576.0</td>\n",
              "      <td>0.0</td>\n",
              "      <td>6715.0</td>\n",
              "      <td>49.0</td>\n",
              "      <td>Altark Susent</td>\n",
              "      <td>False</td>\n",
              "    </tr>\n",
              "    <tr>\n",
              "      <th>3</th>\n",
              "      <td>0003_02</td>\n",
              "      <td>Europa</td>\n",
              "      <td>False</td>\n",
              "      <td>A/0/S</td>\n",
              "      <td>TRAPPIST-1e</td>\n",
              "      <td>33.0</td>\n",
              "      <td>False</td>\n",
              "      <td>0.0</td>\n",
              "      <td>1283.0</td>\n",
              "      <td>371.0</td>\n",
              "      <td>3329.0</td>\n",
              "      <td>193.0</td>\n",
              "      <td>Solam Susent</td>\n",
              "      <td>False</td>\n",
              "    </tr>\n",
              "    <tr>\n",
              "      <th>4</th>\n",
              "      <td>0004_01</td>\n",
              "      <td>Earth</td>\n",
              "      <td>False</td>\n",
              "      <td>F/1/S</td>\n",
              "      <td>TRAPPIST-1e</td>\n",
              "      <td>16.0</td>\n",
              "      <td>False</td>\n",
              "      <td>303.0</td>\n",
              "      <td>70.0</td>\n",
              "      <td>151.0</td>\n",
              "      <td>565.0</td>\n",
              "      <td>2.0</td>\n",
              "      <td>Willy Santantines</td>\n",
              "      <td>True</td>\n",
              "    </tr>\n",
              "  </tbody>\n",
              "</table>\n",
              "</div>\n",
              "      <button class=\"colab-df-convert\" onclick=\"convertToInteractive('df-41eea851-5554-4fcf-9756-3c4357c0d414')\"\n",
              "              title=\"Convert this dataframe to an interactive table.\"\n",
              "              style=\"display:none;\">\n",
              "        \n",
              "  <svg xmlns=\"http://www.w3.org/2000/svg\" height=\"24px\"viewBox=\"0 0 24 24\"\n",
              "       width=\"24px\">\n",
              "    <path d=\"M0 0h24v24H0V0z\" fill=\"none\"/>\n",
              "    <path d=\"M18.56 5.44l.94 2.06.94-2.06 2.06-.94-2.06-.94-.94-2.06-.94 2.06-2.06.94zm-11 1L8.5 8.5l.94-2.06 2.06-.94-2.06-.94L8.5 2.5l-.94 2.06-2.06.94zm10 10l.94 2.06.94-2.06 2.06-.94-2.06-.94-.94-2.06-.94 2.06-2.06.94z\"/><path d=\"M17.41 7.96l-1.37-1.37c-.4-.4-.92-.59-1.43-.59-.52 0-1.04.2-1.43.59L10.3 9.45l-7.72 7.72c-.78.78-.78 2.05 0 2.83L4 21.41c.39.39.9.59 1.41.59.51 0 1.02-.2 1.41-.59l7.78-7.78 2.81-2.81c.8-.78.8-2.07 0-2.86zM5.41 20L4 18.59l7.72-7.72 1.47 1.35L5.41 20z\"/>\n",
              "  </svg>\n",
              "      </button>\n",
              "      \n",
              "  <style>\n",
              "    .colab-df-container {\n",
              "      display:flex;\n",
              "      flex-wrap:wrap;\n",
              "      gap: 12px;\n",
              "    }\n",
              "\n",
              "    .colab-df-convert {\n",
              "      background-color: #E8F0FE;\n",
              "      border: none;\n",
              "      border-radius: 50%;\n",
              "      cursor: pointer;\n",
              "      display: none;\n",
              "      fill: #1967D2;\n",
              "      height: 32px;\n",
              "      padding: 0 0 0 0;\n",
              "      width: 32px;\n",
              "    }\n",
              "\n",
              "    .colab-df-convert:hover {\n",
              "      background-color: #E2EBFA;\n",
              "      box-shadow: 0px 1px 2px rgba(60, 64, 67, 0.3), 0px 1px 3px 1px rgba(60, 64, 67, 0.15);\n",
              "      fill: #174EA6;\n",
              "    }\n",
              "\n",
              "    [theme=dark] .colab-df-convert {\n",
              "      background-color: #3B4455;\n",
              "      fill: #D2E3FC;\n",
              "    }\n",
              "\n",
              "    [theme=dark] .colab-df-convert:hover {\n",
              "      background-color: #434B5C;\n",
              "      box-shadow: 0px 1px 3px 1px rgba(0, 0, 0, 0.15);\n",
              "      filter: drop-shadow(0px 1px 2px rgba(0, 0, 0, 0.3));\n",
              "      fill: #FFFFFF;\n",
              "    }\n",
              "  </style>\n",
              "\n",
              "      <script>\n",
              "        const buttonEl =\n",
              "          document.querySelector('#df-41eea851-5554-4fcf-9756-3c4357c0d414 button.colab-df-convert');\n",
              "        buttonEl.style.display =\n",
              "          google.colab.kernel.accessAllowed ? 'block' : 'none';\n",
              "\n",
              "        async function convertToInteractive(key) {\n",
              "          const element = document.querySelector('#df-41eea851-5554-4fcf-9756-3c4357c0d414');\n",
              "          const dataTable =\n",
              "            await google.colab.kernel.invokeFunction('convertToInteractive',\n",
              "                                                     [key], {});\n",
              "          if (!dataTable) return;\n",
              "\n",
              "          const docLinkHtml = 'Like what you see? Visit the ' +\n",
              "            '<a target=\"_blank\" href=https://colab.research.google.com/notebooks/data_table.ipynb>data table notebook</a>'\n",
              "            + ' to learn more about interactive tables.';\n",
              "          element.innerHTML = '';\n",
              "          dataTable['output_type'] = 'display_data';\n",
              "          await google.colab.output.renderOutput(dataTable, element);\n",
              "          const docLink = document.createElement('div');\n",
              "          docLink.innerHTML = docLinkHtml;\n",
              "          element.appendChild(docLink);\n",
              "        }\n",
              "      </script>\n",
              "    </div>\n",
              "  </div>\n",
              "  "
            ]
          },
          "metadata": {},
          "execution_count": 121
        }
      ],
      "source": [
        "df_data.head()"
      ]
    },
    {
      "cell_type": "markdown",
      "id": "d349d122",
      "metadata": {
        "papermill": {
          "duration": 0.135249,
          "end_time": "2022-04-15T09:56:02.863635",
          "exception": false,
          "start_time": "2022-04-15T09:56:02.728386",
          "status": "completed"
        },
        "tags": [],
        "id": "d349d122"
      },
      "source": [
        "<span style=\"font-family:cursive; color:black;font-size:16px\">\n",
        "\n",
        "Feature descriptions:</span>\n",
        "\n",
        "> * **PassengerId** - A unique Id for each passenger. Each Id takes the form gggg_pp where gggg indicates a group the passenger is travelling with and pp is their number within the group. People in a group are often family members, but not always.\n",
        "> * **HomePlanet** - The planet the passenger departed from, typically their planet of permanent residence.\n",
        "> * **CryoSleep** - Indicates whether the passenger elected to be put into suspended animation for the duration of the voyage. Passengers in cryosleep are confined to their cabins.\n",
        "> * **Cabin** - The cabin number where the passenger is staying. Takes the form deck/num/side, where side can be either P for Port or S for Starboard.\n",
        "> * **Destination** - The planet the passenger will be debarking to.\n",
        "> * **Age** - The age of the passenger.\n",
        "> * **VIP** - Whether the passenger has paid for special VIP service during the voyage.\n",
        "> * **RoomService**, **FoodCourt**, **ShoppingMall**, **Spa**, **VRDeck** - Amount the passenger has billed at each of the Spaceship Titanic's many luxury amenities.\n",
        "> * **Name** - The first and last names of the passenger.\n",
        "> * **Transported** - Whether the passenger was transported to another dimension. This is the target, the column you are trying to predict."
      ]
    },
    {
      "cell_type": "markdown",
      "id": "2701d9a9",
      "metadata": {
        "papermill": {
          "duration": 0.134427,
          "end_time": "2022-04-15T09:56:03.130020",
          "exception": false,
          "start_time": "2022-04-15T09:56:02.995593",
          "status": "completed"
        },
        "tags": [],
        "id": "2701d9a9"
      },
      "source": [
        "**Missing values**"
      ]
    },
    {
      "cell_type": "code",
      "execution_count": 122,
      "id": "58e85968",
      "metadata": {
        "execution": {
          "iopub.execute_input": "2022-04-15T09:56:03.401535Z",
          "iopub.status.busy": "2022-04-15T09:56:03.400921Z",
          "iopub.status.idle": "2022-04-15T09:56:03.419427Z",
          "shell.execute_reply": "2022-04-15T09:56:03.418932Z",
          "shell.execute_reply.started": "2022-04-15T09:44:11.268259Z"
        },
        "papermill": {
          "duration": 0.154838,
          "end_time": "2022-04-15T09:56:03.419568",
          "exception": false,
          "start_time": "2022-04-15T09:56:03.264730",
          "status": "completed"
        },
        "tags": [],
        "colab": {
          "base_uri": "https://localhost:8080/"
        },
        "id": "58e85968",
        "outputId": "d76903ea-495d-499a-e7eb-fecd75d11b18"
      },
      "outputs": [
        {
          "output_type": "execute_result",
          "data": {
            "text/plain": [
              "PassengerId        0\n",
              "HomePlanet       288\n",
              "CryoSleep        310\n",
              "Cabin            299\n",
              "Destination      274\n",
              "Age              270\n",
              "VIP              296\n",
              "RoomService      263\n",
              "FoodCourt        289\n",
              "ShoppingMall     306\n",
              "Spa              284\n",
              "VRDeck           268\n",
              "Name             294\n",
              "Transported     4277\n",
              "dtype: int64"
            ]
          },
          "metadata": {},
          "execution_count": 122
        }
      ],
      "source": [
        "df_data.isnull().sum()"
      ]
    },
    {
      "cell_type": "markdown",
      "id": "be598111",
      "metadata": {
        "papermill": {
          "duration": 0.134993,
          "end_time": "2022-04-15T09:56:03.688432",
          "exception": false,
          "start_time": "2022-04-15T09:56:03.553439",
          "status": "completed"
        },
        "tags": [],
        "id": "be598111"
      },
      "source": [
        "**Duplicates**"
      ]
    },
    {
      "cell_type": "code",
      "execution_count": 123,
      "id": "8033ed47",
      "metadata": {
        "execution": {
          "iopub.execute_input": "2022-04-15T09:56:03.966520Z",
          "iopub.status.busy": "2022-04-15T09:56:03.965854Z",
          "iopub.status.idle": "2022-04-15T09:56:03.988898Z",
          "shell.execute_reply": "2022-04-15T09:56:03.988446Z",
          "shell.execute_reply.started": "2022-04-15T09:44:12.3382Z"
        },
        "papermill": {
          "duration": 0.164094,
          "end_time": "2022-04-15T09:56:03.989023",
          "exception": false,
          "start_time": "2022-04-15T09:56:03.824929",
          "status": "completed"
        },
        "tags": [],
        "colab": {
          "base_uri": "https://localhost:8080/"
        },
        "id": "8033ed47",
        "outputId": "d09f6e98-7060-49c0-eccc-1e221e3e8ab1"
      },
      "outputs": [
        {
          "output_type": "stream",
          "name": "stdout",
          "text": [
            "Sum Of Duplicated Data : 0\n"
          ]
        }
      ],
      "source": [
        "print('Sum Of Duplicated Data : {}'.format(df_data.duplicated().sum()))"
      ]
    },
    {
      "cell_type": "markdown",
      "id": "46fde084",
      "metadata": {
        "papermill": {
          "duration": 0.133233,
          "end_time": "2022-04-15T09:56:04.257401",
          "exception": false,
          "start_time": "2022-04-15T09:56:04.124168",
          "status": "completed"
        },
        "tags": [],
        "id": "46fde084"
      },
      "source": [
        "**Cardinality of features**"
      ]
    },
    {
      "cell_type": "code",
      "execution_count": 124,
      "id": "97a4324c",
      "metadata": {
        "execution": {
          "iopub.execute_input": "2022-04-15T09:56:04.530476Z",
          "iopub.status.busy": "2022-04-15T09:56:04.529801Z",
          "iopub.status.idle": "2022-04-15T09:56:04.550969Z",
          "shell.execute_reply": "2022-04-15T09:56:04.551553Z",
          "shell.execute_reply.started": "2022-04-15T09:44:13.416766Z"
        },
        "papermill": {
          "duration": 0.161014,
          "end_time": "2022-04-15T09:56:04.551713",
          "exception": false,
          "start_time": "2022-04-15T09:56:04.390699",
          "status": "completed"
        },
        "tags": [],
        "colab": {
          "base_uri": "https://localhost:8080/"
        },
        "id": "97a4324c",
        "outputId": "f7f25d9d-338b-4aa6-e245-34e251655d74"
      },
      "outputs": [
        {
          "output_type": "execute_result",
          "data": {
            "text/plain": [
              "PassengerId     12970\n",
              "HomePlanet          3\n",
              "CryoSleep           2\n",
              "Cabin            9825\n",
              "Destination         3\n",
              "Age                80\n",
              "VIP                 2\n",
              "RoomService      1578\n",
              "FoodCourt        1953\n",
              "ShoppingMall     1367\n",
              "Spa              1679\n",
              "VRDeck           1642\n",
              "Name            12629\n",
              "Transported         2\n",
              "dtype: int64"
            ]
          },
          "metadata": {},
          "execution_count": 124
        }
      ],
      "source": [
        "df_data.nunique()"
      ]
    },
    {
      "cell_type": "markdown",
      "id": "3d5c4709",
      "metadata": {
        "papermill": {
          "duration": 0.137809,
          "end_time": "2022-04-15T09:56:04.827461",
          "exception": false,
          "start_time": "2022-04-15T09:56:04.689652",
          "status": "completed"
        },
        "tags": [],
        "id": "3d5c4709"
      },
      "source": [
        "**Data types**"
      ]
    },
    {
      "cell_type": "code",
      "execution_count": 125,
      "id": "4bcb66b7",
      "metadata": {
        "execution": {
          "iopub.execute_input": "2022-04-15T09:56:05.111838Z",
          "iopub.status.busy": "2022-04-15T09:56:05.108080Z",
          "iopub.status.idle": "2022-04-15T09:56:05.114472Z",
          "shell.execute_reply": "2022-04-15T09:56:05.115087Z",
          "shell.execute_reply.started": "2022-04-15T09:44:14.475277Z"
        },
        "papermill": {
          "duration": 0.150297,
          "end_time": "2022-04-15T09:56:05.115247",
          "exception": false,
          "start_time": "2022-04-15T09:56:04.964950",
          "status": "completed"
        },
        "tags": [],
        "colab": {
          "base_uri": "https://localhost:8080/"
        },
        "id": "4bcb66b7",
        "outputId": "ed6f064d-6684-4b6c-ed0f-0df9af7642b9"
      },
      "outputs": [
        {
          "output_type": "execute_result",
          "data": {
            "text/plain": [
              "PassengerId      object\n",
              "HomePlanet       object\n",
              "CryoSleep        object\n",
              "Cabin            object\n",
              "Destination      object\n",
              "Age             float64\n",
              "VIP              object\n",
              "RoomService     float64\n",
              "FoodCourt       float64\n",
              "ShoppingMall    float64\n",
              "Spa             float64\n",
              "VRDeck          float64\n",
              "Name             object\n",
              "Transported      object\n",
              "dtype: object"
            ]
          },
          "metadata": {},
          "execution_count": 125
        }
      ],
      "source": [
        "df_data.dtypes"
      ]
    },
    {
      "cell_type": "markdown",
      "id": "7f333b79",
      "metadata": {
        "papermill": {
          "duration": 0.137551,
          "end_time": "2022-04-15T09:56:05.390980",
          "exception": false,
          "start_time": "2022-04-15T09:56:05.253429",
          "status": "completed"
        },
        "tags": [],
        "id": "7f333b79"
      },
      "source": [
        "Machine learning models usually do not work on text, so we need to convert the data into numeric (int64 or float64). This will be done later."
      ]
    },
    {
      "cell_type": "markdown",
      "id": "1cfa8732",
      "metadata": {
        "papermill": {
          "duration": 0.142231,
          "end_time": "2022-04-15T09:56:05.671091",
          "exception": false,
          "start_time": "2022-04-15T09:56:05.528860",
          "status": "completed"
        },
        "tags": [],
        "id": "1cfa8732"
      },
      "source": [
        "<a id=\"1\"></a> <br>\n",
        "# 3. Exploratory Data Analysis"
      ]
    },
    {
      "cell_type": "code",
      "execution_count": 126,
      "id": "95d29657",
      "metadata": {
        "execution": {
          "iopub.execute_input": "2022-04-15T09:56:05.944115Z",
          "iopub.status.busy": "2022-04-15T09:56:05.943490Z",
          "iopub.status.idle": "2022-04-15T09:56:06.152349Z",
          "shell.execute_reply": "2022-04-15T09:56:06.151487Z",
          "shell.execute_reply.started": "2022-04-15T09:44:15.590289Z"
        },
        "papermill": {
          "duration": 0.346834,
          "end_time": "2022-04-15T09:56:06.152576",
          "exception": false,
          "start_time": "2022-04-15T09:56:05.805742",
          "status": "completed"
        },
        "tags": [],
        "colab": {
          "base_uri": "https://localhost:8080/",
          "height": 499
        },
        "id": "95d29657",
        "outputId": "0fac1a6b-19c5-4cc4-a7cc-f3f978f4b655"
      },
      "outputs": [
        {
          "output_type": "execute_result",
          "data": {
            "text/plain": [
              "Text(0.5, 1.0, 'Target distribution')"
            ]
          },
          "metadata": {},
          "execution_count": 126
        },
        {
          "output_type": "display_data",
          "data": {
            "text/plain": [
              "<Figure size 576x576 with 1 Axes>"
            ],
            "image/png": "[encoded data removed]"
          },
          "metadata": {}
        }
      ],
      "source": [
        "# Figure size\n",
        "plt.figure(figsize=(8,8))\n",
        "\n",
        "# Pie plot\n",
        "df_train.Transported.value_counts().plot(kind='pie',shadow=True,explode=[0.05,0.05],autopct='%1.1f%%').set_title(\"Target distribution\")"
      ]
    },
    {
      "cell_type": "markdown",
      "id": "0f860883",
      "metadata": {
        "papermill": {
          "duration": 0.134424,
          "end_time": "2022-04-15T09:56:06.443618",
          "exception": false,
          "start_time": "2022-04-15T09:56:06.309194",
          "status": "completed"
        },
        "tags": [],
        "id": "0f860883"
      },
      "source": [
        "**Continuous features**"
      ]
    },
    {
      "cell_type": "code",
      "execution_count": 127,
      "id": "4a4a9643",
      "metadata": {
        "execution": {
          "iopub.execute_input": "2022-04-15T09:56:06.709219Z",
          "iopub.status.busy": "2022-04-15T09:56:06.708551Z",
          "iopub.status.idle": "2022-04-15T09:56:07.448276Z",
          "shell.execute_reply": "2022-04-15T09:56:07.448770Z",
          "shell.execute_reply.started": "2022-04-15T09:44:16.632592Z"
        },
        "papermill": {
          "duration": 0.876402,
          "end_time": "2022-04-15T09:56:07.448938",
          "exception": false,
          "start_time": "2022-04-15T09:56:06.572536",
          "status": "completed"
        },
        "tags": [],
        "colab": {
          "base_uri": "https://localhost:8080/",
          "height": 367
        },
        "id": "4a4a9643",
        "outputId": "54284095-eee1-4651-d8ed-fbf7286f87d3"
      },
      "outputs": [
        {
          "output_type": "execute_result",
          "data": {
            "text/plain": [
              "Text(0.5, 0, 'Age (years)')"
            ]
          },
          "metadata": {},
          "execution_count": 127
        },
        {
          "output_type": "display_data",
          "data": {
            "text/plain": [
              "<Figure size 864x360 with 1 Axes>"
            ],
            "image/png": "[encoded data removed]"
          },
          "metadata": {
            "needs_background": "light"
          }
        }
      ],
      "source": [
        "# Figure size\n",
        "plt.figure(figsize=(12,5))\n",
        "\n",
        "# Histogram\n",
        "sns.histplot(x='Age', hue='Transported',data=df_train, kde=True, binwidth=1)\n",
        "plt.title('Age distribution')\n",
        "plt.xlabel('Age (years)')"
      ]
    },
    {
      "cell_type": "markdown",
      "id": "fbf1264f",
      "metadata": {
        "papermill": {
          "duration": 0.133938,
          "end_time": "2022-04-15T09:56:07.720396",
          "exception": false,
          "start_time": "2022-04-15T09:56:07.586458",
          "status": "completed"
        },
        "tags": [],
        "id": "fbf1264f"
      },
      "source": [
        "As we can see : \n",
        "* 0-18 year olds were **more** likely to be transported than not.\n",
        "* 18-25 year olds were **less** likely to be transported than not.\n",
        "* Over 25 year olds were about **equally** likely to be transported than not.\n",
        "\n",
        "So we can Create a new feature that indicates whether the passanger is a child, adolescent or adult."
      ]
    },
    {
      "cell_type": "code",
      "execution_count": 128,
      "id": "2725bd25",
      "metadata": {
        "execution": {
          "iopub.execute_input": "2022-04-15T09:56:08.004907Z",
          "iopub.status.busy": "2022-04-15T09:56:07.999791Z",
          "iopub.status.idle": "2022-04-15T09:56:09.937941Z",
          "shell.execute_reply": "2022-04-15T09:56:09.938433Z",
          "shell.execute_reply.started": "2022-04-15T09:44:17.68436Z"
        },
        "papermill": {
          "duration": 2.079207,
          "end_time": "2022-04-15T09:56:09.938591",
          "exception": false,
          "start_time": "2022-04-15T09:56:07.859384",
          "status": "completed"
        },
        "tags": [],
        "colab": {
          "base_uri": "https://localhost:8080/",
          "height": 1000
        },
        "id": "2725bd25",
        "outputId": "6e3ab98f-589d-40e4-9ba8-c12f00273b72"
      },
      "outputs": [
        {
          "output_type": "display_data",
          "data": {
            "text/plain": [
              "<Figure size 576x1152 with 5 Axes>"
            ],
            "image/png": "[encoded data removed]"
          },
          "metadata": {
            "needs_background": "light"
          }
        }
      ],
      "source": [
        "# Cost features\n",
        "cost_features = ['RoomService', 'FoodCourt', 'ShoppingMall', 'Spa', 'VRDeck']\n",
        "\n",
        "# Plot Cost features\n",
        "fig=plt.figure(figsize=(8,16))\n",
        "for i,feature in enumerate(cost_features):\n",
        "    ax=fig.add_subplot(5,1,i+1)\n",
        "    sns.histplot(x= feature,data=df_train, hue ='Transported', bins=30,kde=True, axes=ax)\n",
        "    plt.ylim([0,100])\n",
        "    ax.set_title(feature)\n",
        "fig.tight_layout()  # Improves appearance a bit\n",
        "plt.show()        "
      ]
    },
    {
      "cell_type": "markdown",
      "id": "551673f4",
      "metadata": {
        "papermill": {
          "duration": 0.136352,
          "end_time": "2022-04-15T09:56:10.213101",
          "exception": false,
          "start_time": "2022-04-15T09:56:10.076749",
          "status": "completed"
        },
        "tags": [],
        "id": "551673f4"
      },
      "source": [
        "As we can see:\n",
        "* Most people don't spend any money and People who were transported tended to spend less.\n",
        "* RoomService, Spa and VRDeck have different distributions to FoodCourt and ShoppingMall ."
      ]
    },
    {
      "cell_type": "markdown",
      "id": "3851195a",
      "metadata": {
        "papermill": {
          "duration": 0.132899,
          "end_time": "2022-04-15T09:56:10.481866",
          "exception": false,
          "start_time": "2022-04-15T09:56:10.348967",
          "status": "completed"
        },
        "tags": [],
        "id": "3851195a"
      },
      "source": [
        "**Categorical features**"
      ]
    },
    {
      "cell_type": "code",
      "execution_count": 129,
      "id": "432a109d",
      "metadata": {
        "execution": {
          "iopub.execute_input": "2022-04-15T09:56:10.767081Z",
          "iopub.status.busy": "2022-04-15T09:56:10.766111Z",
          "iopub.status.idle": "2022-04-15T09:56:11.434626Z",
          "shell.execute_reply": "2022-04-15T09:56:11.435094Z",
          "shell.execute_reply.started": "2022-04-15T09:44:19.722721Z"
        },
        "papermill": {
          "duration": 0.818431,
          "end_time": "2022-04-15T09:56:11.435249",
          "exception": false,
          "start_time": "2022-04-15T09:56:10.616818",
          "status": "completed"
        },
        "tags": [],
        "colab": {
          "base_uri": "https://localhost:8080/",
          "height": 958
        },
        "id": "432a109d",
        "outputId": "9d0b6b59-3b06-44c3-8c2d-6b995574a209"
      },
      "outputs": [
        {
          "output_type": "display_data",
          "data": {
            "text/plain": [
              "<Figure size 576x1152 with 4 Axes>"
            ],
            "image/png": "[encoded data removed]"
          },
          "metadata": {
            "needs_background": "light"
          }
        }
      ],
      "source": [
        "# Categorical features\n",
        "Catego_features = ['HomePlanet', 'CryoSleep', 'Destination', 'VIP']\n",
        "\n",
        "# Plot categorical features\n",
        "fig=plt.figure(figsize=(8,16))\n",
        "for i,feature in enumerate(Catego_features):\n",
        "    ax=fig.add_subplot(5,1,i+1)\n",
        "    sns.countplot(x= feature,data=df_train, hue ='Transported', axes=ax,palette = \"cool_r\")\n",
        "    ax.set_title(feature)\n",
        "fig.tight_layout()  # Improves appearance a bit\n",
        "plt.show()   "
      ]
    },
    {
      "cell_type": "markdown",
      "id": "1eb70871",
      "metadata": {
        "papermill": {
          "duration": 0.139283,
          "end_time": "2022-04-15T09:56:11.711693",
          "exception": false,
          "start_time": "2022-04-15T09:56:11.572410",
          "status": "completed"
        },
        "tags": [],
        "id": "1eb70871"
      },
      "source": [
        "As we can see:\n",
        "* VIP does not appear to be a useful feature whereas CryoSleep appears the be a very useful feature in contrast."
      ]
    },
    {
      "cell_type": "markdown",
      "id": "c4830a3d",
      "metadata": {
        "papermill": {
          "duration": 0.142224,
          "end_time": "2022-04-15T09:56:11.995542",
          "exception": false,
          "start_time": "2022-04-15T09:56:11.853318",
          "status": "completed"
        },
        "tags": [],
        "id": "c4830a3d"
      },
      "source": [
        "<a id=\"1\"></a> <br>\n",
        "# 4. Feature engineering"
      ]
    },
    {
      "cell_type": "markdown",
      "id": "1b606ad9",
      "metadata": {
        "papermill": {
          "duration": 0.135549,
          "end_time": "2022-04-15T09:56:12.271183",
          "exception": false,
          "start_time": "2022-04-15T09:56:12.135634",
          "status": "completed"
        },
        "tags": [],
        "id": "1b606ad9"
      },
      "source": [
        "Bin age feature into groups. This will be helpful for filling missing values."
      ]
    },
    {
      "cell_type": "code",
      "execution_count": 130,
      "id": "0260ce8b",
      "metadata": {
        "execution": {
          "iopub.execute_input": "2022-04-15T09:56:12.562510Z",
          "iopub.status.busy": "2022-04-15T09:56:12.561859Z",
          "iopub.status.idle": "2022-04-15T09:56:12.564515Z",
          "shell.execute_reply": "2022-04-15T09:56:12.563910Z",
          "shell.execute_reply.started": "2022-04-15T09:44:20.467355Z"
        },
        "papermill": {
          "duration": 0.153924,
          "end_time": "2022-04-15T09:56:12.564644",
          "exception": false,
          "start_time": "2022-04-15T09:56:12.410720",
          "status": "completed"
        },
        "tags": [],
        "id": "0260ce8b"
      },
      "outputs": [],
      "source": [
        "# New feature--Age_group\n",
        "df_data['Age_group']=np.nan\n",
        "df_data['Age_group'] = df_data['Age'].apply(lambda x: '-12_Age' if x<12 else\n",
        "                                            '12-18_Age' if (x>=12) & (x<18) else\n",
        "                                            '18-25_Age' if (x>=18) & (x<25) else\n",
        "                                            '25-35_Age' if (x>=25) & (x<35) else\n",
        "                                            '35-50_Age' if (x>=35) & (x<50) else\n",
        "                                            '+50_Age' if x>=50 else None)"
      ]
    },
    {
      "cell_type": "code",
      "execution_count": 131,
      "id": "b00b9dc7",
      "metadata": {
        "execution": {
          "iopub.execute_input": "2022-04-15T09:56:12.846316Z",
          "iopub.status.busy": "2022-04-15T09:56:12.843646Z",
          "iopub.status.idle": "2022-04-15T09:56:13.119245Z",
          "shell.execute_reply": "2022-04-15T09:56:13.118706Z",
          "shell.execute_reply.started": "2022-04-15T09:44:20.869423Z"
        },
        "papermill": {
          "duration": 0.419178,
          "end_time": "2022-04-15T09:56:13.119374",
          "exception": false,
          "start_time": "2022-04-15T09:56:12.700196",
          "status": "completed"
        },
        "tags": [],
        "colab": {
          "base_uri": "https://localhost:8080/",
          "height": 369
        },
        "id": "b00b9dc7",
        "outputId": "563ab885-2f1f-42c1-a4b6-ee26ae70fd43"
      },
      "outputs": [
        {
          "output_type": "execute_result",
          "data": {
            "text/plain": [
              "Text(0.5, 1.0, 'Age group distribution')"
            ]
          },
          "metadata": {},
          "execution_count": 131
        },
        {
          "output_type": "display_data",
          "data": {
            "text/plain": [
              "<Figure size 864x360 with 1 Axes>"
            ],
            "image/png": "[encoded data removed]"
          },
          "metadata": {
            "needs_background": "light"
          }
        }
      ],
      "source": [
        "# Plot distribution of Age_group feature\n",
        "plt.figure(figsize=(12,5))\n",
        "sns.countplot(data=df_data[df_data.Transported.isnull()==False],palette = \"cool_r\", x='Age_group', hue='Transported', order=['-12_Age','12-18_Age','18-25_Age','25-35_Age','35-50_Age','+50_Age'])\n",
        "plt.title('Age group distribution')"
      ]
    },
    {
      "cell_type": "code",
      "execution_count": 132,
      "id": "9cfb34c3",
      "metadata": {
        "execution": {
          "iopub.execute_input": "2022-04-15T09:56:13.401249Z",
          "iopub.status.busy": "2022-04-15T09:56:13.400610Z",
          "iopub.status.idle": "2022-04-15T09:56:13.416713Z",
          "shell.execute_reply": "2022-04-15T09:56:13.417271Z",
          "shell.execute_reply.started": "2022-04-15T09:44:21.931896Z"
        },
        "papermill": {
          "duration": 0.160729,
          "end_time": "2022-04-15T09:56:13.417424",
          "exception": false,
          "start_time": "2022-04-15T09:56:13.256695",
          "status": "completed"
        },
        "tags": [],
        "id": "9cfb34c3"
      },
      "outputs": [],
      "source": [
        "# New features --Cost and No_Cost\n",
        "df_data['Cost'] = df_data[cost_features].sum(axis=1)\n",
        "df_data['No_Cost'] = df_data['Cost'].apply(lambda x: 1 if x==0 else 0 ).astype(int)"
      ]
    },
    {
      "cell_type": "code",
      "execution_count": 133,
      "id": "b81ba3f3",
      "metadata": {
        "execution": {
          "iopub.execute_input": "2022-04-15T09:56:13.699234Z",
          "iopub.status.busy": "2022-04-15T09:56:13.698613Z",
          "iopub.status.idle": "2022-04-15T09:56:15.510023Z",
          "shell.execute_reply": "2022-04-15T09:56:15.510570Z",
          "shell.execute_reply.started": "2022-04-15T09:44:23.012013Z"
        },
        "papermill": {
          "duration": 1.953337,
          "end_time": "2022-04-15T09:56:15.510737",
          "exception": false,
          "start_time": "2022-04-15T09:56:13.557400",
          "status": "completed"
        },
        "tags": [],
        "colab": {
          "base_uri": "https://localhost:8080/",
          "height": 369
        },
        "id": "b81ba3f3",
        "outputId": "ed775207-9eb8-4f9f-9ba2-2dbd65cd2693"
      },
      "outputs": [
        {
          "output_type": "display_data",
          "data": {
            "text/plain": [
              "<Figure size 864x360 with 2 Axes>"
            ],
            "image/png": "[encoded data removed]"
          },
          "metadata": {
            "needs_background": "light"
          }
        }
      ],
      "source": [
        "# Plot distribution of Cost and No_Cost features \n",
        "fig=plt.figure(figsize=(12,5))\n",
        "plt.subplot(1,2,1)\n",
        "sns.histplot(data=df_data[df_data.Transported.isnull()==False], x='Cost', hue='Transported', bins=200)\n",
        "plt.title('Total Cost (truncated)')\n",
        "plt.ylim([0,200])\n",
        "plt.xlim([0,20000])\n",
        "\n",
        "plt.subplot(1,2,2)\n",
        "sns.countplot(data=df_data[df_data.Transported.isnull()==False],palette = \"cool_r\", x='No_Cost', hue='Transported')\n",
        "plt.title('No Cost indicator')\n",
        "fig.tight_layout()"
      ]
    },
    {
      "cell_type": "markdown",
      "id": "8d11e4e4",
      "metadata": {
        "papermill": {
          "duration": 0.139107,
          "end_time": "2022-04-15T09:56:15.789951",
          "exception": false,
          "start_time": "2022-04-15T09:56:15.650844",
          "status": "completed"
        },
        "tags": [],
        "id": "8d11e4e4"
      },
      "source": [
        "Extract passenger group and group size from PassengerId."
      ]
    },
    {
      "cell_type": "code",
      "execution_count": 134,
      "id": "53f23f7c",
      "metadata": {
        "execution": {
          "iopub.execute_input": "2022-04-15T09:56:16.090322Z",
          "iopub.status.busy": "2022-04-15T09:56:16.089712Z",
          "iopub.status.idle": "2022-04-15T09:56:28.716847Z",
          "shell.execute_reply": "2022-04-15T09:56:28.715896Z",
          "shell.execute_reply.started": "2022-04-15T09:44:25.005253Z"
        },
        "papermill": {
          "duration": 12.788655,
          "end_time": "2022-04-15T09:56:28.716994",
          "exception": false,
          "start_time": "2022-04-15T09:56:15.928339",
          "status": "completed"
        },
        "tags": [],
        "id": "53f23f7c"
      },
      "outputs": [],
      "source": [
        "# New features --Passenger_Group and Passenger_Group_Size\n",
        "df_data['Passenger_Group'] = df_data['PassengerId'].apply(lambda x: x.split('_')[0]).astype(int)\n",
        "df_data['Passenger_Group_Size'] = df_data['Passenger_Group'].apply(lambda x: df_data['Passenger_Group'].value_counts()[x])"
      ]
    },
    {
      "cell_type": "code",
      "execution_count": 135,
      "id": "0f289cc3",
      "metadata": {
        "execution": {
          "iopub.execute_input": "2022-04-15T09:56:29.030303Z",
          "iopub.status.busy": "2022-04-15T09:56:29.025438Z",
          "iopub.status.idle": "2022-04-15T09:57:21.952097Z",
          "shell.execute_reply": "2022-04-15T09:57:21.952570Z",
          "shell.execute_reply.started": "2022-04-15T09:44:38.709804Z"
        },
        "papermill": {
          "duration": 53.086652,
          "end_time": "2022-04-15T09:57:21.952739",
          "exception": false,
          "start_time": "2022-04-15T09:56:28.866087",
          "status": "completed"
        },
        "tags": [],
        "colab": {
          "base_uri": "https://localhost:8080/",
          "height": 296
        },
        "id": "0f289cc3",
        "outputId": "b7eff450-38ae-4f8c-d6b3-5b397ea1c9cf"
      },
      "outputs": [
        {
          "output_type": "display_data",
          "data": {
            "text/plain": [
              "<Figure size 1440x288 with 2 Axes>"
            ],
            "image/png": "[encoded data removed]"
          },
          "metadata": {
            "needs_background": "light"
          }
        }
      ],
      "source": [
        "# Plot distribution of 'Passenger_Group and Passenger_Group_Size features \n",
        "plt.figure(figsize=(20,4))\n",
        "plt.subplot(1,2,1)\n",
        "sns.histplot(data=df_data[df_data.Transported.isnull()==False], x='Passenger_Group', hue='Transported', binwidth=1)\n",
        "plt.title('Passenger_Group')\n",
        "\n",
        "plt.subplot(1,2,2)\n",
        "sns.countplot(data=df_data[df_data.Transported.isnull()==False],palette = \"cool_r\", x='Passenger_Group_Size', hue='Transported')\n",
        "plt.title('Passenger_Group_Size')\n",
        "fig.tight_layout()"
      ]
    },
    {
      "cell_type": "code",
      "execution_count": 136,
      "id": "1a9954d3",
      "metadata": {
        "execution": {
          "iopub.execute_input": "2022-04-15T09:57:22.233818Z",
          "iopub.status.busy": "2022-04-15T09:57:22.233127Z",
          "iopub.status.idle": "2022-04-15T09:57:22.235107Z",
          "shell.execute_reply": "2022-04-15T09:57:22.235488Z",
          "shell.execute_reply.started": "2022-04-15T09:45:38.838547Z"
        },
        "papermill": {
          "duration": 0.144691,
          "end_time": "2022-04-15T09:57:22.235626",
          "exception": false,
          "start_time": "2022-04-15T09:57:22.090935",
          "status": "completed"
        },
        "tags": [],
        "id": "1a9954d3"
      },
      "outputs": [],
      "source": [
        "# New feature --Alone\n",
        "df_data['Alone']= (df_data['Passenger_Group_Size']==1).astype(int)"
      ]
    },
    {
      "cell_type": "code",
      "execution_count": 137,
      "id": "aa081684",
      "metadata": {
        "execution": {
          "iopub.execute_input": "2022-04-15T09:57:22.510127Z",
          "iopub.status.busy": "2022-04-15T09:57:22.509579Z",
          "iopub.status.idle": "2022-04-15T09:57:22.707082Z",
          "shell.execute_reply": "2022-04-15T09:57:22.706579Z",
          "shell.execute_reply.started": "2022-04-15T09:45:38.847082Z"
        },
        "papermill": {
          "duration": 0.338943,
          "end_time": "2022-04-15T09:57:22.707214",
          "exception": false,
          "start_time": "2022-04-15T09:57:22.368271",
          "status": "completed"
        },
        "tags": [],
        "colab": {
          "base_uri": "https://localhost:8080/",
          "height": 312
        },
        "id": "aa081684",
        "outputId": "2e4ef331-7309-46c2-a10b-10f3b8159ab1"
      },
      "outputs": [
        {
          "output_type": "execute_result",
          "data": {
            "text/plain": [
              "(0.0, 3000.0)"
            ]
          },
          "metadata": {},
          "execution_count": 137
        },
        {
          "output_type": "display_data",
          "data": {
            "text/plain": [
              "<Figure size 720x288 with 1 Axes>"
            ],
            "image/png": "[encoded data removed]"
          },
          "metadata": {
            "needs_background": "light"
          }
        }
      ],
      "source": [
        "# Plot distribution of Alone feature\n",
        "plt.figure(figsize=(10,4))\n",
        "sns.countplot(data=df_data[df_data.Transported.isnull()==False],palette = \"cool_r\", x='Alone', hue='Transported')\n",
        "plt.title('Passenger travelling Alone or not')\n",
        "plt.ylim([0,3000])"
      ]
    },
    {
      "cell_type": "markdown",
      "id": "4c97c154",
      "metadata": {
        "papermill": {
          "duration": 0.15499,
          "end_time": "2022-04-15T09:57:22.994828",
          "exception": false,
          "start_time": "2022-04-15T09:57:22.839838",
          "status": "completed"
        },
        "tags": [],
        "id": "4c97c154"
      },
      "source": [
        "Extract deck, number and side from cabin feature."
      ]
    },
    {
      "cell_type": "code",
      "execution_count": 138,
      "id": "725d2ebd",
      "metadata": {
        "execution": {
          "iopub.execute_input": "2022-04-15T09:57:23.281877Z",
          "iopub.status.busy": "2022-04-15T09:57:23.281123Z",
          "iopub.status.idle": "2022-04-15T09:57:23.283021Z",
          "shell.execute_reply": "2022-04-15T09:57:23.283548Z",
          "shell.execute_reply.started": "2022-04-15T09:45:39.100504Z"
        },
        "papermill": {
          "duration": 0.147672,
          "end_time": "2022-04-15T09:57:23.283688",
          "exception": false,
          "start_time": "2022-04-15T09:57:23.136016",
          "status": "completed"
        },
        "tags": [],
        "id": "725d2ebd"
      },
      "outputs": [],
      "source": [
        "# Replace NaN's with outliers for now\n",
        "df_data['Cabin'].fillna('Z/9999/Z',inplace=True)"
      ]
    },
    {
      "cell_type": "code",
      "execution_count": 139,
      "id": "6649be60",
      "metadata": {
        "execution": {
          "iopub.execute_input": "2022-04-15T09:57:23.563589Z",
          "iopub.status.busy": "2022-04-15T09:57:23.562897Z",
          "iopub.status.idle": "2022-04-15T09:57:23.586074Z",
          "shell.execute_reply": "2022-04-15T09:57:23.586513Z",
          "shell.execute_reply.started": "2022-04-15T09:45:39.111233Z"
        },
        "papermill": {
          "duration": 0.168041,
          "end_time": "2022-04-15T09:57:23.586671",
          "exception": false,
          "start_time": "2022-04-15T09:57:23.418630",
          "status": "completed"
        },
        "tags": [],
        "id": "6649be60"
      },
      "outputs": [],
      "source": [
        "# New features --Cabin_deck, Cabin_number and Cabin_side features\n",
        "df_data['Cabin_deck'] = df_data['Cabin'].apply(lambda x: x.split('/')[0])\n",
        "df_data['Cabin_number'] = df_data['Cabin'].apply(lambda x: x.split('/')[1]).astype(int)\n",
        "df_data['Cabin_side'] = df_data['Cabin'].apply(lambda x: x.split('/')[2])"
      ]
    },
    {
      "cell_type": "code",
      "execution_count": 140,
      "id": "ccff7413",
      "metadata": {
        "execution": {
          "iopub.execute_input": "2022-04-15T09:57:23.865414Z",
          "iopub.status.busy": "2022-04-15T09:57:23.864745Z",
          "iopub.status.idle": "2022-04-15T09:57:23.874607Z",
          "shell.execute_reply": "2022-04-15T09:57:23.875082Z",
          "shell.execute_reply.started": "2022-04-15T09:45:39.148233Z"
        },
        "papermill": {
          "duration": 0.150371,
          "end_time": "2022-04-15T09:57:23.875244",
          "exception": false,
          "start_time": "2022-04-15T09:57:23.724873",
          "status": "completed"
        },
        "tags": [],
        "id": "ccff7413"
      },
      "outputs": [],
      "source": [
        "# Put Nan's back in (we will fill these later)\n",
        "df_data.loc[df_data['Cabin_deck']=='Z', 'Cabin_deck']=np.nan\n",
        "df_data.loc[df_data['Cabin_number']==9999, 'Cabin_number']=np.nan\n",
        "df_data.loc[df_data['Cabin_side']=='Z', 'Cabin_side']=np.nan"
      ]
    },
    {
      "cell_type": "code",
      "execution_count": 141,
      "id": "93a8ba95",
      "metadata": {
        "execution": {
          "iopub.execute_input": "2022-04-15T09:57:24.148965Z",
          "iopub.status.busy": "2022-04-15T09:57:24.148457Z",
          "iopub.status.idle": "2022-04-15T09:57:24.155632Z",
          "shell.execute_reply": "2022-04-15T09:57:24.156028Z",
          "shell.execute_reply.started": "2022-04-15T09:45:39.170572Z"
        },
        "papermill": {
          "duration": 0.145154,
          "end_time": "2022-04-15T09:57:24.156181",
          "exception": false,
          "start_time": "2022-04-15T09:57:24.011027",
          "status": "completed"
        },
        "tags": [],
        "id": "93a8ba95"
      },
      "outputs": [],
      "source": [
        "# Drop Cabin feature\n",
        "df_data.drop('Cabin',axis=1, inplace=True)"
      ]
    },
    {
      "cell_type": "code",
      "execution_count": 142,
      "id": "a6860415",
      "metadata": {
        "execution": {
          "iopub.execute_input": "2022-04-15T09:57:24.433777Z",
          "iopub.status.busy": "2022-04-15T09:57:24.433238Z",
          "iopub.status.idle": "2022-04-15T09:57:25.694101Z",
          "shell.execute_reply": "2022-04-15T09:57:25.693610Z",
          "shell.execute_reply.started": "2022-04-15T09:45:39.193603Z"
        },
        "papermill": {
          "duration": 1.401289,
          "end_time": "2022-04-15T09:57:25.694222",
          "exception": false,
          "start_time": "2022-04-15T09:57:24.292933",
          "status": "completed"
        },
        "tags": [],
        "colab": {
          "base_uri": "https://localhost:8080/",
          "height": 1000
        },
        "id": "a6860415",
        "outputId": "437763dd-4fe8-4a40-89db-7055ecf3ba8b"
      },
      "outputs": [
        {
          "output_type": "display_data",
          "data": {
            "text/plain": [
              "<Figure size 1080x1080 with 3 Axes>"
            ],
            "image/png": "[encoded data removed]"
          },
          "metadata": {
            "needs_background": "light"
          }
        }
      ],
      "source": [
        "# Plot distribution of Cabin_deck,Cabin_number and Cabin_side features\n",
        "fig=plt.figure(figsize=(15,15))\n",
        "plt.subplot(3,1,1)\n",
        "sns.countplot(data=df_data[df_data.Transported.isnull()==False],palette = \"cool_r\", x='Cabin_deck', hue='Transported', order=['A','B','C','D','E','F','G','T'])\n",
        "plt.title('Cabin deck')\n",
        "\n",
        "plt.subplot(3,1,2)\n",
        "sns.histplot(data=df_data[df_data.Transported.isnull()==False], x='Cabin_number', hue='Transported',binwidth=20)\n",
        "plt.vlines(300, ymin=0, ymax=200, color='blue')\n",
        "plt.vlines(600, ymin=0, ymax=200, color='blue')\n",
        "plt.vlines(900, ymin=0, ymax=200, color='blue')\n",
        "plt.vlines(1200, ymin=0, ymax=200, color='blue')\n",
        "plt.vlines(1500, ymin=0, ymax=200, color='blue')\n",
        "plt.vlines(1800, ymin=0, ymax=200, color='blue')\n",
        "plt.title('Cabin number')\n",
        "plt.xlim([0,2000])\n",
        "\n",
        "plt.subplot(3,1,3)\n",
        "sns.countplot(data=df_data[df_data.Transported.isnull()==False],palette = \"cool_r\", x='Cabin_side', hue='Transported')\n",
        "plt.title('Cabin side')\n",
        "fig.tight_layout()"
      ]
    },
    {
      "cell_type": "markdown",
      "id": "c7bbd165",
      "metadata": {
        "papermill": {
          "duration": 0.151124,
          "end_time": "2022-04-15T09:57:25.979599",
          "exception": false,
          "start_time": "2022-04-15T09:57:25.828475",
          "status": "completed"
        },
        "tags": [],
        "id": "c7bbd165"
      },
      "source": [
        "As we can see from Cabin_number is grouped into Collections of 300 cabins. This means we can compress this feature into a categorical one, which indicates which Collection each passenger is in. Furthermore ، The cabin deck 'T' seems to be an outlier."
      ]
    },
    {
      "cell_type": "code",
      "execution_count": 143,
      "id": "1fc244fd",
      "metadata": {
        "execution": {
          "iopub.execute_input": "2022-04-15T09:57:26.280007Z",
          "iopub.status.busy": "2022-04-15T09:57:26.279130Z",
          "iopub.status.idle": "2022-04-15T09:57:26.287223Z",
          "shell.execute_reply": "2022-04-15T09:57:26.287623Z",
          "shell.execute_reply.started": "2022-04-15T09:45:40.708918Z"
        },
        "papermill": {
          "duration": 0.154216,
          "end_time": "2022-04-15T09:57:26.287770",
          "exception": false,
          "start_time": "2022-04-15T09:57:26.133554",
          "status": "completed"
        },
        "tags": [],
        "id": "1fc244fd"
      },
      "outputs": [],
      "source": [
        "# New features \n",
        "df_data['Cabin_Part1']=(df_data['Cabin_number']<300).astype(int)   # one-hot encoding\n",
        "df_data['Cabin_Part2']=((df_data['Cabin_number']>=300) & (df_data['Cabin_number']<600)).astype(int)\n",
        "df_data['Cabin_Part3']=((df_data['Cabin_number']>=600) & (df_data['Cabin_number']<900)).astype(int)\n",
        "df_data['Cabin_Part4']=((df_data['Cabin_number']>=900) & (df_data['Cabin_number']<1200)).astype(int)\n",
        "df_data['Cabin_Part5']=((df_data['Cabin_number']>=1200) & (df_data['Cabin_number']<1500)).astype(int)\n",
        "df_data['Cabin_Part6']=((df_data['Cabin_number']>=1500) & (df_data['Cabin_number']<1800)).astype(int)\n",
        "df_data['Cabin_Part7']=(df_data['Cabin_number']>=1800).astype(int)"
      ]
    },
    {
      "cell_type": "markdown",
      "id": "1c14ee10",
      "metadata": {
        "papermill": {
          "duration": 0.136495,
          "end_time": "2022-04-15T09:57:26.565071",
          "exception": false,
          "start_time": "2022-04-15T09:57:26.428576",
          "status": "completed"
        },
        "tags": [],
        "id": "1c14ee10"
      },
      "source": [
        "**Last name**"
      ]
    },
    {
      "cell_type": "code",
      "execution_count": 144,
      "id": "7cf48a9d",
      "metadata": {
        "execution": {
          "iopub.execute_input": "2022-04-15T09:57:26.842710Z",
          "iopub.status.busy": "2022-04-15T09:57:26.841857Z",
          "iopub.status.idle": "2022-04-15T09:58:07.799764Z",
          "shell.execute_reply": "2022-04-15T09:58:07.799242Z",
          "shell.execute_reply.started": "2022-04-15T09:45:40.729288Z"
        },
        "papermill": {
          "duration": 41.098367,
          "end_time": "2022-04-15T09:58:07.799913",
          "exception": false,
          "start_time": "2022-04-15T09:57:26.701546",
          "status": "completed"
        },
        "tags": [],
        "id": "7cf48a9d"
      },
      "outputs": [],
      "source": [
        "# Replace NaN's with outliers for now \n",
        "df_data['Name'].replace(np.nan,'Unknown Unknown', inplace=True)\n",
        "\n",
        "# New feature - Last_Name\n",
        "df_data['Last_Name']=df_data['Name'].apply(lambda x: x.split()[1])\n",
        "\n",
        "# New feature - 'Family_Size\n",
        "df_data['Family_Size'] = df_data['Last_Name'].apply(lambda x: df_data['Last_Name'].value_counts()[x])"
      ]
    },
    {
      "cell_type": "code",
      "execution_count": 145,
      "id": "5091b224",
      "metadata": {
        "execution": {
          "iopub.execute_input": "2022-04-15T09:58:08.081562Z",
          "iopub.status.busy": "2022-04-15T09:58:08.080898Z",
          "iopub.status.idle": "2022-04-15T09:58:08.083108Z",
          "shell.execute_reply": "2022-04-15T09:58:08.083517Z",
          "shell.execute_reply.started": "2022-04-15T09:46:29.773662Z"
        },
        "papermill": {
          "duration": 0.146509,
          "end_time": "2022-04-15T09:58:08.083676",
          "exception": false,
          "start_time": "2022-04-15T09:58:07.937167",
          "status": "completed"
        },
        "tags": [],
        "id": "5091b224"
      },
      "outputs": [],
      "source": [
        "# Put Nan's back in (we will fill these later)\n",
        "df_data['Last_Name'].replace('Unknown',np.nan,inplace=True)\n",
        "df_data.loc[df_data['Family_Size']>100,'Family_Size']=np.nan"
      ]
    },
    {
      "cell_type": "code",
      "execution_count": 146,
      "id": "5dc2a75b",
      "metadata": {
        "execution": {
          "iopub.execute_input": "2022-04-15T09:58:08.368659Z",
          "iopub.status.busy": "2022-04-15T09:58:08.367357Z",
          "iopub.status.idle": "2022-04-15T09:58:08.373888Z",
          "shell.execute_reply": "2022-04-15T09:58:08.374342Z",
          "shell.execute_reply.started": "2022-04-15T09:46:29.785473Z"
        },
        "papermill": {
          "duration": 0.15279,
          "end_time": "2022-04-15T09:58:08.374487",
          "exception": false,
          "start_time": "2022-04-15T09:58:08.221697",
          "status": "completed"
        },
        "tags": [],
        "id": "5dc2a75b"
      },
      "outputs": [],
      "source": [
        "# Drop name feature\n",
        "df_data.drop('Name',axis=1, inplace=True)"
      ]
    },
    {
      "cell_type": "code",
      "execution_count": 147,
      "id": "eae6d4c7",
      "metadata": {
        "execution": {
          "iopub.execute_input": "2022-04-15T09:58:08.651485Z",
          "iopub.status.busy": "2022-04-15T09:58:08.650879Z",
          "iopub.status.idle": "2022-04-15T09:58:09.030432Z",
          "shell.execute_reply": "2022-04-15T09:58:09.030922Z",
          "shell.execute_reply.started": "2022-04-15T09:46:29.806581Z"
        },
        "papermill": {
          "duration": 0.520795,
          "end_time": "2022-04-15T09:58:09.031104",
          "exception": false,
          "start_time": "2022-04-15T09:58:08.510309",
          "status": "completed"
        },
        "tags": [],
        "colab": {
          "base_uri": "https://localhost:8080/",
          "height": 313
        },
        "id": "eae6d4c7",
        "outputId": "0b3dfb03-7133-450f-aaa2-64b56e6559ec"
      },
      "outputs": [
        {
          "output_type": "execute_result",
          "data": {
            "text/plain": [
              "Text(0.5, 1.0, 'Family Size')"
            ]
          },
          "metadata": {},
          "execution_count": 147
        },
        {
          "output_type": "display_data",
          "data": {
            "text/plain": [
              "<Figure size 864x288 with 1 Axes>"
            ],
            "image/png": "[encoded data removed]"
          },
          "metadata": {
            "needs_background": "light"
          }
        }
      ],
      "source": [
        "# Plot distribution of Family_Size feature\n",
        "plt.figure(figsize=(12,4))\n",
        "sns.countplot(data=df_data[df_data.Transported.isnull()==False],palette = \"cool_r\", x='Family_Size', hue='Transported')\n",
        "plt.title('Family Size')"
      ]
    },
    {
      "cell_type": "markdown",
      "id": "52130303",
      "metadata": {
        "papermill": {
          "duration": 0.13803,
          "end_time": "2022-04-15T09:58:09.309925",
          "exception": false,
          "start_time": "2022-04-15T09:58:09.171895",
          "status": "completed"
        },
        "tags": [],
        "id": "52130303"
      },
      "source": [
        "<a id=\"1\"></a> <br>\n",
        "# 5. Missing Values"
      ]
    },
    {
      "cell_type": "code",
      "execution_count": 148,
      "id": "74c88149",
      "metadata": {
        "execution": {
          "iopub.execute_input": "2022-04-15T09:58:09.590620Z",
          "iopub.status.busy": "2022-04-15T09:58:09.589972Z",
          "iopub.status.idle": "2022-04-15T09:58:09.609805Z",
          "shell.execute_reply": "2022-04-15T09:58:09.610355Z",
          "shell.execute_reply.started": "2022-04-15T09:46:30.249652Z"
        },
        "papermill": {
          "duration": 0.161805,
          "end_time": "2022-04-15T09:58:09.610494",
          "exception": false,
          "start_time": "2022-04-15T09:58:09.448689",
          "status": "completed"
        },
        "tags": [],
        "colab": {
          "base_uri": "https://localhost:8080/"
        },
        "id": "74c88149",
        "outputId": "2c65e9d8-9f00-4162-9d44-a0e586c5c770"
      },
      "outputs": [
        {
          "output_type": "execute_result",
          "data": {
            "text/plain": [
              "PassengerId                0\n",
              "HomePlanet               288\n",
              "CryoSleep                310\n",
              "Destination              274\n",
              "Age                      270\n",
              "VIP                      296\n",
              "RoomService              263\n",
              "FoodCourt                289\n",
              "ShoppingMall             306\n",
              "Spa                      284\n",
              "VRDeck                   268\n",
              "Transported             4277\n",
              "Age_group                270\n",
              "Cost                       0\n",
              "No_Cost                    0\n",
              "Passenger_Group            0\n",
              "Passenger_Group_Size       0\n",
              "Alone                      0\n",
              "Cabin_deck               299\n",
              "Cabin_number             299\n",
              "Cabin_side               299\n",
              "Cabin_Part1                0\n",
              "Cabin_Part2                0\n",
              "Cabin_Part3                0\n",
              "Cabin_Part4                0\n",
              "Cabin_Part5                0\n",
              "Cabin_Part6                0\n",
              "Cabin_Part7                0\n",
              "Last_Name                294\n",
              "Family_Size              294\n",
              "dtype: int64"
            ]
          },
          "metadata": {},
          "execution_count": 148
        }
      ],
      "source": [
        "df_data.isnull().sum()"
      ]
    },
    {
      "cell_type": "code",
      "execution_count": 149,
      "id": "2ca2c9c0",
      "metadata": {
        "execution": {
          "iopub.execute_input": "2022-04-15T09:58:09.895994Z",
          "iopub.status.busy": "2022-04-15T09:58:09.895150Z",
          "iopub.status.idle": "2022-04-15T09:58:09.940566Z",
          "shell.execute_reply": "2022-04-15T09:58:09.940024Z",
          "shell.execute_reply.started": "2022-04-15T09:46:30.277808Z"
        },
        "papermill": {
          "duration": 0.191725,
          "end_time": "2022-04-15T09:58:09.940693",
          "exception": false,
          "start_time": "2022-04-15T09:58:09.748968",
          "status": "completed"
        },
        "tags": [],
        "colab": {
          "base_uri": "https://localhost:8080/",
          "height": 551
        },
        "id": "2ca2c9c0",
        "outputId": "cbf30f19-79af-473e-bf3f-93d148db1e94"
      },
      "outputs": [
        {
          "output_type": "execute_result",
          "data": {
            "text/plain": [
              "              Number Of Missing  Percentage Of Missing\n",
              "HomePlanet                  288                   2.22\n",
              "CryoSleep                   310                   2.39\n",
              "Destination                 274                   2.11\n",
              "Age                         270                   2.08\n",
              "VIP                         296                   2.28\n",
              "RoomService                 263                   2.03\n",
              "FoodCourt                   289                   2.23\n",
              "ShoppingMall                306                   2.36\n",
              "Spa                         284                   2.19\n",
              "VRDeck                      268                   2.07\n",
              "Age_group                   270                   2.08\n",
              "Cabin_deck                  299                   2.31\n",
              "Cabin_number                299                   2.31\n",
              "Cabin_side                  299                   2.31\n",
              "Last_Name                   294                   2.27\n",
              "Family_Size                 294                   2.27"
            ],
            "text/html": [
              "\n",
              "  <div id=\"df-0af1f01f-a3da-4f2b-9381-7f8ab468b98f\">\n",
              "    <div class=\"colab-df-container\">\n",
              "      <div>\n",
              "<style scoped>\n",
              "    .dataframe tbody tr th:only-of-type {\n",
              "        vertical-align: middle;\n",
              "    }\n",
              "\n",
              "    .dataframe tbody tr th {\n",
              "        vertical-align: top;\n",
              "    }\n",
              "\n",
              "    .dataframe thead th {\n",
              "        text-align: right;\n",
              "    }\n",
              "</style>\n",
              "<table border=\"1\" class=\"dataframe\">\n",
              "  <thead>\n",
              "    <tr style=\"text-align: right;\">\n",
              "      <th></th>\n",
              "      <th>Number Of Missing</th>\n",
              "      <th>Percentage Of Missing</th>\n",
              "    </tr>\n",
              "  </thead>\n",
              "  <tbody>\n",
              "    <tr>\n",
              "      <th>HomePlanet</th>\n",
              "      <td>288</td>\n",
              "      <td>2.22</td>\n",
              "    </tr>\n",
              "    <tr>\n",
              "      <th>CryoSleep</th>\n",
              "      <td>310</td>\n",
              "      <td>2.39</td>\n",
              "    </tr>\n",
              "    <tr>\n",
              "      <th>Destination</th>\n",
              "      <td>274</td>\n",
              "      <td>2.11</td>\n",
              "    </tr>\n",
              "    <tr>\n",
              "      <th>Age</th>\n",
              "      <td>270</td>\n",
              "      <td>2.08</td>\n",
              "    </tr>\n",
              "    <tr>\n",
              "      <th>VIP</th>\n",
              "      <td>296</td>\n",
              "      <td>2.28</td>\n",
              "    </tr>\n",
              "    <tr>\n",
              "      <th>RoomService</th>\n",
              "      <td>263</td>\n",
              "      <td>2.03</td>\n",
              "    </tr>\n",
              "    <tr>\n",
              "      <th>FoodCourt</th>\n",
              "      <td>289</td>\n",
              "      <td>2.23</td>\n",
              "    </tr>\n",
              "    <tr>\n",
              "      <th>ShoppingMall</th>\n",
              "      <td>306</td>\n",
              "      <td>2.36</td>\n",
              "    </tr>\n",
              "    <tr>\n",
              "      <th>Spa</th>\n",
              "      <td>284</td>\n",
              "      <td>2.19</td>\n",
              "    </tr>\n",
              "    <tr>\n",
              "      <th>VRDeck</th>\n",
              "      <td>268</td>\n",
              "      <td>2.07</td>\n",
              "    </tr>\n",
              "    <tr>\n",
              "      <th>Age_group</th>\n",
              "      <td>270</td>\n",
              "      <td>2.08</td>\n",
              "    </tr>\n",
              "    <tr>\n",
              "      <th>Cabin_deck</th>\n",
              "      <td>299</td>\n",
              "      <td>2.31</td>\n",
              "    </tr>\n",
              "    <tr>\n",
              "      <th>Cabin_number</th>\n",
              "      <td>299</td>\n",
              "      <td>2.31</td>\n",
              "    </tr>\n",
              "    <tr>\n",
              "      <th>Cabin_side</th>\n",
              "      <td>299</td>\n",
              "      <td>2.31</td>\n",
              "    </tr>\n",
              "    <tr>\n",
              "      <th>Last_Name</th>\n",
              "      <td>294</td>\n",
              "      <td>2.27</td>\n",
              "    </tr>\n",
              "    <tr>\n",
              "      <th>Family_Size</th>\n",
              "      <td>294</td>\n",
              "      <td>2.27</td>\n",
              "    </tr>\n",
              "  </tbody>\n",
              "</table>\n",
              "</div>\n",
              "      <button class=\"colab-df-convert\" onclick=\"convertToInteractive('df-0af1f01f-a3da-4f2b-9381-7f8ab468b98f')\"\n",
              "              title=\"Convert this dataframe to an interactive table.\"\n",
              "              style=\"display:none;\">\n",
              "        \n",
              "  <svg xmlns=\"http://www.w3.org/2000/svg\" height=\"24px\"viewBox=\"0 0 24 24\"\n",
              "       width=\"24px\">\n",
              "    <path d=\"M0 0h24v24H0V0z\" fill=\"none\"/>\n",
              "    <path d=\"M18.56 5.44l.94 2.06.94-2.06 2.06-.94-2.06-.94-.94-2.06-.94 2.06-2.06.94zm-11 1L8.5 8.5l.94-2.06 2.06-.94-2.06-.94L8.5 2.5l-.94 2.06-2.06.94zm10 10l.94 2.06.94-2.06 2.06-.94-2.06-.94-.94-2.06-.94 2.06-2.06.94z\"/><path d=\"M17.41 7.96l-1.37-1.37c-.4-.4-.92-.59-1.43-.59-.52 0-1.04.2-1.43.59L10.3 9.45l-7.72 7.72c-.78.78-.78 2.05 0 2.83L4 21.41c.39.39.9.59 1.41.59.51 0 1.02-.2 1.41-.59l7.78-7.78 2.81-2.81c.8-.78.8-2.07 0-2.86zM5.41 20L4 18.59l7.72-7.72 1.47 1.35L5.41 20z\"/>\n",
              "  </svg>\n",
              "      </button>\n",
              "      \n",
              "  <style>\n",
              "    .colab-df-container {\n",
              "      display:flex;\n",
              "      flex-wrap:wrap;\n",
              "      gap: 12px;\n",
              "    }\n",
              "\n",
              "    .colab-df-convert {\n",
              "      background-color: #E8F0FE;\n",
              "      border: none;\n",
              "      border-radius: 50%;\n",
              "      cursor: pointer;\n",
              "      display: none;\n",
              "      fill: #1967D2;\n",
              "      height: 32px;\n",
              "      padding: 0 0 0 0;\n",
              "      width: 32px;\n",
              "    }\n",
              "\n",
              "    .colab-df-convert:hover {\n",
              "      background-color: #E2EBFA;\n",
              "      box-shadow: 0px 1px 2px rgba(60, 64, 67, 0.3), 0px 1px 3px 1px rgba(60, 64, 67, 0.15);\n",
              "      fill: #174EA6;\n",
              "    }\n",
              "\n",
              "    [theme=dark] .colab-df-convert {\n",
              "      background-color: #3B4455;\n",
              "      fill: #D2E3FC;\n",
              "    }\n",
              "\n",
              "    [theme=dark] .colab-df-convert:hover {\n",
              "      background-color: #434B5C;\n",
              "      box-shadow: 0px 1px 3px 1px rgba(0, 0, 0, 0.15);\n",
              "      filter: drop-shadow(0px 1px 2px rgba(0, 0, 0, 0.3));\n",
              "      fill: #FFFFFF;\n",
              "    }\n",
              "  </style>\n",
              "\n",
              "      <script>\n",
              "        const buttonEl =\n",
              "          document.querySelector('#df-0af1f01f-a3da-4f2b-9381-7f8ab468b98f button.colab-df-convert');\n",
              "        buttonEl.style.display =\n",
              "          google.colab.kernel.accessAllowed ? 'block' : 'none';\n",
              "\n",
              "        async function convertToInteractive(key) {\n",
              "          const element = document.querySelector('#df-0af1f01f-a3da-4f2b-9381-7f8ab468b98f');\n",
              "          const dataTable =\n",
              "            await google.colab.kernel.invokeFunction('convertToInteractive',\n",
              "                                                     [key], {});\n",
              "          if (!dataTable) return;\n",
              "\n",
              "          const docLinkHtml = 'Like what you see? Visit the ' +\n",
              "            '<a target=\"_blank\" href=https://colab.research.google.com/notebooks/data_table.ipynb>data table notebook</a>'\n",
              "            + ' to learn more about interactive tables.';\n",
              "          element.innerHTML = '';\n",
              "          dataTable['output_type'] = 'display_data';\n",
              "          await google.colab.output.renderOutput(dataTable, element);\n",
              "          const docLink = document.createElement('div');\n",
              "          docLink.innerHTML = docLinkHtml;\n",
              "          element.appendChild(docLink);\n",
              "        }\n",
              "      </script>\n",
              "    </div>\n",
              "  </div>\n",
              "  "
            ]
          },
          "metadata": {},
          "execution_count": 149
        }
      ],
      "source": [
        "missing_values = [col for col in df_data.columns if df_data[col].isnull().any()]\n",
        "missing_values.remove('Transported')\n",
        "S=pd.DataFrame(df_data[missing_values].isnull().sum(), columns=['Number Of Missing'])\n",
        "S['Percentage Of Missing'] = np.round(S['Number Of Missing'].apply(lambda x: x*100/len(df_data)),2)\n",
        "S"
      ]
    },
    {
      "cell_type": "code",
      "execution_count": 150,
      "id": "69c3180b",
      "metadata": {
        "execution": {
          "iopub.execute_input": "2022-04-15T09:58:10.223772Z",
          "iopub.status.busy": "2022-04-15T09:58:10.222904Z",
          "iopub.status.idle": "2022-04-15T09:58:10.511886Z",
          "shell.execute_reply": "2022-04-15T09:58:10.511328Z",
          "shell.execute_reply.started": "2022-04-15T09:46:30.338264Z"
        },
        "papermill": {
          "duration": 0.432933,
          "end_time": "2022-04-15T09:58:10.512016",
          "exception": false,
          "start_time": "2022-04-15T09:58:10.079083",
          "status": "completed"
        },
        "tags": [],
        "colab": {
          "base_uri": "https://localhost:8080/",
          "height": 351
        },
        "id": "69c3180b",
        "outputId": "ef3ec7f4-770b-4e23-c2ab-31935c305e23"
      },
      "outputs": [
        {
          "output_type": "display_data",
          "data": {
            "text/plain": [
              "<Figure size 864x360 with 1 Axes>"
            ],
            "image/png": "[encoded data removed]"
          },
          "metadata": {
            "needs_background": "light"
          }
        }
      ],
      "source": [
        "# Countplot of number of missing values by passenger\n",
        "df_data['NaN_count']=df_data.isnull().sum(axis=1)\n",
        "plt.figure(figsize=(12,5))\n",
        "sns.countplot(data=df_data, x='NaN_count', hue='Transported',palette = \"cool_r\")\n",
        "plt.title('Number of missing entries by passenger')\n",
        "df_data.drop('NaN_count', axis=1, inplace=True)"
      ]
    },
    {
      "cell_type": "markdown",
      "id": "8e907aff",
      "metadata": {
        "papermill": {
          "duration": 0.141072,
          "end_time": "2022-04-15T09:58:10.843294",
          "exception": false,
          "start_time": "2022-04-15T09:58:10.702222",
          "status": "completed"
        },
        "tags": [],
        "id": "8e907aff"
      },
      "source": [
        "*As we can see:*\n",
        "\n",
        "Missing values are independent of the target and about 25% of all passengers have at least 1 missing value."
      ]
    },
    {
      "cell_type": "markdown",
      "id": "c0bcc140",
      "metadata": {
        "papermill": {
          "duration": 0.139108,
          "end_time": "2022-04-15T09:58:11.125373",
          "exception": false,
          "start_time": "2022-04-15T09:58:10.986265",
          "status": "completed"
        },
        "tags": [],
        "id": "c0bcc140"
      },
      "source": [
        "The **easiest** way to deal with missing values is to just use the **median** for continuous features and the **mode** for categorical features but To improve accuracy of our models then we need to look for patterns within the missing data. The way to do this is by looking at the **joint distribution** of features."
      ]
    },
    {
      "cell_type": "markdown",
      "id": "3eecb659",
      "metadata": {
        "papermill": {
          "duration": 0.139352,
          "end_time": "2022-04-15T09:58:11.406772",
          "exception": false,
          "start_time": "2022-04-15T09:58:11.267420",
          "status": "completed"
        },
        "tags": [],
        "id": "3eecb659"
      },
      "source": [
        "**HomePlanet:**"
      ]
    },
    {
      "cell_type": "markdown",
      "id": "4d717cfc",
      "metadata": {
        "papermill": {
          "duration": 0.139687,
          "end_time": "2022-04-15T09:58:11.687096",
          "exception": false,
          "start_time": "2022-04-15T09:58:11.547409",
          "status": "completed"
        },
        "tags": [],
        "id": "4d717cfc"
      },
      "source": [
        "**HomePlanet and Passenger_Group**\n"
      ]
    },
    {
      "cell_type": "code",
      "execution_count": 151,
      "id": "651c95c8",
      "metadata": {
        "execution": {
          "iopub.execute_input": "2022-04-15T09:58:11.983921Z",
          "iopub.status.busy": "2022-04-15T09:58:11.983399Z",
          "iopub.status.idle": "2022-04-15T09:58:12.006322Z",
          "shell.execute_reply": "2022-04-15T09:58:12.005782Z",
          "shell.execute_reply.started": "2022-04-15T09:46:30.678804Z"
        },
        "papermill": {
          "duration": 0.164799,
          "end_time": "2022-04-15T09:58:12.006435",
          "exception": false,
          "start_time": "2022-04-15T09:58:11.841636",
          "status": "completed"
        },
        "tags": [],
        "colab": {
          "base_uri": "https://localhost:8080/",
          "height": 238
        },
        "id": "651c95c8",
        "outputId": "32a1c592-0bbb-4422-f6f4-1b959334d4b6"
      },
      "outputs": [
        {
          "output_type": "execute_result",
          "data": {
            "text/plain": [
              "HomePlanet       Earth  Europa  Mars\n",
              "Passenger_Group                     \n",
              "1                    0       1     0\n",
              "2                    1       0     0\n",
              "3                    0       2     0\n",
              "4                    1       0     0\n",
              "5                    1       0     0"
            ],
            "text/html": [
              "\n",
              "  <div id=\"df-1634da6c-5d6c-4ff5-a792-7835f8e1f78c\">\n",
              "    <div class=\"colab-df-container\">\n",
              "      <div>\n",
              "<style scoped>\n",
              "    .dataframe tbody tr th:only-of-type {\n",
              "        vertical-align: middle;\n",
              "    }\n",
              "\n",
              "    .dataframe tbody tr th {\n",
              "        vertical-align: top;\n",
              "    }\n",
              "\n",
              "    .dataframe thead th {\n",
              "        text-align: right;\n",
              "    }\n",
              "</style>\n",
              "<table border=\"1\" class=\"dataframe\">\n",
              "  <thead>\n",
              "    <tr style=\"text-align: right;\">\n",
              "      <th>HomePlanet</th>\n",
              "      <th>Earth</th>\n",
              "      <th>Europa</th>\n",
              "      <th>Mars</th>\n",
              "    </tr>\n",
              "    <tr>\n",
              "      <th>Passenger_Group</th>\n",
              "      <th></th>\n",
              "      <th></th>\n",
              "      <th></th>\n",
              "    </tr>\n",
              "  </thead>\n",
              "  <tbody>\n",
              "    <tr>\n",
              "      <th>1</th>\n",
              "      <td>0</td>\n",
              "      <td>1</td>\n",
              "      <td>0</td>\n",
              "    </tr>\n",
              "    <tr>\n",
              "      <th>2</th>\n",
              "      <td>1</td>\n",
              "      <td>0</td>\n",
              "      <td>0</td>\n",
              "    </tr>\n",
              "    <tr>\n",
              "      <th>3</th>\n",
              "      <td>0</td>\n",
              "      <td>2</td>\n",
              "      <td>0</td>\n",
              "    </tr>\n",
              "    <tr>\n",
              "      <th>4</th>\n",
              "      <td>1</td>\n",
              "      <td>0</td>\n",
              "      <td>0</td>\n",
              "    </tr>\n",
              "    <tr>\n",
              "      <th>5</th>\n",
              "      <td>1</td>\n",
              "      <td>0</td>\n",
              "      <td>0</td>\n",
              "    </tr>\n",
              "  </tbody>\n",
              "</table>\n",
              "</div>\n",
              "      <button class=\"colab-df-convert\" onclick=\"convertToInteractive('df-1634da6c-5d6c-4ff5-a792-7835f8e1f78c')\"\n",
              "              title=\"Convert this dataframe to an interactive table.\"\n",
              "              style=\"display:none;\">\n",
              "        \n",
              "  <svg xmlns=\"http://www.w3.org/2000/svg\" height=\"24px\"viewBox=\"0 0 24 24\"\n",
              "       width=\"24px\">\n",
              "    <path d=\"M0 0h24v24H0V0z\" fill=\"none\"/>\n",
              "    <path d=\"M18.56 5.44l.94 2.06.94-2.06 2.06-.94-2.06-.94-.94-2.06-.94 2.06-2.06.94zm-11 1L8.5 8.5l.94-2.06 2.06-.94-2.06-.94L8.5 2.5l-.94 2.06-2.06.94zm10 10l.94 2.06.94-2.06 2.06-.94-2.06-.94-.94-2.06-.94 2.06-2.06.94z\"/><path d=\"M17.41 7.96l-1.37-1.37c-.4-.4-.92-.59-1.43-.59-.52 0-1.04.2-1.43.59L10.3 9.45l-7.72 7.72c-.78.78-.78 2.05 0 2.83L4 21.41c.39.39.9.59 1.41.59.51 0 1.02-.2 1.41-.59l7.78-7.78 2.81-2.81c.8-.78.8-2.07 0-2.86zM5.41 20L4 18.59l7.72-7.72 1.47 1.35L5.41 20z\"/>\n",
              "  </svg>\n",
              "      </button>\n",
              "      \n",
              "  <style>\n",
              "    .colab-df-container {\n",
              "      display:flex;\n",
              "      flex-wrap:wrap;\n",
              "      gap: 12px;\n",
              "    }\n",
              "\n",
              "    .colab-df-convert {\n",
              "      background-color: #E8F0FE;\n",
              "      border: none;\n",
              "      border-radius: 50%;\n",
              "      cursor: pointer;\n",
              "      display: none;\n",
              "      fill: #1967D2;\n",
              "      height: 32px;\n",
              "      padding: 0 0 0 0;\n",
              "      width: 32px;\n",
              "    }\n",
              "\n",
              "    .colab-df-convert:hover {\n",
              "      background-color: #E2EBFA;\n",
              "      box-shadow: 0px 1px 2px rgba(60, 64, 67, 0.3), 0px 1px 3px 1px rgba(60, 64, 67, 0.15);\n",
              "      fill: #174EA6;\n",
              "    }\n",
              "\n",
              "    [theme=dark] .colab-df-convert {\n",
              "      background-color: #3B4455;\n",
              "      fill: #D2E3FC;\n",
              "    }\n",
              "\n",
              "    [theme=dark] .colab-df-convert:hover {\n",
              "      background-color: #434B5C;\n",
              "      box-shadow: 0px 1px 3px 1px rgba(0, 0, 0, 0.15);\n",
              "      filter: drop-shadow(0px 1px 2px rgba(0, 0, 0, 0.3));\n",
              "      fill: #FFFFFF;\n",
              "    }\n",
              "  </style>\n",
              "\n",
              "      <script>\n",
              "        const buttonEl =\n",
              "          document.querySelector('#df-1634da6c-5d6c-4ff5-a792-7835f8e1f78c button.colab-df-convert');\n",
              "        buttonEl.style.display =\n",
              "          google.colab.kernel.accessAllowed ? 'block' : 'none';\n",
              "\n",
              "        async function convertToInteractive(key) {\n",
              "          const element = document.querySelector('#df-1634da6c-5d6c-4ff5-a792-7835f8e1f78c');\n",
              "          const dataTable =\n",
              "            await google.colab.kernel.invokeFunction('convertToInteractive',\n",
              "                                                     [key], {});\n",
              "          if (!dataTable) return;\n",
              "\n",
              "          const docLinkHtml = 'Like what you see? Visit the ' +\n",
              "            '<a target=\"_blank\" href=https://colab.research.google.com/notebooks/data_table.ipynb>data table notebook</a>'\n",
              "            + ' to learn more about interactive tables.';\n",
              "          element.innerHTML = '';\n",
              "          dataTable['output_type'] = 'display_data';\n",
              "          await google.colab.output.renderOutput(dataTable, element);\n",
              "          const docLink = document.createElement('div');\n",
              "          docLink.innerHTML = docLinkHtml;\n",
              "          element.appendChild(docLink);\n",
              "        }\n",
              "      </script>\n",
              "    </div>\n",
              "  </div>\n",
              "  "
            ]
          },
          "metadata": {},
          "execution_count": 151
        }
      ],
      "source": [
        "# Joint distribution of Passenger_Group and HomePlanet\n",
        "idx1 = df_data.groupby(['Passenger_Group','HomePlanet'])['HomePlanet'].size().unstack().fillna(0).astype(int)\n",
        "idx1.head()"
      ]
    },
    {
      "cell_type": "code",
      "execution_count": 152,
      "id": "29c33753",
      "metadata": {
        "execution": {
          "iopub.execute_input": "2022-04-15T09:58:12.292140Z",
          "iopub.status.busy": "2022-04-15T09:58:12.291556Z",
          "iopub.status.idle": "2022-04-15T09:58:12.430068Z",
          "shell.execute_reply": "2022-04-15T09:58:12.431012Z",
          "shell.execute_reply.started": "2022-04-15T09:46:30.705776Z"
        },
        "papermill": {
          "duration": 0.284485,
          "end_time": "2022-04-15T09:58:12.431275",
          "exception": false,
          "start_time": "2022-04-15T09:58:12.146790",
          "status": "completed"
        },
        "tags": [],
        "colab": {
          "base_uri": "https://localhost:8080/",
          "height": 298
        },
        "id": "29c33753",
        "outputId": "49f11c8d-1f13-41af-ff7c-52e5cdbbac51"
      },
      "outputs": [
        {
          "output_type": "execute_result",
          "data": {
            "text/plain": [
              "Text(0.5, 1.0, 'Number of unique home planets per group')"
            ]
          },
          "metadata": {},
          "execution_count": 152
        },
        {
          "output_type": "display_data",
          "data": {
            "text/plain": [
              "<Figure size 432x288 with 1 Axes>"
            ],
            "image/png": "[encoded data removed]"
          },
          "metadata": {
            "needs_background": "light"
          }
        }
      ],
      "source": [
        "sns.countplot((idx1>0).sum(axis=1))\n",
        "plt.title('Number of unique home planets per group')"
      ]
    },
    {
      "cell_type": "markdown",
      "id": "d4be0384",
      "metadata": {
        "papermill": {
          "duration": 0.142258,
          "end_time": "2022-04-15T09:58:12.720863",
          "exception": false,
          "start_time": "2022-04-15T09:58:12.578605",
          "status": "completed"
        },
        "tags": [],
        "id": "d4be0384"
      },
      "source": [
        "This shows that everyone in the same group comes from the same home planet. So we can fill the missing HomePlanet values according to the group."
      ]
    },
    {
      "cell_type": "code",
      "execution_count": 153,
      "id": "03de7a0b",
      "metadata": {
        "execution": {
          "iopub.execute_input": "2022-04-15T09:58:13.017127Z",
          "iopub.status.busy": "2022-04-15T09:58:13.016409Z",
          "iopub.status.idle": "2022-04-15T09:58:14.795220Z",
          "shell.execute_reply": "2022-04-15T09:58:14.794642Z",
          "shell.execute_reply.started": "2022-04-15T09:46:30.887099Z"
        },
        "papermill": {
          "duration": 1.929341,
          "end_time": "2022-04-15T09:58:14.795355",
          "exception": false,
          "start_time": "2022-04-15T09:58:12.866014",
          "status": "completed"
        },
        "tags": [],
        "colab": {
          "base_uri": "https://localhost:8080/"
        },
        "id": "03de7a0b",
        "outputId": "c29948a6-d6c3-4ecf-8be4-2695a12cf514"
      },
      "outputs": [
        {
          "output_type": "stream",
          "name": "stdout",
          "text": [
            "Number of HomePlanet missing values before: 288\n",
            "Number of HomePlanet missing values after: 157\n"
          ]
        }
      ],
      "source": [
        "# Missing values before\n",
        "before_HomePlanet_miss = df_data.HomePlanet.isnull().sum()\n",
        "\n",
        "# Passengers with missing HomePlanet and in a group with known HomePlanet\n",
        "idx2=df_data[df_data.HomePlanet.isnull()][(df_data[df_data.HomePlanet.isnull()]['Passenger_Group']).isin(idx1.index)].index\n",
        "\n",
        "# Fill corresponding missing values\n",
        "df_data.loc[idx2,'HomePlanet'] = df_data.loc[idx2,'Passenger_Group'].map(lambda x: idx1.idxmax(axis=1)[x])\n",
        "\n",
        "# Print number of missing values left\n",
        "print('Number of HomePlanet missing values before:',before_HomePlanet_miss)\n",
        "print('Number of HomePlanet missing values after:',df_data['HomePlanet'].isnull().sum())"
      ]
    },
    {
      "cell_type": "markdown",
      "id": "20a550e8",
      "metadata": {
        "papermill": {
          "duration": 0.145986,
          "end_time": "2022-04-15T09:58:15.087252",
          "exception": false,
          "start_time": "2022-04-15T09:58:14.941266",
          "status": "completed"
        },
        "tags": [],
        "id": "20a550e8"
      },
      "source": [
        "**HomePlanet and CabinDeck**"
      ]
    },
    {
      "cell_type": "code",
      "execution_count": 154,
      "id": "0e6672b0",
      "metadata": {
        "execution": {
          "iopub.execute_input": "2022-04-15T09:58:15.388474Z",
          "iopub.status.busy": "2022-04-15T09:58:15.386567Z",
          "iopub.status.idle": "2022-04-15T09:58:15.397465Z",
          "shell.execute_reply": "2022-04-15T09:58:15.398008Z",
          "shell.execute_reply.started": "2022-04-15T09:46:32.909021Z"
        },
        "papermill": {
          "duration": 0.164467,
          "end_time": "2022-04-15T09:58:15.398177",
          "exception": false,
          "start_time": "2022-04-15T09:58:15.233710",
          "status": "completed"
        },
        "tags": [],
        "colab": {
          "base_uri": "https://localhost:8080/",
          "height": 238
        },
        "id": "0e6672b0",
        "outputId": "564a55e1-c9e8-4cf6-c4ec-42037c310d8e"
      },
      "outputs": [
        {
          "output_type": "execute_result",
          "data": {
            "text/plain": [
              "HomePlanet  Earth  Europa  Mars\n",
              "Cabin_deck                     \n",
              "A               0     352     0\n",
              "B               0    1137     0\n",
              "C               0    1096     0\n",
              "D               0     301   410\n",
              "E             589     199   515"
            ],
            "text/html": [
              "\n",
              "  <div id=\"df-0866092d-4b48-47a8-9258-a3c5a2e84251\">\n",
              "    <div class=\"colab-df-container\">\n",
              "      <div>\n",
              "<style scoped>\n",
              "    .dataframe tbody tr th:only-of-type {\n",
              "        vertical-align: middle;\n",
              "    }\n",
              "\n",
              "    .dataframe tbody tr th {\n",
              "        vertical-align: top;\n",
              "    }\n",
              "\n",
              "    .dataframe thead th {\n",
              "        text-align: right;\n",
              "    }\n",
              "</style>\n",
              "<table border=\"1\" class=\"dataframe\">\n",
              "  <thead>\n",
              "    <tr style=\"text-align: right;\">\n",
              "      <th>HomePlanet</th>\n",
              "      <th>Earth</th>\n",
              "      <th>Europa</th>\n",
              "      <th>Mars</th>\n",
              "    </tr>\n",
              "    <tr>\n",
              "      <th>Cabin_deck</th>\n",
              "      <th></th>\n",
              "      <th></th>\n",
              "      <th></th>\n",
              "    </tr>\n",
              "  </thead>\n",
              "  <tbody>\n",
              "    <tr>\n",
              "      <th>A</th>\n",
              "      <td>0</td>\n",
              "      <td>352</td>\n",
              "      <td>0</td>\n",
              "    </tr>\n",
              "    <tr>\n",
              "      <th>B</th>\n",
              "      <td>0</td>\n",
              "      <td>1137</td>\n",
              "      <td>0</td>\n",
              "    </tr>\n",
              "    <tr>\n",
              "      <th>C</th>\n",
              "      <td>0</td>\n",
              "      <td>1096</td>\n",
              "      <td>0</td>\n",
              "    </tr>\n",
              "    <tr>\n",
              "      <th>D</th>\n",
              "      <td>0</td>\n",
              "      <td>301</td>\n",
              "      <td>410</td>\n",
              "    </tr>\n",
              "    <tr>\n",
              "      <th>E</th>\n",
              "      <td>589</td>\n",
              "      <td>199</td>\n",
              "      <td>515</td>\n",
              "    </tr>\n",
              "  </tbody>\n",
              "</table>\n",
              "</div>\n",
              "      <button class=\"colab-df-convert\" onclick=\"convertToInteractive('df-0866092d-4b48-47a8-9258-a3c5a2e84251')\"\n",
              "              title=\"Convert this dataframe to an interactive table.\"\n",
              "              style=\"display:none;\">\n",
              "        \n",
              "  <svg xmlns=\"http://www.w3.org/2000/svg\" height=\"24px\"viewBox=\"0 0 24 24\"\n",
              "       width=\"24px\">\n",
              "    <path d=\"M0 0h24v24H0V0z\" fill=\"none\"/>\n",
              "    <path d=\"M18.56 5.44l.94 2.06.94-2.06 2.06-.94-2.06-.94-.94-2.06-.94 2.06-2.06.94zm-11 1L8.5 8.5l.94-2.06 2.06-.94-2.06-.94L8.5 2.5l-.94 2.06-2.06.94zm10 10l.94 2.06.94-2.06 2.06-.94-2.06-.94-.94-2.06-.94 2.06-2.06.94z\"/><path d=\"M17.41 7.96l-1.37-1.37c-.4-.4-.92-.59-1.43-.59-.52 0-1.04.2-1.43.59L10.3 9.45l-7.72 7.72c-.78.78-.78 2.05 0 2.83L4 21.41c.39.39.9.59 1.41.59.51 0 1.02-.2 1.41-.59l7.78-7.78 2.81-2.81c.8-.78.8-2.07 0-2.86zM5.41 20L4 18.59l7.72-7.72 1.47 1.35L5.41 20z\"/>\n",
              "  </svg>\n",
              "      </button>\n",
              "      \n",
              "  <style>\n",
              "    .colab-df-container {\n",
              "      display:flex;\n",
              "      flex-wrap:wrap;\n",
              "      gap: 12px;\n",
              "    }\n",
              "\n",
              "    .colab-df-convert {\n",
              "      background-color: #E8F0FE;\n",
              "      border: none;\n",
              "      border-radius: 50%;\n",
              "      cursor: pointer;\n",
              "      display: none;\n",
              "      fill: #1967D2;\n",
              "      height: 32px;\n",
              "      padding: 0 0 0 0;\n",
              "      width: 32px;\n",
              "    }\n",
              "\n",
              "    .colab-df-convert:hover {\n",
              "      background-color: #E2EBFA;\n",
              "      box-shadow: 0px 1px 2px rgba(60, 64, 67, 0.3), 0px 1px 3px 1px rgba(60, 64, 67, 0.15);\n",
              "      fill: #174EA6;\n",
              "    }\n",
              "\n",
              "    [theme=dark] .colab-df-convert {\n",
              "      background-color: #3B4455;\n",
              "      fill: #D2E3FC;\n",
              "    }\n",
              "\n",
              "    [theme=dark] .colab-df-convert:hover {\n",
              "      background-color: #434B5C;\n",
              "      box-shadow: 0px 1px 3px 1px rgba(0, 0, 0, 0.15);\n",
              "      filter: drop-shadow(0px 1px 2px rgba(0, 0, 0, 0.3));\n",
              "      fill: #FFFFFF;\n",
              "    }\n",
              "  </style>\n",
              "\n",
              "      <script>\n",
              "        const buttonEl =\n",
              "          document.querySelector('#df-0866092d-4b48-47a8-9258-a3c5a2e84251 button.colab-df-convert');\n",
              "        buttonEl.style.display =\n",
              "          google.colab.kernel.accessAllowed ? 'block' : 'none';\n",
              "\n",
              "        async function convertToInteractive(key) {\n",
              "          const element = document.querySelector('#df-0866092d-4b48-47a8-9258-a3c5a2e84251');\n",
              "          const dataTable =\n",
              "            await google.colab.kernel.invokeFunction('convertToInteractive',\n",
              "                                                     [key], {});\n",
              "          if (!dataTable) return;\n",
              "\n",
              "          const docLinkHtml = 'Like what you see? Visit the ' +\n",
              "            '<a target=\"_blank\" href=https://colab.research.google.com/notebooks/data_table.ipynb>data table notebook</a>'\n",
              "            + ' to learn more about interactive tables.';\n",
              "          element.innerHTML = '';\n",
              "          dataTable['output_type'] = 'display_data';\n",
              "          await google.colab.output.renderOutput(dataTable, element);\n",
              "          const docLink = document.createElement('div');\n",
              "          docLink.innerHTML = docLinkHtml;\n",
              "          element.appendChild(docLink);\n",
              "        }\n",
              "      </script>\n",
              "    </div>\n",
              "  </div>\n",
              "  "
            ]
          },
          "metadata": {},
          "execution_count": 154
        }
      ],
      "source": [
        "# Joint distribution of Cabin_deck and HomePlanet\n",
        "idx3 = df_data.groupby(['Cabin_deck','HomePlanet'])['HomePlanet'].size().unstack().fillna(0).astype(int)\n",
        "idx3.head()"
      ]
    },
    {
      "cell_type": "code",
      "execution_count": 155,
      "id": "cd158638",
      "metadata": {
        "execution": {
          "iopub.execute_input": "2022-04-15T09:58:15.688820Z",
          "iopub.status.busy": "2022-04-15T09:58:15.687937Z",
          "iopub.status.idle": "2022-04-15T09:58:15.993797Z",
          "shell.execute_reply": "2022-04-15T09:58:15.994282Z",
          "shell.execute_reply.started": "2022-04-15T09:46:32.93222Z"
        },
        "papermill": {
          "duration": 0.454623,
          "end_time": "2022-04-15T09:58:15.994447",
          "exception": false,
          "start_time": "2022-04-15T09:58:15.539824",
          "status": "completed"
        },
        "tags": [],
        "colab": {
          "base_uri": "https://localhost:8080/",
          "height": 297
        },
        "id": "cd158638",
        "outputId": "12fe8305-bb90-49cf-dce6-1dc47723c342"
      },
      "outputs": [
        {
          "output_type": "execute_result",
          "data": {
            "text/plain": [
              "<matplotlib.axes._subplots.AxesSubplot at 0x7f7092507f50>"
            ]
          },
          "metadata": {},
          "execution_count": 155
        },
        {
          "output_type": "display_data",
          "data": {
            "text/plain": [
              "<Figure size 720x288 with 2 Axes>"
            ],
            "image/png": "[encoded data removed]"
          },
          "metadata": {
            "needs_background": "light"
          }
        }
      ],
      "source": [
        "# Heatmap of missing values\n",
        "plt.figure(figsize=(10,4))\n",
        "sns.heatmap(idx3.T, annot=True, fmt='g', cmap='winter')"
      ]
    },
    {
      "cell_type": "markdown",
      "id": "9ae331ba",
      "metadata": {
        "papermill": {
          "duration": 0.148817,
          "end_time": "2022-04-15T09:58:16.293244",
          "exception": false,
          "start_time": "2022-04-15T09:58:16.144427",
          "status": "completed"
        },
        "tags": [],
        "id": "9ae331ba"
      },
      "source": [
        "*As we can see:*\n",
        "* Passengers on decks A, B, C or T came from Europa.\n",
        "* Passengers on deck G came from Earth.\n",
        "* Passengers on decks D, E or F came from multiple planets."
      ]
    },
    {
      "cell_type": "code",
      "execution_count": 156,
      "id": "e71a9aed",
      "metadata": {
        "execution": {
          "iopub.execute_input": "2022-04-15T09:58:16.596701Z",
          "iopub.status.busy": "2022-04-15T09:58:16.596117Z",
          "iopub.status.idle": "2022-04-15T09:58:16.605536Z",
          "shell.execute_reply": "2022-04-15T09:58:16.606027Z",
          "shell.execute_reply.started": "2022-04-15T09:46:33.292634Z"
        },
        "papermill": {
          "duration": 0.164578,
          "end_time": "2022-04-15T09:58:16.606203",
          "exception": false,
          "start_time": "2022-04-15T09:58:16.441625",
          "status": "completed"
        },
        "tags": [],
        "colab": {
          "base_uri": "https://localhost:8080/"
        },
        "id": "e71a9aed",
        "outputId": "466ac726-d9d5-40e3-caf8-26de3c69a5d5"
      },
      "outputs": [
        {
          "output_type": "stream",
          "name": "stdout",
          "text": [
            "Number of HomePlanet missing values before: 157\n",
            "Number of HomePlanet missing values after: 94\n"
          ]
        }
      ],
      "source": [
        "# Missing values before\n",
        "before_HomePlanet_miss = df_data.HomePlanet.isnull().sum()\n",
        "\n",
        "# For Decks A, B, C or T \n",
        "df_data.loc[(df_data.HomePlanet.isnull()) & (df_data.Cabin_deck.isin(['A','B','C','T'])), 'HomePlanet' ]='Europa'\n",
        "\n",
        "# For Deck G\n",
        "df_data.loc[(df_data.HomePlanet.isnull()) & (df_data.Cabin_deck=='G'), 'HomePlanet' ]='Earth'\n",
        "\n",
        "# Print number of missing values left\n",
        "print('Number of HomePlanet missing values before:',before_HomePlanet_miss)\n",
        "print('Number of HomePlanet missing values after:',df_data['HomePlanet'].isnull().sum())"
      ]
    },
    {
      "cell_type": "markdown",
      "id": "bbbb982b",
      "metadata": {
        "papermill": {
          "duration": 0.148743,
          "end_time": "2022-04-15T09:58:16.898216",
          "exception": false,
          "start_time": "2022-04-15T09:58:16.749473",
          "status": "completed"
        },
        "tags": [],
        "id": "bbbb982b"
      },
      "source": [
        "**HomePlanet and Last_Name**"
      ]
    },
    {
      "cell_type": "code",
      "execution_count": 157,
      "id": "5efe5c1c",
      "metadata": {
        "execution": {
          "iopub.execute_input": "2022-04-15T09:58:17.190475Z",
          "iopub.status.busy": "2022-04-15T09:58:17.189826Z",
          "iopub.status.idle": "2022-04-15T09:58:17.208599Z",
          "shell.execute_reply": "2022-04-15T09:58:17.208978Z",
          "shell.execute_reply.started": "2022-04-15T09:46:33.321019Z"
        },
        "papermill": {
          "duration": 0.167508,
          "end_time": "2022-04-15T09:58:17.209131",
          "exception": false,
          "start_time": "2022-04-15T09:58:17.041623",
          "status": "completed"
        },
        "tags": [],
        "colab": {
          "base_uri": "https://localhost:8080/",
          "height": 238
        },
        "id": "5efe5c1c",
        "outputId": "3b9397df-faf7-49eb-d3c9-04cae163076d"
      },
      "outputs": [
        {
          "output_type": "execute_result",
          "data": {
            "text/plain": [
              "HomePlanet  Earth  Europa  Mars\n",
              "Last_Name                      \n",
              "Acobson         5       0     0\n",
              "Acobsond        8       0     0\n",
              "Adavisons      10       0     0\n",
              "Adkinson        4       0     0\n",
              "Admingried      0       4     0"
            ],
            "text/html": [
              "\n",
              "  <div id=\"df-0c3ff594-0407-4256-b813-46e5d7badb96\">\n",
              "    <div class=\"colab-df-container\">\n",
              "      <div>\n",
              "<style scoped>\n",
              "    .dataframe tbody tr th:only-of-type {\n",
              "        vertical-align: middle;\n",
              "    }\n",
              "\n",
              "    .dataframe tbody tr th {\n",
              "        vertical-align: top;\n",
              "    }\n",
              "\n",
              "    .dataframe thead th {\n",
              "        text-align: right;\n",
              "    }\n",
              "</style>\n",
              "<table border=\"1\" class=\"dataframe\">\n",
              "  <thead>\n",
              "    <tr style=\"text-align: right;\">\n",
              "      <th>HomePlanet</th>\n",
              "      <th>Earth</th>\n",
              "      <th>Europa</th>\n",
              "      <th>Mars</th>\n",
              "    </tr>\n",
              "    <tr>\n",
              "      <th>Last_Name</th>\n",
              "      <th></th>\n",
              "      <th></th>\n",
              "      <th></th>\n",
              "    </tr>\n",
              "  </thead>\n",
              "  <tbody>\n",
              "    <tr>\n",
              "      <th>Acobson</th>\n",
              "      <td>5</td>\n",
              "      <td>0</td>\n",
              "      <td>0</td>\n",
              "    </tr>\n",
              "    <tr>\n",
              "      <th>Acobsond</th>\n",
              "      <td>8</td>\n",
              "      <td>0</td>\n",
              "      <td>0</td>\n",
              "    </tr>\n",
              "    <tr>\n",
              "      <th>Adavisons</th>\n",
              "      <td>10</td>\n",
              "      <td>0</td>\n",
              "      <td>0</td>\n",
              "    </tr>\n",
              "    <tr>\n",
              "      <th>Adkinson</th>\n",
              "      <td>4</td>\n",
              "      <td>0</td>\n",
              "      <td>0</td>\n",
              "    </tr>\n",
              "    <tr>\n",
              "      <th>Admingried</th>\n",
              "      <td>0</td>\n",
              "      <td>4</td>\n",
              "      <td>0</td>\n",
              "    </tr>\n",
              "  </tbody>\n",
              "</table>\n",
              "</div>\n",
              "      <button class=\"colab-df-convert\" onclick=\"convertToInteractive('df-0c3ff594-0407-4256-b813-46e5d7badb96')\"\n",
              "              title=\"Convert this dataframe to an interactive table.\"\n",
              "              style=\"display:none;\">\n",
              "        \n",
              "  <svg xmlns=\"http://www.w3.org/2000/svg\" height=\"24px\"viewBox=\"0 0 24 24\"\n",
              "       width=\"24px\">\n",
              "    <path d=\"M0 0h24v24H0V0z\" fill=\"none\"/>\n",
              "    <path d=\"M18.56 5.44l.94 2.06.94-2.06 2.06-.94-2.06-.94-.94-2.06-.94 2.06-2.06.94zm-11 1L8.5 8.5l.94-2.06 2.06-.94-2.06-.94L8.5 2.5l-.94 2.06-2.06.94zm10 10l.94 2.06.94-2.06 2.06-.94-2.06-.94-.94-2.06-.94 2.06-2.06.94z\"/><path d=\"M17.41 7.96l-1.37-1.37c-.4-.4-.92-.59-1.43-.59-.52 0-1.04.2-1.43.59L10.3 9.45l-7.72 7.72c-.78.78-.78 2.05 0 2.83L4 21.41c.39.39.9.59 1.41.59.51 0 1.02-.2 1.41-.59l7.78-7.78 2.81-2.81c.8-.78.8-2.07 0-2.86zM5.41 20L4 18.59l7.72-7.72 1.47 1.35L5.41 20z\"/>\n",
              "  </svg>\n",
              "      </button>\n",
              "      \n",
              "  <style>\n",
              "    .colab-df-container {\n",
              "      display:flex;\n",
              "      flex-wrap:wrap;\n",
              "      gap: 12px;\n",
              "    }\n",
              "\n",
              "    .colab-df-convert {\n",
              "      background-color: #E8F0FE;\n",
              "      border: none;\n",
              "      border-radius: 50%;\n",
              "      cursor: pointer;\n",
              "      display: none;\n",
              "      fill: #1967D2;\n",
              "      height: 32px;\n",
              "      padding: 0 0 0 0;\n",
              "      width: 32px;\n",
              "    }\n",
              "\n",
              "    .colab-df-convert:hover {\n",
              "      background-color: #E2EBFA;\n",
              "      box-shadow: 0px 1px 2px rgba(60, 64, 67, 0.3), 0px 1px 3px 1px rgba(60, 64, 67, 0.15);\n",
              "      fill: #174EA6;\n",
              "    }\n",
              "\n",
              "    [theme=dark] .colab-df-convert {\n",
              "      background-color: #3B4455;\n",
              "      fill: #D2E3FC;\n",
              "    }\n",
              "\n",
              "    [theme=dark] .colab-df-convert:hover {\n",
              "      background-color: #434B5C;\n",
              "      box-shadow: 0px 1px 3px 1px rgba(0, 0, 0, 0.15);\n",
              "      filter: drop-shadow(0px 1px 2px rgba(0, 0, 0, 0.3));\n",
              "      fill: #FFFFFF;\n",
              "    }\n",
              "  </style>\n",
              "\n",
              "      <script>\n",
              "        const buttonEl =\n",
              "          document.querySelector('#df-0c3ff594-0407-4256-b813-46e5d7badb96 button.colab-df-convert');\n",
              "        buttonEl.style.display =\n",
              "          google.colab.kernel.accessAllowed ? 'block' : 'none';\n",
              "\n",
              "        async function convertToInteractive(key) {\n",
              "          const element = document.querySelector('#df-0c3ff594-0407-4256-b813-46e5d7badb96');\n",
              "          const dataTable =\n",
              "            await google.colab.kernel.invokeFunction('convertToInteractive',\n",
              "                                                     [key], {});\n",
              "          if (!dataTable) return;\n",
              "\n",
              "          const docLinkHtml = 'Like what you see? Visit the ' +\n",
              "            '<a target=\"_blank\" href=https://colab.research.google.com/notebooks/data_table.ipynb>data table notebook</a>'\n",
              "            + ' to learn more about interactive tables.';\n",
              "          element.innerHTML = '';\n",
              "          dataTable['output_type'] = 'display_data';\n",
              "          await google.colab.output.renderOutput(dataTable, element);\n",
              "          const docLink = document.createElement('div');\n",
              "          docLink.innerHTML = docLinkHtml;\n",
              "          element.appendChild(docLink);\n",
              "        }\n",
              "      </script>\n",
              "    </div>\n",
              "  </div>\n",
              "  "
            ]
          },
          "metadata": {},
          "execution_count": 157
        }
      ],
      "source": [
        "# Joint distribution of Last_Name and HomePlanet\n",
        "idx4=df_data.groupby(['Last_Name','HomePlanet'])['HomePlanet'].size().unstack().fillna(0).astype(int)\n",
        "idx4.head()"
      ]
    },
    {
      "cell_type": "code",
      "execution_count": 158,
      "id": "f4ea7de3",
      "metadata": {
        "execution": {
          "iopub.execute_input": "2022-04-15T09:58:17.512406Z",
          "iopub.status.busy": "2022-04-15T09:58:17.511404Z",
          "iopub.status.idle": "2022-04-15T09:58:17.663485Z",
          "shell.execute_reply": "2022-04-15T09:58:17.663905Z",
          "shell.execute_reply.started": "2022-04-15T09:46:33.350388Z"
        },
        "papermill": {
          "duration": 0.307858,
          "end_time": "2022-04-15T09:58:17.664069",
          "exception": false,
          "start_time": "2022-04-15T09:58:17.356211",
          "status": "completed"
        },
        "tags": [],
        "colab": {
          "base_uri": "https://localhost:8080/",
          "height": 298
        },
        "id": "f4ea7de3",
        "outputId": "a958ea05-e02a-487c-826f-2f13be0a9338"
      },
      "outputs": [
        {
          "output_type": "execute_result",
          "data": {
            "text/plain": [
              "Text(0.5, 1.0, 'Number of unique planets per LastName')"
            ]
          },
          "metadata": {},
          "execution_count": 158
        },
        {
          "output_type": "display_data",
          "data": {
            "text/plain": [
              "<Figure size 720x288 with 1 Axes>"
            ],
            "image/png": "[encoded data removed]"
          },
          "metadata": {
            "needs_background": "light"
          }
        }
      ],
      "source": [
        "# Countplot of unique values\n",
        "plt.figure(figsize=(10,4))\n",
        "sns.countplot((idx4>0).sum(axis=1))\n",
        "plt.title('Number of unique planets per LastName')"
      ]
    },
    {
      "cell_type": "markdown",
      "id": "8befae04",
      "metadata": {
        "papermill": {
          "duration": 0.156987,
          "end_time": "2022-04-15T09:58:17.977597",
          "exception": false,
          "start_time": "2022-04-15T09:58:17.820610",
          "status": "completed"
        },
        "tags": [],
        "id": "8befae04"
      },
      "source": [
        "**Excellent!** Everyone with the same LastName comes from the same home planet."
      ]
    },
    {
      "cell_type": "code",
      "execution_count": 159,
      "id": "e5094bef",
      "metadata": {
        "execution": {
          "iopub.execute_input": "2022-04-15T09:58:18.292149Z",
          "iopub.status.busy": "2022-04-15T09:58:18.291478Z",
          "iopub.status.idle": "2022-04-15T09:58:18.650202Z",
          "shell.execute_reply": "2022-04-15T09:58:18.650976Z",
          "shell.execute_reply.started": "2022-04-15T09:46:33.537031Z"
        },
        "papermill": {
          "duration": 0.518628,
          "end_time": "2022-04-15T09:58:18.651216",
          "exception": false,
          "start_time": "2022-04-15T09:58:18.132588",
          "status": "completed"
        },
        "tags": [],
        "colab": {
          "base_uri": "https://localhost:8080/"
        },
        "id": "e5094bef",
        "outputId": "7bf2972e-cf96-4039-f482-94cae735ffb8"
      },
      "outputs": [
        {
          "output_type": "stream",
          "name": "stdout",
          "text": [
            "Number of HomePlanet missing values before: 94\n",
            "Number of HomePlanet missing values after: 10\n"
          ]
        }
      ],
      "source": [
        "# Missing values before\n",
        "before_HomePlanet_miss = df_data.HomePlanet.isnull().sum()\n",
        "\n",
        "# Passengers with missing HomePlanet and in a family with known HomePlanet\n",
        "idx5=df_data[df_data['HomePlanet'].isna()][(df_data[df_data['HomePlanet'].isna()]['Last_Name']).isin(idx4.index)].index\n",
        "\n",
        "# Fill corresponding missing values\n",
        "df_data.loc[idx5,'HomePlanet']=df_data.iloc[idx5,:]['Last_Name'].map(lambda x: idx4.idxmax(axis=1)[x])\n",
        "\n",
        "# Print number of missing values left\n",
        "print('Number of HomePlanet missing values before:',before_HomePlanet_miss)\n",
        "print('Number of HomePlanet missing values after:',df_data['HomePlanet'].isnull().sum())"
      ]
    },
    {
      "cell_type": "code",
      "execution_count": 160,
      "id": "9c9a52b6",
      "metadata": {
        "execution": {
          "iopub.execute_input": "2022-04-15T09:58:18.953541Z",
          "iopub.status.busy": "2022-04-15T09:58:18.952931Z",
          "iopub.status.idle": "2022-04-15T09:58:18.965330Z",
          "shell.execute_reply": "2022-04-15T09:58:18.965861Z",
          "shell.execute_reply.started": "2022-04-15T09:46:33.956818Z"
        },
        "papermill": {
          "duration": 0.165791,
          "end_time": "2022-04-15T09:58:18.966003",
          "exception": false,
          "start_time": "2022-04-15T09:58:18.800212",
          "status": "completed"
        },
        "tags": [],
        "colab": {
          "base_uri": "https://localhost:8080/",
          "height": 363
        },
        "id": "9c9a52b6",
        "outputId": "2114ade1-fb3b-4e95-dd90-df7e2cc28771"
      },
      "outputs": [
        {
          "output_type": "execute_result",
          "data": {
            "text/plain": [
              "      PassengerId HomePlanet  Destination Cabin_deck\n",
              "2274      2443_01        NaN  TRAPPIST-1e          D\n",
              "2631      2817_01        NaN  TRAPPIST-1e          F\n",
              "3091      3331_01        NaN  TRAPPIST-1e          F\n",
              "4548      4840_01        NaN  TRAPPIST-1e          F\n",
              "5762      6108_01        NaN  TRAPPIST-1e          F\n",
              "8969      0616_01        NaN  TRAPPIST-1e          E\n",
              "10583     4052_01        NaN  TRAPPIST-1e          D\n",
              "11913     7065_01        NaN  TRAPPIST-1e          E\n",
              "12551     8435_01        NaN  TRAPPIST-1e          F\n",
              "12725     8775_01        NaN  TRAPPIST-1e          D"
            ],
            "text/html": [
              "\n",
              "  <div id=\"df-6fc5cc34-12db-4ad7-8580-38f0c7bb8ab3\">\n",
              "    <div class=\"colab-df-container\">\n",
              "      <div>\n",
              "<style scoped>\n",
              "    .dataframe tbody tr th:only-of-type {\n",
              "        vertical-align: middle;\n",
              "    }\n",
              "\n",
              "    .dataframe tbody tr th {\n",
              "        vertical-align: top;\n",
              "    }\n",
              "\n",
              "    .dataframe thead th {\n",
              "        text-align: right;\n",
              "    }\n",
              "</style>\n",
              "<table border=\"1\" class=\"dataframe\">\n",
              "  <thead>\n",
              "    <tr style=\"text-align: right;\">\n",
              "      <th></th>\n",
              "      <th>PassengerId</th>\n",
              "      <th>HomePlanet</th>\n",
              "      <th>Destination</th>\n",
              "      <th>Cabin_deck</th>\n",
              "    </tr>\n",
              "  </thead>\n",
              "  <tbody>\n",
              "    <tr>\n",
              "      <th>2274</th>\n",
              "      <td>2443_01</td>\n",
              "      <td>NaN</td>\n",
              "      <td>TRAPPIST-1e</td>\n",
              "      <td>D</td>\n",
              "    </tr>\n",
              "    <tr>\n",
              "      <th>2631</th>\n",
              "      <td>2817_01</td>\n",
              "      <td>NaN</td>\n",
              "      <td>TRAPPIST-1e</td>\n",
              "      <td>F</td>\n",
              "    </tr>\n",
              "    <tr>\n",
              "      <th>3091</th>\n",
              "      <td>3331_01</td>\n",
              "      <td>NaN</td>\n",
              "      <td>TRAPPIST-1e</td>\n",
              "      <td>F</td>\n",
              "    </tr>\n",
              "    <tr>\n",
              "      <th>4548</th>\n",
              "      <td>4840_01</td>\n",
              "      <td>NaN</td>\n",
              "      <td>TRAPPIST-1e</td>\n",
              "      <td>F</td>\n",
              "    </tr>\n",
              "    <tr>\n",
              "      <th>5762</th>\n",
              "      <td>6108_01</td>\n",
              "      <td>NaN</td>\n",
              "      <td>TRAPPIST-1e</td>\n",
              "      <td>F</td>\n",
              "    </tr>\n",
              "    <tr>\n",
              "      <th>8969</th>\n",
              "      <td>0616_01</td>\n",
              "      <td>NaN</td>\n",
              "      <td>TRAPPIST-1e</td>\n",
              "      <td>E</td>\n",
              "    </tr>\n",
              "    <tr>\n",
              "      <th>10583</th>\n",
              "      <td>4052_01</td>\n",
              "      <td>NaN</td>\n",
              "      <td>TRAPPIST-1e</td>\n",
              "      <td>D</td>\n",
              "    </tr>\n",
              "    <tr>\n",
              "      <th>11913</th>\n",
              "      <td>7065_01</td>\n",
              "      <td>NaN</td>\n",
              "      <td>TRAPPIST-1e</td>\n",
              "      <td>E</td>\n",
              "    </tr>\n",
              "    <tr>\n",
              "      <th>12551</th>\n",
              "      <td>8435_01</td>\n",
              "      <td>NaN</td>\n",
              "      <td>TRAPPIST-1e</td>\n",
              "      <td>F</td>\n",
              "    </tr>\n",
              "    <tr>\n",
              "      <th>12725</th>\n",
              "      <td>8775_01</td>\n",
              "      <td>NaN</td>\n",
              "      <td>TRAPPIST-1e</td>\n",
              "      <td>D</td>\n",
              "    </tr>\n",
              "  </tbody>\n",
              "</table>\n",
              "</div>\n",
              "      <button class=\"colab-df-convert\" onclick=\"convertToInteractive('df-6fc5cc34-12db-4ad7-8580-38f0c7bb8ab3')\"\n",
              "              title=\"Convert this dataframe to an interactive table.\"\n",
              "              style=\"display:none;\">\n",
              "        \n",
              "  <svg xmlns=\"http://www.w3.org/2000/svg\" height=\"24px\"viewBox=\"0 0 24 24\"\n",
              "       width=\"24px\">\n",
              "    <path d=\"M0 0h24v24H0V0z\" fill=\"none\"/>\n",
              "    <path d=\"M18.56 5.44l.94 2.06.94-2.06 2.06-.94-2.06-.94-.94-2.06-.94 2.06-2.06.94zm-11 1L8.5 8.5l.94-2.06 2.06-.94-2.06-.94L8.5 2.5l-.94 2.06-2.06.94zm10 10l.94 2.06.94-2.06 2.06-.94-2.06-.94-.94-2.06-.94 2.06-2.06.94z\"/><path d=\"M17.41 7.96l-1.37-1.37c-.4-.4-.92-.59-1.43-.59-.52 0-1.04.2-1.43.59L10.3 9.45l-7.72 7.72c-.78.78-.78 2.05 0 2.83L4 21.41c.39.39.9.59 1.41.59.51 0 1.02-.2 1.41-.59l7.78-7.78 2.81-2.81c.8-.78.8-2.07 0-2.86zM5.41 20L4 18.59l7.72-7.72 1.47 1.35L5.41 20z\"/>\n",
              "  </svg>\n",
              "      </button>\n",
              "      \n",
              "  <style>\n",
              "    .colab-df-container {\n",
              "      display:flex;\n",
              "      flex-wrap:wrap;\n",
              "      gap: 12px;\n",
              "    }\n",
              "\n",
              "    .colab-df-convert {\n",
              "      background-color: #E8F0FE;\n",
              "      border: none;\n",
              "      border-radius: 50%;\n",
              "      cursor: pointer;\n",
              "      display: none;\n",
              "      fill: #1967D2;\n",
              "      height: 32px;\n",
              "      padding: 0 0 0 0;\n",
              "      width: 32px;\n",
              "    }\n",
              "\n",
              "    .colab-df-convert:hover {\n",
              "      background-color: #E2EBFA;\n",
              "      box-shadow: 0px 1px 2px rgba(60, 64, 67, 0.3), 0px 1px 3px 1px rgba(60, 64, 67, 0.15);\n",
              "      fill: #174EA6;\n",
              "    }\n",
              "\n",
              "    [theme=dark] .colab-df-convert {\n",
              "      background-color: #3B4455;\n",
              "      fill: #D2E3FC;\n",
              "    }\n",
              "\n",
              "    [theme=dark] .colab-df-convert:hover {\n",
              "      background-color: #434B5C;\n",
              "      box-shadow: 0px 1px 3px 1px rgba(0, 0, 0, 0.15);\n",
              "      filter: drop-shadow(0px 1px 2px rgba(0, 0, 0, 0.3));\n",
              "      fill: #FFFFFF;\n",
              "    }\n",
              "  </style>\n",
              "\n",
              "      <script>\n",
              "        const buttonEl =\n",
              "          document.querySelector('#df-6fc5cc34-12db-4ad7-8580-38f0c7bb8ab3 button.colab-df-convert');\n",
              "        buttonEl.style.display =\n",
              "          google.colab.kernel.accessAllowed ? 'block' : 'none';\n",
              "\n",
              "        async function convertToInteractive(key) {\n",
              "          const element = document.querySelector('#df-6fc5cc34-12db-4ad7-8580-38f0c7bb8ab3');\n",
              "          const dataTable =\n",
              "            await google.colab.kernel.invokeFunction('convertToInteractive',\n",
              "                                                     [key], {});\n",
              "          if (!dataTable) return;\n",
              "\n",
              "          const docLinkHtml = 'Like what you see? Visit the ' +\n",
              "            '<a target=\"_blank\" href=https://colab.research.google.com/notebooks/data_table.ipynb>data table notebook</a>'\n",
              "            + ' to learn more about interactive tables.';\n",
              "          element.innerHTML = '';\n",
              "          dataTable['output_type'] = 'display_data';\n",
              "          await google.colab.output.renderOutput(dataTable, element);\n",
              "          const docLink = document.createElement('div');\n",
              "          docLink.innerHTML = docLinkHtml;\n",
              "          element.appendChild(docLink);\n",
              "        }\n",
              "      </script>\n",
              "    </div>\n",
              "  </div>\n",
              "  "
            ]
          },
          "metadata": {},
          "execution_count": 160
        }
      ],
      "source": [
        "# Only 10 HomePlanet missing values remain.\n",
        "df_data.loc[df_data.HomePlanet.isnull(),['PassengerId','HomePlanet','Destination','Cabin_deck']]"
      ]
    },
    {
      "cell_type": "code",
      "execution_count": 161,
      "id": "02332ad8",
      "metadata": {
        "execution": {
          "iopub.execute_input": "2022-04-15T09:58:19.260872Z",
          "iopub.status.busy": "2022-04-15T09:58:19.260324Z",
          "iopub.status.idle": "2022-04-15T09:58:19.272717Z",
          "shell.execute_reply": "2022-04-15T09:58:19.273240Z",
          "shell.execute_reply.started": "2022-04-15T09:46:33.986784Z"
        },
        "papermill": {
          "duration": 0.160756,
          "end_time": "2022-04-15T09:58:19.273396",
          "exception": false,
          "start_time": "2022-04-15T09:58:19.112640",
          "status": "completed"
        },
        "tags": [],
        "colab": {
          "base_uri": "https://localhost:8080/",
          "height": 175
        },
        "id": "02332ad8",
        "outputId": "85fc1aa6-43c8-416f-d787-3d192068157c"
      },
      "outputs": [
        {
          "output_type": "execute_result",
          "data": {
            "text/plain": [
              "HomePlanet     Earth  Europa  Mars\n",
              "Destination                       \n",
              "55 Cancri e     1000    1341   300\n",
              "PSO J318.5-22   1085      29    70\n",
              "TRAPPIST-1e     4778    1769  2314"
            ],
            "text/html": [
              "\n",
              "  <div id=\"df-74cfb3f6-f125-448d-8f36-9f9d4e9a55fa\">\n",
              "    <div class=\"colab-df-container\">\n",
              "      <div>\n",
              "<style scoped>\n",
              "    .dataframe tbody tr th:only-of-type {\n",
              "        vertical-align: middle;\n",
              "    }\n",
              "\n",
              "    .dataframe tbody tr th {\n",
              "        vertical-align: top;\n",
              "    }\n",
              "\n",
              "    .dataframe thead th {\n",
              "        text-align: right;\n",
              "    }\n",
              "</style>\n",
              "<table border=\"1\" class=\"dataframe\">\n",
              "  <thead>\n",
              "    <tr style=\"text-align: right;\">\n",
              "      <th>HomePlanet</th>\n",
              "      <th>Earth</th>\n",
              "      <th>Europa</th>\n",
              "      <th>Mars</th>\n",
              "    </tr>\n",
              "    <tr>\n",
              "      <th>Destination</th>\n",
              "      <th></th>\n",
              "      <th></th>\n",
              "      <th></th>\n",
              "    </tr>\n",
              "  </thead>\n",
              "  <tbody>\n",
              "    <tr>\n",
              "      <th>55 Cancri e</th>\n",
              "      <td>1000</td>\n",
              "      <td>1341</td>\n",
              "      <td>300</td>\n",
              "    </tr>\n",
              "    <tr>\n",
              "      <th>PSO J318.5-22</th>\n",
              "      <td>1085</td>\n",
              "      <td>29</td>\n",
              "      <td>70</td>\n",
              "    </tr>\n",
              "    <tr>\n",
              "      <th>TRAPPIST-1e</th>\n",
              "      <td>4778</td>\n",
              "      <td>1769</td>\n",
              "      <td>2314</td>\n",
              "    </tr>\n",
              "  </tbody>\n",
              "</table>\n",
              "</div>\n",
              "      <button class=\"colab-df-convert\" onclick=\"convertToInteractive('df-74cfb3f6-f125-448d-8f36-9f9d4e9a55fa')\"\n",
              "              title=\"Convert this dataframe to an interactive table.\"\n",
              "              style=\"display:none;\">\n",
              "        \n",
              "  <svg xmlns=\"http://www.w3.org/2000/svg\" height=\"24px\"viewBox=\"0 0 24 24\"\n",
              "       width=\"24px\">\n",
              "    <path d=\"M0 0h24v24H0V0z\" fill=\"none\"/>\n",
              "    <path d=\"M18.56 5.44l.94 2.06.94-2.06 2.06-.94-2.06-.94-.94-2.06-.94 2.06-2.06.94zm-11 1L8.5 8.5l.94-2.06 2.06-.94-2.06-.94L8.5 2.5l-.94 2.06-2.06.94zm10 10l.94 2.06.94-2.06 2.06-.94-2.06-.94-.94-2.06-.94 2.06-2.06.94z\"/><path d=\"M17.41 7.96l-1.37-1.37c-.4-.4-.92-.59-1.43-.59-.52 0-1.04.2-1.43.59L10.3 9.45l-7.72 7.72c-.78.78-.78 2.05 0 2.83L4 21.41c.39.39.9.59 1.41.59.51 0 1.02-.2 1.41-.59l7.78-7.78 2.81-2.81c.8-.78.8-2.07 0-2.86zM5.41 20L4 18.59l7.72-7.72 1.47 1.35L5.41 20z\"/>\n",
              "  </svg>\n",
              "      </button>\n",
              "      \n",
              "  <style>\n",
              "    .colab-df-container {\n",
              "      display:flex;\n",
              "      flex-wrap:wrap;\n",
              "      gap: 12px;\n",
              "    }\n",
              "\n",
              "    .colab-df-convert {\n",
              "      background-color: #E8F0FE;\n",
              "      border: none;\n",
              "      border-radius: 50%;\n",
              "      cursor: pointer;\n",
              "      display: none;\n",
              "      fill: #1967D2;\n",
              "      height: 32px;\n",
              "      padding: 0 0 0 0;\n",
              "      width: 32px;\n",
              "    }\n",
              "\n",
              "    .colab-df-convert:hover {\n",
              "      background-color: #E2EBFA;\n",
              "      box-shadow: 0px 1px 2px rgba(60, 64, 67, 0.3), 0px 1px 3px 1px rgba(60, 64, 67, 0.15);\n",
              "      fill: #174EA6;\n",
              "    }\n",
              "\n",
              "    [theme=dark] .colab-df-convert {\n",
              "      background-color: #3B4455;\n",
              "      fill: #D2E3FC;\n",
              "    }\n",
              "\n",
              "    [theme=dark] .colab-df-convert:hover {\n",
              "      background-color: #434B5C;\n",
              "      box-shadow: 0px 1px 3px 1px rgba(0, 0, 0, 0.15);\n",
              "      filter: drop-shadow(0px 1px 2px rgba(0, 0, 0, 0.3));\n",
              "      fill: #FFFFFF;\n",
              "    }\n",
              "  </style>\n",
              "\n",
              "      <script>\n",
              "        const buttonEl =\n",
              "          document.querySelector('#df-74cfb3f6-f125-448d-8f36-9f9d4e9a55fa button.colab-df-convert');\n",
              "        buttonEl.style.display =\n",
              "          google.colab.kernel.accessAllowed ? 'block' : 'none';\n",
              "\n",
              "        async function convertToInteractive(key) {\n",
              "          const element = document.querySelector('#df-74cfb3f6-f125-448d-8f36-9f9d4e9a55fa');\n",
              "          const dataTable =\n",
              "            await google.colab.kernel.invokeFunction('convertToInteractive',\n",
              "                                                     [key], {});\n",
              "          if (!dataTable) return;\n",
              "\n",
              "          const docLinkHtml = 'Like what you see? Visit the ' +\n",
              "            '<a target=\"_blank\" href=https://colab.research.google.com/notebooks/data_table.ipynb>data table notebook</a>'\n",
              "            + ' to learn more about interactive tables.';\n",
              "          element.innerHTML = '';\n",
              "          dataTable['output_type'] = 'display_data';\n",
              "          await google.colab.output.renderOutput(dataTable, element);\n",
              "          const docLink = document.createElement('div');\n",
              "          docLink.innerHTML = docLinkHtml;\n",
              "          element.appendChild(docLink);\n",
              "        }\n",
              "      </script>\n",
              "    </div>\n",
              "  </div>\n",
              "  "
            ]
          },
          "metadata": {},
          "execution_count": 161
        }
      ],
      "source": [
        "# Joint distribution of Last_Name and HomePlanet\n",
        "idx5=df_data.groupby(['Destination','HomePlanet'])['HomePlanet'].size().unstack().fillna(0).astype(int)\n",
        "idx5.head()"
      ]
    },
    {
      "cell_type": "code",
      "execution_count": 162,
      "id": "a9f93142",
      "metadata": {
        "execution": {
          "iopub.execute_input": "2022-04-15T09:58:19.573321Z",
          "iopub.status.busy": "2022-04-15T09:58:19.572672Z",
          "iopub.status.idle": "2022-04-15T09:58:19.809960Z",
          "shell.execute_reply": "2022-04-15T09:58:19.810603Z",
          "shell.execute_reply.started": "2022-04-15T09:46:34.009516Z"
        },
        "papermill": {
          "duration": 0.391804,
          "end_time": "2022-04-15T09:58:19.810786",
          "exception": false,
          "start_time": "2022-04-15T09:58:19.418982",
          "status": "completed"
        },
        "tags": [],
        "colab": {
          "base_uri": "https://localhost:8080/",
          "height": 296
        },
        "id": "a9f93142",
        "outputId": "62b841c0-b815-4e34-8592-bfaf70ebb3f7"
      },
      "outputs": [
        {
          "output_type": "execute_result",
          "data": {
            "text/plain": [
              "<matplotlib.axes._subplots.AxesSubplot at 0x7f708934c7d0>"
            ]
          },
          "metadata": {},
          "execution_count": 162
        },
        {
          "output_type": "display_data",
          "data": {
            "text/plain": [
              "<Figure size 720x288 with 2 Axes>"
            ],
            "image/png": "[encoded data removed]"
          },
          "metadata": {
            "needs_background": "light"
          }
        }
      ],
      "source": [
        "# Heatmap of missing values\n",
        "plt.figure(figsize=(10,4))\n",
        "sns.heatmap(idx5.T, annot=True, fmt='g', cmap='winter')"
      ]
    },
    {
      "cell_type": "markdown",
      "id": "991d4a2b",
      "metadata": {
        "papermill": {
          "duration": 0.149819,
          "end_time": "2022-04-15T09:58:20.114092",
          "exception": false,
          "start_time": "2022-04-15T09:58:19.964273",
          "status": "completed"
        },
        "tags": [],
        "id": "991d4a2b"
      },
      "source": [
        "Most people heading towards TRAPPIST-1e came from Earth so it makes sense to guess they came from there. But remember from earlier, no one on deck D came from Earth so we need to filter these out."
      ]
    },
    {
      "cell_type": "code",
      "execution_count": 163,
      "id": "3654b201",
      "metadata": {
        "execution": {
          "iopub.execute_input": "2022-04-15T09:58:20.424602Z",
          "iopub.status.busy": "2022-04-15T09:58:20.420217Z",
          "iopub.status.idle": "2022-04-15T09:58:20.434287Z",
          "shell.execute_reply": "2022-04-15T09:58:20.434739Z",
          "shell.execute_reply.started": "2022-04-15T09:46:34.283926Z"
        },
        "papermill": {
          "duration": 0.170541,
          "end_time": "2022-04-15T09:58:20.434885",
          "exception": false,
          "start_time": "2022-04-15T09:58:20.264344",
          "status": "completed"
        },
        "tags": [],
        "colab": {
          "base_uri": "https://localhost:8080/"
        },
        "id": "3654b201",
        "outputId": "aed0b2c4-976a-4f21-be19-34e1d46ee347"
      },
      "outputs": [
        {
          "output_type": "stream",
          "name": "stdout",
          "text": [
            "Number of HomePlanet missing values before: 10\n",
            "Number of HomePlanet missing values after: 0\n"
          ]
        }
      ],
      "source": [
        "# Missing values before\n",
        "before_HomePlanet_miss = df_data.HomePlanet.isnull().sum()\n",
        "\n",
        "# Fill remaining HomePlanet missing values with Earth (if not on deck D) or Mars (if on Deck D)\n",
        "df_data.loc[(df_data.HomePlanet.isnull()) & (df_data.Cabin_deck != 'D'),'HomePlanet']='Earth'\n",
        "df_data.loc[(df_data.HomePlanet.isnull()) & (df_data.Cabin_deck == 'D'),'HomePlanet']='Mars'\n",
        "\n",
        "# Print number of missing values left\n",
        "print('Number of HomePlanet missing values before:',before_HomePlanet_miss)\n",
        "print('Number of HomePlanet missing values after:',df_data['HomePlanet'].isnull().sum())"
      ]
    },
    {
      "cell_type": "markdown",
      "id": "f1d565cb",
      "metadata": {
        "papermill": {
          "duration": 0.152131,
          "end_time": "2022-04-15T09:58:20.748106",
          "exception": false,
          "start_time": "2022-04-15T09:58:20.595975",
          "status": "completed"
        },
        "tags": [],
        "id": "f1d565cb"
      },
      "source": [
        "**Great**. mission (Missing Values for HomePlanet) complete ."
      ]
    },
    {
      "cell_type": "markdown",
      "id": "b4ab77db",
      "metadata": {
        "papermill": {
          "duration": 0.152871,
          "end_time": "2022-04-15T09:58:21.055421",
          "exception": false,
          "start_time": "2022-04-15T09:58:20.902550",
          "status": "completed"
        },
        "tags": [],
        "id": "b4ab77db"
      },
      "source": [
        "**Destination:**"
      ]
    },
    {
      "cell_type": "code",
      "execution_count": 164,
      "id": "6db57d84",
      "metadata": {
        "execution": {
          "iopub.execute_input": "2022-04-15T09:58:21.357377Z",
          "iopub.status.busy": "2022-04-15T09:58:21.356754Z",
          "iopub.status.idle": "2022-04-15T09:58:21.364559Z",
          "shell.execute_reply": "2022-04-15T09:58:21.365161Z",
          "shell.execute_reply.started": "2022-04-15T09:46:34.30941Z"
        },
        "papermill": {
          "duration": 0.158333,
          "end_time": "2022-04-15T09:58:21.365308",
          "exception": false,
          "start_time": "2022-04-15T09:58:21.206975",
          "status": "completed"
        },
        "tags": [],
        "colab": {
          "base_uri": "https://localhost:8080/"
        },
        "id": "6db57d84",
        "outputId": "3b7629e4-66dc-4f4a-db3e-09f24e50f103"
      },
      "outputs": [
        {
          "output_type": "execute_result",
          "data": {
            "text/plain": [
              "TRAPPIST-1e      68.396299\n",
              "55 Cancri e      20.362375\n",
              "PSO J318.5-22     9.128759\n",
              "Name: Destination, dtype: float64"
            ]
          },
          "metadata": {},
          "execution_count": 164
        }
      ],
      "source": [
        "df_data.Destination.value_counts()/len(df_data.Destination) * 100"
      ]
    },
    {
      "cell_type": "markdown",
      "id": "87af7614",
      "metadata": {
        "papermill": {
          "duration": 0.153227,
          "end_time": "2022-04-15T09:58:21.674085",
          "exception": false,
          "start_time": "2022-04-15T09:58:21.520858",
          "status": "completed"
        },
        "tags": [],
        "id": "87af7614"
      },
      "source": [
        "Since about 68% of the destination Column is related to TRAPPIST-1e, So we use the mode to fill the missing values."
      ]
    },
    {
      "cell_type": "code",
      "execution_count": 165,
      "id": "abc8e99e",
      "metadata": {
        "execution": {
          "iopub.execute_input": "2022-04-15T09:58:21.982621Z",
          "iopub.status.busy": "2022-04-15T09:58:21.981916Z",
          "iopub.status.idle": "2022-04-15T09:58:21.993674Z",
          "shell.execute_reply": "2022-04-15T09:58:21.994266Z",
          "shell.execute_reply.started": "2022-04-15T09:46:34.322635Z"
        },
        "papermill": {
          "duration": 0.167119,
          "end_time": "2022-04-15T09:58:21.994408",
          "exception": false,
          "start_time": "2022-04-15T09:58:21.827289",
          "status": "completed"
        },
        "tags": [],
        "colab": {
          "base_uri": "https://localhost:8080/"
        },
        "id": "abc8e99e",
        "outputId": "815ba3a4-07cf-4a43-fe5f-51db5b342f9c"
      },
      "outputs": [
        {
          "output_type": "stream",
          "name": "stdout",
          "text": [
            "Number of Destination missing values before: 274\n",
            "Number of Destination missing values after: 0\n"
          ]
        }
      ],
      "source": [
        "# Missing values before\n",
        "before_destination_miss=df_data['Destination'].isnull().sum()\n",
        "\n",
        "# Fill missing Destination values with mode\n",
        "df_data.loc[(df_data['Destination'].isnull()), 'Destination']='TRAPPIST-1e'\n",
        "\n",
        "# Print number of missing values left\n",
        "print('Number of Destination missing values before:',before_destination_miss)\n",
        "print('Number of Destination missing values after:',df_data['Destination'].isnull().sum())"
      ]
    },
    {
      "cell_type": "markdown",
      "id": "a230a2d3",
      "metadata": {
        "papermill": {
          "duration": 0.152911,
          "end_time": "2022-04-15T09:58:22.296976",
          "exception": false,
          "start_time": "2022-04-15T09:58:22.144065",
          "status": "completed"
        },
        "tags": [],
        "id": "a230a2d3"
      },
      "source": [
        "**Last_Name and Passenger_Group:**"
      ]
    },
    {
      "cell_type": "markdown",
      "id": "8b54abda",
      "metadata": {
        "papermill": {
          "duration": 0.150684,
          "end_time": "2022-04-15T09:58:22.597503",
          "exception": false,
          "start_time": "2022-04-15T09:58:22.446819",
          "status": "completed"
        },
        "tags": [],
        "id": "8b54abda"
      },
      "source": [
        "The reason we are filling missing Last Names is because we will use Last Names later to fill missing values of other features. It also means we can improve the accuracy of the family size featue."
      ]
    },
    {
      "cell_type": "code",
      "execution_count": 166,
      "id": "ca2c973a",
      "metadata": {
        "execution": {
          "iopub.execute_input": "2022-04-15T09:58:22.930621Z",
          "iopub.status.busy": "2022-04-15T09:58:22.927987Z",
          "iopub.status.idle": "2022-04-15T09:58:23.010062Z",
          "shell.execute_reply": "2022-04-15T09:58:23.009434Z",
          "shell.execute_reply.started": "2022-04-15T09:46:34.341599Z"
        },
        "papermill": {
          "duration": 0.257743,
          "end_time": "2022-04-15T09:58:23.010198",
          "exception": false,
          "start_time": "2022-04-15T09:58:22.752455",
          "status": "completed"
        },
        "tags": [],
        "colab": {
          "base_uri": "https://localhost:8080/",
          "height": 331
        },
        "id": "ca2c973a",
        "outputId": "d6493001-b8b5-40cd-b67d-acc7c8df38ab"
      },
      "outputs": [
        {
          "output_type": "execute_result",
          "data": {
            "text/plain": [
              "Last_Name        Acobson  Acobsond  Adavisons  Admingried  Aginge  Ailled  \\\n",
              "Passenger_Group                                                             \n",
              "3                      0         0          0           0       0       0   \n",
              "6                      0         0          0           0       0       0   \n",
              "8                      0         0          0           0       0       0   \n",
              "17                     0         0          0           0       0       0   \n",
              "20                     0         0          0           0       0       0   \n",
              "\n",
              "Last_Name        Aillyber  Ainatint  Aindlylid  Ainserfle  ...  Woody  Wooes  \\\n",
              "Passenger_Group                                            ...                 \n",
              "3                       0         0          0          0  ...      0      0   \n",
              "6                       0         0          0          0  ...      0      0   \n",
              "8                       0         0          0          0  ...      0      0   \n",
              "17                      0         0          0          0  ...      0      0   \n",
              "20                      0         0          0          0  ...      0      0   \n",
              "\n",
              "Last_Name        Wooterston  Workmans  Workmanson  Wriggins  Yanton  Yatters  \\\n",
              "Passenger_Group                                                                \n",
              "3                         0         0           0         0       0        0   \n",
              "6                         0         0           0         0       0        0   \n",
              "8                         0         0           0         0       0        0   \n",
              "17                        0         0           0         0       0        0   \n",
              "20                        0         0           0         0       0        0   \n",
              "\n",
              "Last_Name        Yorkland  Youngrayes  \n",
              "Passenger_Group                        \n",
              "3                       0           0  \n",
              "6                       0           0  \n",
              "8                       0           0  \n",
              "17                      0           0  \n",
              "20                      0           0  \n",
              "\n",
              "[5 rows x 1631 columns]"
            ],
            "text/html": [
              "\n",
              "  <div id=\"df-a614c1ba-a741-4675-b791-6fe3e092cc2e\">\n",
              "    <div class=\"colab-df-container\">\n",
              "      <div>\n",
              "<style scoped>\n",
              "    .dataframe tbody tr th:only-of-type {\n",
              "        vertical-align: middle;\n",
              "    }\n",
              "\n",
              "    .dataframe tbody tr th {\n",
              "        vertical-align: top;\n",
              "    }\n",
              "\n",
              "    .dataframe thead th {\n",
              "        text-align: right;\n",
              "    }\n",
              "</style>\n",
              "<table border=\"1\" class=\"dataframe\">\n",
              "  <thead>\n",
              "    <tr style=\"text-align: right;\">\n",
              "      <th>Last_Name</th>\n",
              "      <th>Acobson</th>\n",
              "      <th>Acobsond</th>\n",
              "      <th>Adavisons</th>\n",
              "      <th>Admingried</th>\n",
              "      <th>Aginge</th>\n",
              "      <th>Ailled</th>\n",
              "      <th>Aillyber</th>\n",
              "      <th>Ainatint</th>\n",
              "      <th>Aindlylid</th>\n",
              "      <th>Ainserfle</th>\n",
              "      <th>...</th>\n",
              "      <th>Woody</th>\n",
              "      <th>Wooes</th>\n",
              "      <th>Wooterston</th>\n",
              "      <th>Workmans</th>\n",
              "      <th>Workmanson</th>\n",
              "      <th>Wriggins</th>\n",
              "      <th>Yanton</th>\n",
              "      <th>Yatters</th>\n",
              "      <th>Yorkland</th>\n",
              "      <th>Youngrayes</th>\n",
              "    </tr>\n",
              "    <tr>\n",
              "      <th>Passenger_Group</th>\n",
              "      <th></th>\n",
              "      <th></th>\n",
              "      <th></th>\n",
              "      <th></th>\n",
              "      <th></th>\n",
              "      <th></th>\n",
              "      <th></th>\n",
              "      <th></th>\n",
              "      <th></th>\n",
              "      <th></th>\n",
              "      <th></th>\n",
              "      <th></th>\n",
              "      <th></th>\n",
              "      <th></th>\n",
              "      <th></th>\n",
              "      <th></th>\n",
              "      <th></th>\n",
              "      <th></th>\n",
              "      <th></th>\n",
              "      <th></th>\n",
              "      <th></th>\n",
              "    </tr>\n",
              "  </thead>\n",
              "  <tbody>\n",
              "    <tr>\n",
              "      <th>3</th>\n",
              "      <td>0</td>\n",
              "      <td>0</td>\n",
              "      <td>0</td>\n",
              "      <td>0</td>\n",
              "      <td>0</td>\n",
              "      <td>0</td>\n",
              "      <td>0</td>\n",
              "      <td>0</td>\n",
              "      <td>0</td>\n",
              "      <td>0</td>\n",
              "      <td>...</td>\n",
              "      <td>0</td>\n",
              "      <td>0</td>\n",
              "      <td>0</td>\n",
              "      <td>0</td>\n",
              "      <td>0</td>\n",
              "      <td>0</td>\n",
              "      <td>0</td>\n",
              "      <td>0</td>\n",
              "      <td>0</td>\n",
              "      <td>0</td>\n",
              "    </tr>\n",
              "    <tr>\n",
              "      <th>6</th>\n",
              "      <td>0</td>\n",
              "      <td>0</td>\n",
              "      <td>0</td>\n",
              "      <td>0</td>\n",
              "      <td>0</td>\n",
              "      <td>0</td>\n",
              "      <td>0</td>\n",
              "      <td>0</td>\n",
              "      <td>0</td>\n",
              "      <td>0</td>\n",
              "      <td>...</td>\n",
              "      <td>0</td>\n",
              "      <td>0</td>\n",
              "      <td>0</td>\n",
              "      <td>0</td>\n",
              "      <td>0</td>\n",
              "      <td>0</td>\n",
              "      <td>0</td>\n",
              "      <td>0</td>\n",
              "      <td>0</td>\n",
              "      <td>0</td>\n",
              "    </tr>\n",
              "    <tr>\n",
              "      <th>8</th>\n",
              "      <td>0</td>\n",
              "      <td>0</td>\n",
              "      <td>0</td>\n",
              "      <td>0</td>\n",
              "      <td>0</td>\n",
              "      <td>0</td>\n",
              "      <td>0</td>\n",
              "      <td>0</td>\n",
              "      <td>0</td>\n",
              "      <td>0</td>\n",
              "      <td>...</td>\n",
              "      <td>0</td>\n",
              "      <td>0</td>\n",
              "      <td>0</td>\n",
              "      <td>0</td>\n",
              "      <td>0</td>\n",
              "      <td>0</td>\n",
              "      <td>0</td>\n",
              "      <td>0</td>\n",
              "      <td>0</td>\n",
              "      <td>0</td>\n",
              "    </tr>\n",
              "    <tr>\n",
              "      <th>17</th>\n",
              "      <td>0</td>\n",
              "      <td>0</td>\n",
              "      <td>0</td>\n",
              "      <td>0</td>\n",
              "      <td>0</td>\n",
              "      <td>0</td>\n",
              "      <td>0</td>\n",
              "      <td>0</td>\n",
              "      <td>0</td>\n",
              "      <td>0</td>\n",
              "      <td>...</td>\n",
              "      <td>0</td>\n",
              "      <td>0</td>\n",
              "      <td>0</td>\n",
              "      <td>0</td>\n",
              "      <td>0</td>\n",
              "      <td>0</td>\n",
              "      <td>0</td>\n",
              "      <td>0</td>\n",
              "      <td>0</td>\n",
              "      <td>0</td>\n",
              "    </tr>\n",
              "    <tr>\n",
              "      <th>20</th>\n",
              "      <td>0</td>\n",
              "      <td>0</td>\n",
              "      <td>0</td>\n",
              "      <td>0</td>\n",
              "      <td>0</td>\n",
              "      <td>0</td>\n",
              "      <td>0</td>\n",
              "      <td>0</td>\n",
              "      <td>0</td>\n",
              "      <td>0</td>\n",
              "      <td>...</td>\n",
              "      <td>0</td>\n",
              "      <td>0</td>\n",
              "      <td>0</td>\n",
              "      <td>0</td>\n",
              "      <td>0</td>\n",
              "      <td>0</td>\n",
              "      <td>0</td>\n",
              "      <td>0</td>\n",
              "      <td>0</td>\n",
              "      <td>0</td>\n",
              "    </tr>\n",
              "  </tbody>\n",
              "</table>\n",
              "<p>5 rows × 1631 columns</p>\n",
              "</div>\n",
              "      <button class=\"colab-df-convert\" onclick=\"convertToInteractive('df-a614c1ba-a741-4675-b791-6fe3e092cc2e')\"\n",
              "              title=\"Convert this dataframe to an interactive table.\"\n",
              "              style=\"display:none;\">\n",
              "        \n",
              "  <svg xmlns=\"http://www.w3.org/2000/svg\" height=\"24px\"viewBox=\"0 0 24 24\"\n",
              "       width=\"24px\">\n",
              "    <path d=\"M0 0h24v24H0V0z\" fill=\"none\"/>\n",
              "    <path d=\"M18.56 5.44l.94 2.06.94-2.06 2.06-.94-2.06-.94-.94-2.06-.94 2.06-2.06.94zm-11 1L8.5 8.5l.94-2.06 2.06-.94-2.06-.94L8.5 2.5l-.94 2.06-2.06.94zm10 10l.94 2.06.94-2.06 2.06-.94-2.06-.94-.94-2.06-.94 2.06-2.06.94z\"/><path d=\"M17.41 7.96l-1.37-1.37c-.4-.4-.92-.59-1.43-.59-.52 0-1.04.2-1.43.59L10.3 9.45l-7.72 7.72c-.78.78-.78 2.05 0 2.83L4 21.41c.39.39.9.59 1.41.59.51 0 1.02-.2 1.41-.59l7.78-7.78 2.81-2.81c.8-.78.8-2.07 0-2.86zM5.41 20L4 18.59l7.72-7.72 1.47 1.35L5.41 20z\"/>\n",
              "  </svg>\n",
              "      </button>\n",
              "      \n",
              "  <style>\n",
              "    .colab-df-container {\n",
              "      display:flex;\n",
              "      flex-wrap:wrap;\n",
              "      gap: 12px;\n",
              "    }\n",
              "\n",
              "    .colab-df-convert {\n",
              "      background-color: #E8F0FE;\n",
              "      border: none;\n",
              "      border-radius: 50%;\n",
              "      cursor: pointer;\n",
              "      display: none;\n",
              "      fill: #1967D2;\n",
              "      height: 32px;\n",
              "      padding: 0 0 0 0;\n",
              "      width: 32px;\n",
              "    }\n",
              "\n",
              "    .colab-df-convert:hover {\n",
              "      background-color: #E2EBFA;\n",
              "      box-shadow: 0px 1px 2px rgba(60, 64, 67, 0.3), 0px 1px 3px 1px rgba(60, 64, 67, 0.15);\n",
              "      fill: #174EA6;\n",
              "    }\n",
              "\n",
              "    [theme=dark] .colab-df-convert {\n",
              "      background-color: #3B4455;\n",
              "      fill: #D2E3FC;\n",
              "    }\n",
              "\n",
              "    [theme=dark] .colab-df-convert:hover {\n",
              "      background-color: #434B5C;\n",
              "      box-shadow: 0px 1px 3px 1px rgba(0, 0, 0, 0.15);\n",
              "      filter: drop-shadow(0px 1px 2px rgba(0, 0, 0, 0.3));\n",
              "      fill: #FFFFFF;\n",
              "    }\n",
              "  </style>\n",
              "\n",
              "      <script>\n",
              "        const buttonEl =\n",
              "          document.querySelector('#df-a614c1ba-a741-4675-b791-6fe3e092cc2e button.colab-df-convert');\n",
              "        buttonEl.style.display =\n",
              "          google.colab.kernel.accessAllowed ? 'block' : 'none';\n",
              "\n",
              "        async function convertToInteractive(key) {\n",
              "          const element = document.querySelector('#df-a614c1ba-a741-4675-b791-6fe3e092cc2e');\n",
              "          const dataTable =\n",
              "            await google.colab.kernel.invokeFunction('convertToInteractive',\n",
              "                                                     [key], {});\n",
              "          if (!dataTable) return;\n",
              "\n",
              "          const docLinkHtml = 'Like what you see? Visit the ' +\n",
              "            '<a target=\"_blank\" href=https://colab.research.google.com/notebooks/data_table.ipynb>data table notebook</a>'\n",
              "            + ' to learn more about interactive tables.';\n",
              "          element.innerHTML = '';\n",
              "          dataTable['output_type'] = 'display_data';\n",
              "          await google.colab.output.renderOutput(dataTable, element);\n",
              "          const docLink = document.createElement('div');\n",
              "          docLink.innerHTML = docLinkHtml;\n",
              "          element.appendChild(docLink);\n",
              "        }\n",
              "      </script>\n",
              "    </div>\n",
              "  </div>\n",
              "  "
            ]
          },
          "metadata": {},
          "execution_count": 166
        }
      ],
      "source": [
        "idx6 = df_data[df_data.Passenger_Group_Size>1].groupby(['Passenger_Group','Last_Name']).size().unstack().fillna(0).astype(int)\n",
        "idx6.head()"
      ]
    },
    {
      "cell_type": "code",
      "execution_count": 167,
      "id": "65331d20",
      "metadata": {
        "execution": {
          "iopub.execute_input": "2022-04-15T09:58:23.336457Z",
          "iopub.status.busy": "2022-04-15T09:58:23.335683Z",
          "iopub.status.idle": "2022-04-15T09:58:23.533041Z",
          "shell.execute_reply": "2022-04-15T09:58:23.533501Z",
          "shell.execute_reply.started": "2022-04-15T09:46:34.440761Z"
        },
        "papermill": {
          "duration": 0.368898,
          "end_time": "2022-04-15T09:58:23.533670",
          "exception": false,
          "start_time": "2022-04-15T09:58:23.164772",
          "status": "completed"
        },
        "tags": [],
        "colab": {
          "base_uri": "https://localhost:8080/",
          "height": 298
        },
        "id": "65331d20",
        "outputId": "72f19703-d37b-4478-f994-4bd55d3cd9a8"
      },
      "outputs": [
        {
          "output_type": "execute_result",
          "data": {
            "text/plain": [
              "Text(0.5, 1.0, 'Number of unique Last Name by Passenger Group')"
            ]
          },
          "metadata": {},
          "execution_count": 167
        },
        {
          "output_type": "display_data",
          "data": {
            "text/plain": [
              "<Figure size 720x288 with 1 Axes>"
            ],
            "image/png": "[encoded data removed]"
          },
          "metadata": {
            "needs_background": "light"
          }
        }
      ],
      "source": [
        "# Countplot of unique values\n",
        "plt.figure(figsize=(10,4))\n",
        "sns.countplot((idx6>0).sum(axis=1),palette = \"cool_r\")\n",
        "plt.title('Number of unique Last Name by Passenger Group')"
      ]
    },
    {
      "cell_type": "markdown",
      "id": "cbffd277",
      "metadata": {
        "papermill": {
          "duration": 0.160888,
          "end_time": "2022-04-15T09:58:23.856214",
          "exception": false,
          "start_time": "2022-04-15T09:58:23.695326",
          "status": "completed"
        },
        "tags": [],
        "id": "cbffd277"
      },
      "source": [
        "The majority (83%) of groups contain only 1 family. So let's fill missing Last_Name according to the majority Last_Name in that Passenger Group."
      ]
    },
    {
      "cell_type": "code",
      "execution_count": 168,
      "id": "a0313453",
      "metadata": {
        "execution": {
          "iopub.execute_input": "2022-04-15T09:58:24.177527Z",
          "iopub.status.busy": "2022-04-15T09:58:24.176828Z",
          "iopub.status.idle": "2022-04-15T09:58:27.405498Z",
          "shell.execute_reply": "2022-04-15T09:58:27.405996Z",
          "shell.execute_reply.started": "2022-04-15T09:46:34.67274Z"
        },
        "papermill": {
          "duration": 3.392115,
          "end_time": "2022-04-15T09:58:27.406176",
          "exception": false,
          "start_time": "2022-04-15T09:58:24.014061",
          "status": "completed"
        },
        "tags": [],
        "colab": {
          "base_uri": "https://localhost:8080/"
        },
        "id": "a0313453",
        "outputId": "9c2df412-e0e8-45a9-9bec-cbd87c2e7e1d"
      },
      "outputs": [
        {
          "output_type": "stream",
          "name": "stdout",
          "text": [
            "Number of Last_Name missing values before: 294\n",
            "Number of Last_Name missing values after: 155\n"
          ]
        }
      ],
      "source": [
        "# Missing values before\n",
        "before_Last_Name_miss=df_data['Last_Name'].isnull().sum()\n",
        "\n",
        "# Passengers with missing Last Name and in a Passenger Group with known majority Last Name\n",
        "idx7=df_data[df_data['Last_Name'].isna()][(df_data[df_data['Last_Name'].isna()]['Passenger_Group']).isin(idx6.index)].index\n",
        "\n",
        "# Fill corresponding missing values\n",
        "df_data.loc[idx7,'Last_Name']=df_data.iloc[idx7,:]['Passenger_Group'].map(lambda x: idx6.idxmax(axis=1)[x])\n",
        "\n",
        "# Print number of missing values left\n",
        "print('Number of Last_Name missing values before:',before_Last_Name_miss)\n",
        "print('Number of Last_Name missing values after:',df_data['Last_Name'].isnull().sum())"
      ]
    },
    {
      "cell_type": "markdown",
      "id": "1b7d492d",
      "metadata": {
        "papermill": {
          "duration": 0.158607,
          "end_time": "2022-04-15T09:58:27.725887",
          "exception": false,
          "start_time": "2022-04-15T09:58:27.567280",
          "status": "completed"
        },
        "tags": [],
        "id": "1b7d492d"
      },
      "source": [
        "That is the best we can do. We don't have to get rid of all of these missing values because we will end up dropping the Last_Name feature anyway. However, we can update the family size feature."
      ]
    },
    {
      "cell_type": "code",
      "execution_count": 169,
      "id": "b5f5e498",
      "metadata": {
        "execution": {
          "iopub.execute_input": "2022-04-15T09:58:28.071279Z",
          "iopub.status.busy": "2022-04-15T09:58:28.070278Z",
          "iopub.status.idle": "2022-04-15T09:58:28.076341Z",
          "shell.execute_reply": "2022-04-15T09:58:28.076782Z",
          "shell.execute_reply.started": "2022-04-15T09:46:38.296673Z"
        },
        "papermill": {
          "duration": 0.19002,
          "end_time": "2022-04-15T09:58:28.076946",
          "exception": false,
          "start_time": "2022-04-15T09:58:27.886926",
          "status": "completed"
        },
        "tags": [],
        "colab": {
          "base_uri": "https://localhost:8080/"
        },
        "id": "b5f5e498",
        "outputId": "996a8f4d-620f-4b79-b94f-8e55d6651f5f"
      },
      "outputs": [
        {
          "output_type": "execute_result",
          "data": {
            "text/plain": [
              "PassengerId                0\n",
              "HomePlanet                 0\n",
              "CryoSleep                310\n",
              "Destination                0\n",
              "Age                      270\n",
              "VIP                      296\n",
              "RoomService              263\n",
              "FoodCourt                289\n",
              "ShoppingMall             306\n",
              "Spa                      284\n",
              "VRDeck                   268\n",
              "Transported             4277\n",
              "Age_group                270\n",
              "Cost                       0\n",
              "No_Cost                    0\n",
              "Passenger_Group            0\n",
              "Passenger_Group_Size       0\n",
              "Alone                      0\n",
              "Cabin_deck               299\n",
              "Cabin_number             299\n",
              "Cabin_side               299\n",
              "Cabin_Part1                0\n",
              "Cabin_Part2                0\n",
              "Cabin_Part3                0\n",
              "Cabin_Part4                0\n",
              "Cabin_Part5                0\n",
              "Cabin_Part6                0\n",
              "Cabin_Part7                0\n",
              "Last_Name                155\n",
              "Family_Size              294\n",
              "dtype: int64"
            ]
          },
          "metadata": {},
          "execution_count": 169
        }
      ],
      "source": [
        "df_data.isnull().sum()"
      ]
    },
    {
      "cell_type": "code",
      "execution_count": 170,
      "id": "9013e68b",
      "metadata": {
        "execution": {
          "iopub.execute_input": "2022-04-15T09:58:28.420658Z",
          "iopub.status.busy": "2022-04-15T09:58:28.419798Z",
          "iopub.status.idle": "2022-04-15T09:59:10.857630Z",
          "shell.execute_reply": "2022-04-15T09:59:10.856934Z",
          "shell.execute_reply.started": "2022-04-15T09:46:38.322614Z"
        },
        "papermill": {
          "duration": 42.612357,
          "end_time": "2022-04-15T09:59:10.857772",
          "exception": false,
          "start_time": "2022-04-15T09:58:28.245415",
          "status": "completed"
        },
        "tags": [],
        "id": "9013e68b"
      },
      "outputs": [],
      "source": [
        "# fills NaN's \n",
        "df_data['Last_Name'].fillna('Unknown', inplace=True)\n",
        "\n",
        "# Update family size feature\n",
        "df_data['Family_Size'] = df_data['Last_Name'].apply(lambda x: df_data['Last_Name'].value_counts()[x])\n",
        "\n",
        "# Put NaN's back in place of outliers\n",
        "df_data.loc[df_data['Last_Name']=='Unknown','Last_Name']=np.nan\n",
        "\n",
        "# Say unknown Last Name means no family\n",
        "df_data.loc[df_data['Family_Size']>100,'Family_Size']=0"
      ]
    },
    {
      "cell_type": "markdown",
      "id": "4f080890",
      "metadata": {
        "papermill": {
          "duration": 0.16482,
          "end_time": "2022-04-15T09:59:11.202702",
          "exception": false,
          "start_time": "2022-04-15T09:59:11.037882",
          "status": "completed"
        },
        "tags": [],
        "id": "4f080890"
      },
      "source": [
        "**Cabin_side and Passenger_Group:**"
      ]
    },
    {
      "cell_type": "code",
      "execution_count": 171,
      "id": "b535ec6b",
      "metadata": {
        "execution": {
          "iopub.execute_input": "2022-04-15T09:59:11.528562Z",
          "iopub.status.busy": "2022-04-15T09:59:11.527952Z",
          "iopub.status.idle": "2022-04-15T09:59:11.593035Z",
          "shell.execute_reply": "2022-04-15T09:59:11.592436Z",
          "shell.execute_reply.started": "2022-04-15T09:47:26.640055Z"
        },
        "papermill": {
          "duration": 0.226973,
          "end_time": "2022-04-15T09:59:11.593184",
          "exception": false,
          "start_time": "2022-04-15T09:59:11.366211",
          "status": "completed"
        },
        "tags": [],
        "id": "b535ec6b"
      },
      "outputs": [],
      "source": [
        "# Joint distribution of Passenger Group and Cabin features\n",
        "j1=df_data[df_data['Passenger_Group_Size']>1].groupby(['Passenger_Group','Cabin_deck'])['Cabin_deck'].size().unstack().fillna(0).astype(int)\n",
        "j2=df_data[df_data['Passenger_Group_Size']>1].groupby(['Passenger_Group','Cabin_number'])['Cabin_number'].size().unstack().fillna(0).astype(int)\n",
        "j3=df_data[df_data['Passenger_Group_Size']>1].groupby(['Passenger_Group','Cabin_side'])['Cabin_side'].size().unstack().fillna(0).astype(int)"
      ]
    },
    {
      "cell_type": "code",
      "execution_count": 172,
      "id": "a4001d5f",
      "metadata": {
        "execution": {
          "iopub.execute_input": "2022-04-15T09:59:11.947585Z",
          "iopub.status.busy": "2022-04-15T09:59:11.935953Z",
          "iopub.status.idle": "2022-04-15T09:59:12.361126Z",
          "shell.execute_reply": "2022-04-15T09:59:12.361576Z",
          "shell.execute_reply.started": "2022-04-15T09:47:26.71337Z"
        },
        "papermill": {
          "duration": 0.604649,
          "end_time": "2022-04-15T09:59:12.361729",
          "exception": false,
          "start_time": "2022-04-15T09:59:11.757080",
          "status": "completed"
        },
        "tags": [],
        "colab": {
          "base_uri": "https://localhost:8080/",
          "height": 297
        },
        "id": "a4001d5f",
        "outputId": "4729aa8a-0de0-4d94-f665-776a466da38d"
      },
      "outputs": [
        {
          "output_type": "display_data",
          "data": {
            "text/plain": [
              "<Figure size 1152x288 with 3 Axes>"
            ],
            "image/png": "[encoded data removed]"
          },
          "metadata": {
            "needs_background": "light"
          }
        }
      ],
      "source": [
        "# Countplots\n",
        "fig=plt.figure(figsize=(16,4))\n",
        "plt.subplot(1,3,1)\n",
        "sns.countplot((j1>0).sum(axis=1),palette = \"cool_r\")\n",
        "plt.title('Number Of Unique cabin decks per Passenger group')\n",
        "\n",
        "plt.subplot(1,3,2)\n",
        "sns.countplot((j2>0).sum(axis=1),palette = \"cool_r\")\n",
        "plt.title('Number Of Unique cabin numbers per Passenger group')\n",
        "\n",
        "plt.subplot(1,3,3)\n",
        "sns.countplot((j3>0).sum(axis=1),palette = \"cool_r\")\n",
        "plt.title('Number Of Unique cabin sides per Passenger group')\n",
        "fig.tight_layout()"
      ]
    },
    {
      "cell_type": "code",
      "execution_count": 173,
      "id": "64c05f4c",
      "metadata": {
        "execution": {
          "iopub.execute_input": "2022-04-15T09:59:12.700215Z",
          "iopub.status.busy": "2022-04-15T09:59:12.698281Z",
          "iopub.status.idle": "2022-04-15T09:59:13.227836Z",
          "shell.execute_reply": "2022-04-15T09:59:13.226600Z",
          "shell.execute_reply.started": "2022-04-15T09:47:27.212882Z"
        },
        "papermill": {
          "duration": 0.70468,
          "end_time": "2022-04-15T09:59:13.228017",
          "exception": false,
          "start_time": "2022-04-15T09:59:12.523337",
          "status": "completed"
        },
        "tags": [],
        "colab": {
          "base_uri": "https://localhost:8080/"
        },
        "id": "64c05f4c",
        "outputId": "42750be5-7c3f-4edc-fed5-5d963265f6bd"
      },
      "outputs": [
        {
          "output_type": "stream",
          "name": "stdout",
          "text": [
            "Number of Cabin_side missing values before: 299\n",
            "Number of Cabin_side missing values after: 162\n"
          ]
        }
      ],
      "source": [
        "# Missing values before\n",
        "before_Cabin_side_miss=df_data['Cabin_side'].isnull().sum()\n",
        "\n",
        "# Passengers with missing Cabin side and in a Passenger Group with known majority Cabin side\n",
        "idx8=df_data[df_data['Cabin_side'].isna()][(df_data[df_data['Cabin_side'].isna()]['Passenger_Group']).isin(j3.index)].index\n",
        "\n",
        "# Fill corresponding missing values\n",
        "df_data.loc[idx8,'Cabin_side']=df_data.iloc[idx8,:]['Passenger_Group'].map(lambda x: j3.idxmax(axis=1)[x])\n",
        "\n",
        "# Print number of missing values left\n",
        "print('Number of Cabin_side missing values before:',before_Cabin_side_miss)\n",
        "print('Number of Cabin_side missing values after:',df_data['Cabin_side'].isnull().sum())"
      ]
    },
    {
      "cell_type": "markdown",
      "id": "695ac935",
      "metadata": {
        "papermill": {
          "duration": 0.163127,
          "end_time": "2022-04-15T09:59:13.557535",
          "exception": false,
          "start_time": "2022-04-15T09:59:13.394408",
          "status": "completed"
        },
        "tags": [],
        "id": "695ac935"
      },
      "source": [
        "**Cabin_side and Last_Name:**"
      ]
    },
    {
      "cell_type": "code",
      "execution_count": 174,
      "id": "49c65862",
      "metadata": {
        "execution": {
          "iopub.execute_input": "2022-04-15T09:59:13.888114Z",
          "iopub.status.busy": "2022-04-15T09:59:13.887541Z",
          "iopub.status.idle": "2022-04-15T09:59:13.904096Z",
          "shell.execute_reply": "2022-04-15T09:59:13.903572Z",
          "shell.execute_reply.started": "2022-04-15T09:47:27.807724Z"
        },
        "papermill": {
          "duration": 0.18269,
          "end_time": "2022-04-15T09:59:13.904235",
          "exception": false,
          "start_time": "2022-04-15T09:59:13.721545",
          "status": "completed"
        },
        "tags": [],
        "colab": {
          "base_uri": "https://localhost:8080/",
          "height": 238
        },
        "id": "49c65862",
        "outputId": "717e30b4-c099-408a-c878-77447ef8abd2"
      },
      "outputs": [
        {
          "output_type": "execute_result",
          "data": {
            "text/plain": [
              "Cabin_side  P  S\n",
              "Last_Name       \n",
              "Acobson     0  3\n",
              "Acobsond    3  0\n",
              "Adavisons   6  0\n",
              "Admingried  0  4\n",
              "Aginge      3  0"
            ],
            "text/html": [
              "\n",
              "  <div id=\"df-d7b81843-74b7-42c7-b27e-eb748c6d280a\">\n",
              "    <div class=\"colab-df-container\">\n",
              "      <div>\n",
              "<style scoped>\n",
              "    .dataframe tbody tr th:only-of-type {\n",
              "        vertical-align: middle;\n",
              "    }\n",
              "\n",
              "    .dataframe tbody tr th {\n",
              "        vertical-align: top;\n",
              "    }\n",
              "\n",
              "    .dataframe thead th {\n",
              "        text-align: right;\n",
              "    }\n",
              "</style>\n",
              "<table border=\"1\" class=\"dataframe\">\n",
              "  <thead>\n",
              "    <tr style=\"text-align: right;\">\n",
              "      <th>Cabin_side</th>\n",
              "      <th>P</th>\n",
              "      <th>S</th>\n",
              "    </tr>\n",
              "    <tr>\n",
              "      <th>Last_Name</th>\n",
              "      <th></th>\n",
              "      <th></th>\n",
              "    </tr>\n",
              "  </thead>\n",
              "  <tbody>\n",
              "    <tr>\n",
              "      <th>Acobson</th>\n",
              "      <td>0</td>\n",
              "      <td>3</td>\n",
              "    </tr>\n",
              "    <tr>\n",
              "      <th>Acobsond</th>\n",
              "      <td>3</td>\n",
              "      <td>0</td>\n",
              "    </tr>\n",
              "    <tr>\n",
              "      <th>Adavisons</th>\n",
              "      <td>6</td>\n",
              "      <td>0</td>\n",
              "    </tr>\n",
              "    <tr>\n",
              "      <th>Admingried</th>\n",
              "      <td>0</td>\n",
              "      <td>4</td>\n",
              "    </tr>\n",
              "    <tr>\n",
              "      <th>Aginge</th>\n",
              "      <td>3</td>\n",
              "      <td>0</td>\n",
              "    </tr>\n",
              "  </tbody>\n",
              "</table>\n",
              "</div>\n",
              "      <button class=\"colab-df-convert\" onclick=\"convertToInteractive('df-d7b81843-74b7-42c7-b27e-eb748c6d280a')\"\n",
              "              title=\"Convert this dataframe to an interactive table.\"\n",
              "              style=\"display:none;\">\n",
              "        \n",
              "  <svg xmlns=\"http://www.w3.org/2000/svg\" height=\"24px\"viewBox=\"0 0 24 24\"\n",
              "       width=\"24px\">\n",
              "    <path d=\"M0 0h24v24H0V0z\" fill=\"none\"/>\n",
              "    <path d=\"M18.56 5.44l.94 2.06.94-2.06 2.06-.94-2.06-.94-.94-2.06-.94 2.06-2.06.94zm-11 1L8.5 8.5l.94-2.06 2.06-.94-2.06-.94L8.5 2.5l-.94 2.06-2.06.94zm10 10l.94 2.06.94-2.06 2.06-.94-2.06-.94-.94-2.06-.94 2.06-2.06.94z\"/><path d=\"M17.41 7.96l-1.37-1.37c-.4-.4-.92-.59-1.43-.59-.52 0-1.04.2-1.43.59L10.3 9.45l-7.72 7.72c-.78.78-.78 2.05 0 2.83L4 21.41c.39.39.9.59 1.41.59.51 0 1.02-.2 1.41-.59l7.78-7.78 2.81-2.81c.8-.78.8-2.07 0-2.86zM5.41 20L4 18.59l7.72-7.72 1.47 1.35L5.41 20z\"/>\n",
              "  </svg>\n",
              "      </button>\n",
              "      \n",
              "  <style>\n",
              "    .colab-df-container {\n",
              "      display:flex;\n",
              "      flex-wrap:wrap;\n",
              "      gap: 12px;\n",
              "    }\n",
              "\n",
              "    .colab-df-convert {\n",
              "      background-color: #E8F0FE;\n",
              "      border: none;\n",
              "      border-radius: 50%;\n",
              "      cursor: pointer;\n",
              "      display: none;\n",
              "      fill: #1967D2;\n",
              "      height: 32px;\n",
              "      padding: 0 0 0 0;\n",
              "      width: 32px;\n",
              "    }\n",
              "\n",
              "    .colab-df-convert:hover {\n",
              "      background-color: #E2EBFA;\n",
              "      box-shadow: 0px 1px 2px rgba(60, 64, 67, 0.3), 0px 1px 3px 1px rgba(60, 64, 67, 0.15);\n",
              "      fill: #174EA6;\n",
              "    }\n",
              "\n",
              "    [theme=dark] .colab-df-convert {\n",
              "      background-color: #3B4455;\n",
              "      fill: #D2E3FC;\n",
              "    }\n",
              "\n",
              "    [theme=dark] .colab-df-convert:hover {\n",
              "      background-color: #434B5C;\n",
              "      box-shadow: 0px 1px 3px 1px rgba(0, 0, 0, 0.15);\n",
              "      filter: drop-shadow(0px 1px 2px rgba(0, 0, 0, 0.3));\n",
              "      fill: #FFFFFF;\n",
              "    }\n",
              "  </style>\n",
              "\n",
              "      <script>\n",
              "        const buttonEl =\n",
              "          document.querySelector('#df-d7b81843-74b7-42c7-b27e-eb748c6d280a button.colab-df-convert');\n",
              "        buttonEl.style.display =\n",
              "          google.colab.kernel.accessAllowed ? 'block' : 'none';\n",
              "\n",
              "        async function convertToInteractive(key) {\n",
              "          const element = document.querySelector('#df-d7b81843-74b7-42c7-b27e-eb748c6d280a');\n",
              "          const dataTable =\n",
              "            await google.colab.kernel.invokeFunction('convertToInteractive',\n",
              "                                                     [key], {});\n",
              "          if (!dataTable) return;\n",
              "\n",
              "          const docLinkHtml = 'Like what you see? Visit the ' +\n",
              "            '<a target=\"_blank\" href=https://colab.research.google.com/notebooks/data_table.ipynb>data table notebook</a>'\n",
              "            + ' to learn more about interactive tables.';\n",
              "          element.innerHTML = '';\n",
              "          dataTable['output_type'] = 'display_data';\n",
              "          await google.colab.output.renderOutput(dataTable, element);\n",
              "          const docLink = document.createElement('div');\n",
              "          docLink.innerHTML = docLinkHtml;\n",
              "          element.appendChild(docLink);\n",
              "        }\n",
              "      </script>\n",
              "    </div>\n",
              "  </div>\n",
              "  "
            ]
          },
          "metadata": {},
          "execution_count": 174
        }
      ],
      "source": [
        "# Joint distribution of Last name and Cabin side\n",
        "idx9=df_data[df_data['Passenger_Group_Size']>1].groupby(['Last_Name','Cabin_side'])['Cabin_side'].size().unstack().fillna(0).astype(int)\n",
        "idx9.head()"
      ]
    },
    {
      "cell_type": "code",
      "execution_count": 175,
      "id": "2efb8bda",
      "metadata": {
        "execution": {
          "iopub.execute_input": "2022-04-15T09:59:14.238418Z",
          "iopub.status.busy": "2022-04-15T09:59:14.237746Z",
          "iopub.status.idle": "2022-04-15T09:59:14.403041Z",
          "shell.execute_reply": "2022-04-15T09:59:14.403527Z",
          "shell.execute_reply.started": "2022-04-15T09:47:27.831819Z"
        },
        "papermill": {
          "duration": 0.336987,
          "end_time": "2022-04-15T09:59:14.403684",
          "exception": false,
          "start_time": "2022-04-15T09:59:14.066697",
          "status": "completed"
        },
        "tags": [],
        "colab": {
          "base_uri": "https://localhost:8080/",
          "height": 298
        },
        "id": "2efb8bda",
        "outputId": "14e11542-763f-4eaa-e1f1-b8cb95021517"
      },
      "outputs": [
        {
          "output_type": "execute_result",
          "data": {
            "text/plain": [
              "Text(0.5, 1.0, 'Number of unique Last Name by Passenger Group')"
            ]
          },
          "metadata": {},
          "execution_count": 175
        },
        {
          "output_type": "display_data",
          "data": {
            "text/plain": [
              "<Figure size 720x288 with 1 Axes>"
            ],
            "image/png": "[encoded data removed]"
          },
          "metadata": {
            "needs_background": "light"
          }
        }
      ],
      "source": [
        "# Countplot of unique values\n",
        "plt.figure(figsize=(10,4))\n",
        "sns.countplot((idx9>0).sum(axis=1),palette = \"cool_r\")\n",
        "plt.title('Number of unique Last Name by Passenger Group')"
      ]
    },
    {
      "cell_type": "markdown",
      "id": "b9da8d5f",
      "metadata": {
        "papermill": {
          "duration": 0.163569,
          "end_time": "2022-04-15T09:59:14.735424",
          "exception": false,
          "start_time": "2022-04-15T09:59:14.571855",
          "status": "completed"
        },
        "tags": [],
        "id": "b9da8d5f"
      },
      "source": [
        "The majority (73%) of Last Name contain only 1 Cabin Side. So let's fill missing Cabin Side according to the majority Cabin Side in that Last Name."
      ]
    },
    {
      "cell_type": "code",
      "execution_count": 176,
      "id": "2112ac08",
      "metadata": {
        "execution": {
          "iopub.execute_input": "2022-04-15T09:59:15.079543Z",
          "iopub.status.busy": "2022-04-15T09:59:15.078887Z",
          "iopub.status.idle": "2022-04-15T09:59:15.391766Z",
          "shell.execute_reply": "2022-04-15T09:59:15.392289Z",
          "shell.execute_reply.started": "2022-04-15T09:47:28.028269Z"
        },
        "papermill": {
          "duration": 0.487135,
          "end_time": "2022-04-15T09:59:15.392476",
          "exception": false,
          "start_time": "2022-04-15T09:59:14.905341",
          "status": "completed"
        },
        "tags": [],
        "colab": {
          "base_uri": "https://localhost:8080/"
        },
        "id": "2112ac08",
        "outputId": "a93479e3-13d3-4893-d031-28490b550be7"
      },
      "outputs": [
        {
          "output_type": "stream",
          "name": "stdout",
          "text": [
            "Number of Cabin_side missing values before: 162\n",
            "Number of Cabin_side missing values after: 66\n"
          ]
        }
      ],
      "source": [
        "# Missing values before\n",
        "before_Cabin_side_miss=df_data['Cabin_side'].isnull().sum()\n",
        "\n",
        "# Passengers with missing Cabin side and in a Last Name with known majority Cabin side\n",
        "idx10=df_data[df_data['Cabin_side'].isna()][(df_data[df_data['Cabin_side'].isna()]['Last_Name']).isin(idx9.index)].index\n",
        "\n",
        "# Fill corresponding missing values\n",
        "df_data.loc[idx10,'Cabin_side']=df_data.iloc[idx10,:]['Last_Name'].map(lambda x: idx9.idxmax(axis=1)[x])\n",
        "\n",
        "# Drop Last_Name\n",
        "df_data.drop('Last_Name', axis=1, inplace=True)\n",
        "\n",
        "# Print number of missing values left\n",
        "print('Number of Cabin_side missing values before:',before_Cabin_side_miss)\n",
        "print('Number of Cabin_side missing values after:',df_data['Cabin_side'].isnull().sum())"
      ]
    },
    {
      "cell_type": "markdown",
      "id": "3cdc0f0e",
      "metadata": {
        "papermill": {
          "duration": 0.169169,
          "end_time": "2022-04-15T09:59:15.732499",
          "exception": false,
          "start_time": "2022-04-15T09:59:15.563330",
          "status": "completed"
        },
        "tags": [],
        "id": "3cdc0f0e"
      },
      "source": [
        "The remaining missing values will be replaced with an outlier."
      ]
    },
    {
      "cell_type": "code",
      "execution_count": 177,
      "id": "20022b21",
      "metadata": {
        "execution": {
          "iopub.execute_input": "2022-04-15T09:59:16.074227Z",
          "iopub.status.busy": "2022-04-15T09:59:16.073194Z",
          "iopub.status.idle": "2022-04-15T09:59:16.085869Z",
          "shell.execute_reply": "2022-04-15T09:59:16.086470Z",
          "shell.execute_reply.started": "2022-04-15T09:47:28.387023Z"
        },
        "papermill": {
          "duration": 0.18466,
          "end_time": "2022-04-15T09:59:16.086639",
          "exception": false,
          "start_time": "2022-04-15T09:59:15.901979",
          "status": "completed"
        },
        "tags": [],
        "colab": {
          "base_uri": "https://localhost:8080/"
        },
        "id": "20022b21",
        "outputId": "88bc01ef-dcb2-4efc-888d-deedea6a5160"
      },
      "outputs": [
        {
          "output_type": "stream",
          "name": "stdout",
          "text": [
            "Number of Cabin_side missing values before: 66\n",
            "Number of Cabin_side missing values after: 0\n"
          ]
        }
      ],
      "source": [
        "# Missing values before\n",
        "before_Cabin_side_miss=df_data['Cabin_side'].isnull().sum()\n",
        "\n",
        "# Fill remaining missing values with outlier\n",
        "df_data.loc[df_data['Cabin_side'].isna(),'Cabin_side']='Z'\n",
        "\n",
        "# Print number of missing values left\n",
        "print('Number of Cabin_side missing values before:',before_Cabin_side_miss)\n",
        "print('Number of Cabin_side missing values after:',df_data['Cabin_side'].isnull().sum())"
      ]
    },
    {
      "cell_type": "markdown",
      "id": "3658b0b1",
      "metadata": {
        "papermill": {
          "duration": 0.168482,
          "end_time": "2022-04-15T09:59:16.423391",
          "exception": false,
          "start_time": "2022-04-15T09:59:16.254909",
          "status": "completed"
        },
        "tags": [],
        "id": "3658b0b1"
      },
      "source": [
        "**Cabin_deck and Passenger_Group:**"
      ]
    },
    {
      "cell_type": "code",
      "execution_count": 178,
      "id": "2245044a",
      "metadata": {
        "execution": {
          "iopub.execute_input": "2022-04-15T09:59:16.762566Z",
          "iopub.status.busy": "2022-04-15T09:59:16.761684Z",
          "iopub.status.idle": "2022-04-15T09:59:17.300171Z",
          "shell.execute_reply": "2022-04-15T09:59:17.299646Z",
          "shell.execute_reply.started": "2022-04-15T09:47:28.405401Z"
        },
        "papermill": {
          "duration": 0.710161,
          "end_time": "2022-04-15T09:59:17.300315",
          "exception": false,
          "start_time": "2022-04-15T09:59:16.590154",
          "status": "completed"
        },
        "tags": [],
        "colab": {
          "base_uri": "https://localhost:8080/"
        },
        "id": "2245044a",
        "outputId": "69f1d4f6-2a58-4e79-f1ec-9c526d4d9377"
      },
      "outputs": [
        {
          "output_type": "stream",
          "name": "stdout",
          "text": [
            "Number of Cabin_deck missing values before: 299\n",
            "Number of Cabin_deck missing values after: 162\n"
          ]
        }
      ],
      "source": [
        "# Missing values before\n",
        "before_Cabin_deck_miss=df_data['Cabin_deck'].isnull().sum()\n",
        "\n",
        "# Passengers with missing Cabin deck and in a Passenger Group with known majority Cabin deck\n",
        "idx11=df_data[df_data['Cabin_deck'].isna()][(df_data[df_data['Cabin_deck'].isna()]['Passenger_Group']).isin(j1.index)].index\n",
        "\n",
        "# Fill corresponding missing values\n",
        "df_data.loc[idx11,'Cabin_deck']=df_data.iloc[idx11,:]['Passenger_Group'].map(lambda x: j1.idxmax(axis=1)[x])\n",
        "\n",
        "# Print number of missing values left\n",
        "print('Number of Cabin_deck missing values before:',before_Cabin_deck_miss)\n",
        "print('Number of Cabin_deck missing values after:',df_data['Cabin_deck'].isnull().sum())"
      ]
    },
    {
      "cell_type": "markdown",
      "id": "09cfb4a6",
      "metadata": {
        "papermill": {
          "duration": 0.166048,
          "end_time": "2022-04-15T09:59:17.630364",
          "exception": false,
          "start_time": "2022-04-15T09:59:17.464316",
          "status": "completed"
        },
        "tags": [],
        "id": "09cfb4a6"
      },
      "source": [
        "**Cabin_deck and HomePlanet:**"
      ]
    },
    {
      "cell_type": "code",
      "execution_count": 179,
      "id": "21b8f647",
      "metadata": {
        "execution": {
          "iopub.execute_input": "2022-04-15T09:59:17.991383Z",
          "iopub.status.busy": "2022-04-15T09:59:17.990537Z",
          "iopub.status.idle": "2022-04-15T09:59:18.008396Z",
          "shell.execute_reply": "2022-04-15T09:59:18.008829Z",
          "shell.execute_reply.started": "2022-04-15T09:47:29.021328Z"
        },
        "papermill": {
          "duration": 0.19776,
          "end_time": "2022-04-15T09:59:18.008980",
          "exception": false,
          "start_time": "2022-04-15T09:59:17.811220",
          "status": "completed"
        },
        "tags": [],
        "colab": {
          "base_uri": "https://localhost:8080/",
          "height": 645
        },
        "id": "21b8f647",
        "outputId": "2c9053fc-caa0-4586-bb96-fc6acca829f4"
      },
      "outputs": [
        {
          "output_type": "execute_result",
          "data": {
            "text/plain": [
              "Cabin_deck                        A    B    C    D    E     F     G  T\n",
              "HomePlanet Destination   Alone                                        \n",
              "Earth      55 Cancri e   0        0    0    0    0   20    90   272  0\n",
              "                         1        0    0    0    0   47   289   269  0\n",
              "           PSO J318.5-22 0        0    0    0    0   18    67   230  0\n",
              "                         1        0    0    0    0   25   262   466  0\n",
              "           TRAPPIST-1e   0        0    0    0    0  133   438  1075  0\n",
              "                         1        0    0    0    0  358  1350  1509  0\n",
              "Europa     55 Cancri e   0       96  377  313   59   35     0     0  2\n",
              "                         1       67  141  159   46   34     0     0  0\n",
              "           PSO J318.5-22 0        2    5   11    0    0     0     0  0\n",
              "                         1        0    0   10    0    0     0     0  0\n",
              "           TRAPPIST-1e   0      152  459  428  120   53     0     0  1\n",
              "                         1       44  179  201   84   82     0     0  8\n",
              "Mars       55 Cancri e   0        0    0    0   32   15   104     0  0\n",
              "                         1        0    0    0   40   16    92     0  0\n",
              "           PSO J318.5-22 0        0    0    0    8    9    14     0  0\n",
              "                         1        0    0    0    9    7    21     0  0\n",
              "           TRAPPIST-1e   0        0    0    0  168  219   798     0  0\n",
              "                         1        0    0    0  164  263   743     0  0"
            ],
            "text/html": [
              "\n",
              "  <div id=\"df-8d8f4437-ab4d-4515-96a5-251c35ba4489\">\n",
              "    <div class=\"colab-df-container\">\n",
              "      <div>\n",
              "<style scoped>\n",
              "    .dataframe tbody tr th:only-of-type {\n",
              "        vertical-align: middle;\n",
              "    }\n",
              "\n",
              "    .dataframe tbody tr th {\n",
              "        vertical-align: top;\n",
              "    }\n",
              "\n",
              "    .dataframe thead th {\n",
              "        text-align: right;\n",
              "    }\n",
              "</style>\n",
              "<table border=\"1\" class=\"dataframe\">\n",
              "  <thead>\n",
              "    <tr style=\"text-align: right;\">\n",
              "      <th></th>\n",
              "      <th></th>\n",
              "      <th>Cabin_deck</th>\n",
              "      <th>A</th>\n",
              "      <th>B</th>\n",
              "      <th>C</th>\n",
              "      <th>D</th>\n",
              "      <th>E</th>\n",
              "      <th>F</th>\n",
              "      <th>G</th>\n",
              "      <th>T</th>\n",
              "    </tr>\n",
              "    <tr>\n",
              "      <th>HomePlanet</th>\n",
              "      <th>Destination</th>\n",
              "      <th>Alone</th>\n",
              "      <th></th>\n",
              "      <th></th>\n",
              "      <th></th>\n",
              "      <th></th>\n",
              "      <th></th>\n",
              "      <th></th>\n",
              "      <th></th>\n",
              "      <th></th>\n",
              "    </tr>\n",
              "  </thead>\n",
              "  <tbody>\n",
              "    <tr>\n",
              "      <th rowspan=\"6\" valign=\"top\">Earth</th>\n",
              "      <th rowspan=\"2\" valign=\"top\">55 Cancri e</th>\n",
              "      <th>0</th>\n",
              "      <td>0</td>\n",
              "      <td>0</td>\n",
              "      <td>0</td>\n",
              "      <td>0</td>\n",
              "      <td>20</td>\n",
              "      <td>90</td>\n",
              "      <td>272</td>\n",
              "      <td>0</td>\n",
              "    </tr>\n",
              "    <tr>\n",
              "      <th>1</th>\n",
              "      <td>0</td>\n",
              "      <td>0</td>\n",
              "      <td>0</td>\n",
              "      <td>0</td>\n",
              "      <td>47</td>\n",
              "      <td>289</td>\n",
              "      <td>269</td>\n",
              "      <td>0</td>\n",
              "    </tr>\n",
              "    <tr>\n",
              "      <th rowspan=\"2\" valign=\"top\">PSO J318.5-22</th>\n",
              "      <th>0</th>\n",
              "      <td>0</td>\n",
              "      <td>0</td>\n",
              "      <td>0</td>\n",
              "      <td>0</td>\n",
              "      <td>18</td>\n",
              "      <td>67</td>\n",
              "      <td>230</td>\n",
              "      <td>0</td>\n",
              "    </tr>\n",
              "    <tr>\n",
              "      <th>1</th>\n",
              "      <td>0</td>\n",
              "      <td>0</td>\n",
              "      <td>0</td>\n",
              "      <td>0</td>\n",
              "      <td>25</td>\n",
              "      <td>262</td>\n",
              "      <td>466</td>\n",
              "      <td>0</td>\n",
              "    </tr>\n",
              "    <tr>\n",
              "      <th rowspan=\"2\" valign=\"top\">TRAPPIST-1e</th>\n",
              "      <th>0</th>\n",
              "      <td>0</td>\n",
              "      <td>0</td>\n",
              "      <td>0</td>\n",
              "      <td>0</td>\n",
              "      <td>133</td>\n",
              "      <td>438</td>\n",
              "      <td>1075</td>\n",
              "      <td>0</td>\n",
              "    </tr>\n",
              "    <tr>\n",
              "      <th>1</th>\n",
              "      <td>0</td>\n",
              "      <td>0</td>\n",
              "      <td>0</td>\n",
              "      <td>0</td>\n",
              "      <td>358</td>\n",
              "      <td>1350</td>\n",
              "      <td>1509</td>\n",
              "      <td>0</td>\n",
              "    </tr>\n",
              "    <tr>\n",
              "      <th rowspan=\"6\" valign=\"top\">Europa</th>\n",
              "      <th rowspan=\"2\" valign=\"top\">55 Cancri e</th>\n",
              "      <th>0</th>\n",
              "      <td>96</td>\n",
              "      <td>377</td>\n",
              "      <td>313</td>\n",
              "      <td>59</td>\n",
              "      <td>35</td>\n",
              "      <td>0</td>\n",
              "      <td>0</td>\n",
              "      <td>2</td>\n",
              "    </tr>\n",
              "    <tr>\n",
              "      <th>1</th>\n",
              "      <td>67</td>\n",
              "      <td>141</td>\n",
              "      <td>159</td>\n",
              "      <td>46</td>\n",
              "      <td>34</td>\n",
              "      <td>0</td>\n",
              "      <td>0</td>\n",
              "      <td>0</td>\n",
              "    </tr>\n",
              "    <tr>\n",
              "      <th rowspan=\"2\" valign=\"top\">PSO J318.5-22</th>\n",
              "      <th>0</th>\n",
              "      <td>2</td>\n",
              "      <td>5</td>\n",
              "      <td>11</td>\n",
              "      <td>0</td>\n",
              "      <td>0</td>\n",
              "      <td>0</td>\n",
              "      <td>0</td>\n",
              "      <td>0</td>\n",
              "    </tr>\n",
              "    <tr>\n",
              "      <th>1</th>\n",
              "      <td>0</td>\n",
              "      <td>0</td>\n",
              "      <td>10</td>\n",
              "      <td>0</td>\n",
              "      <td>0</td>\n",
              "      <td>0</td>\n",
              "      <td>0</td>\n",
              "      <td>0</td>\n",
              "    </tr>\n",
              "    <tr>\n",
              "      <th rowspan=\"2\" valign=\"top\">TRAPPIST-1e</th>\n",
              "      <th>0</th>\n",
              "      <td>152</td>\n",
              "      <td>459</td>\n",
              "      <td>428</td>\n",
              "      <td>120</td>\n",
              "      <td>53</td>\n",
              "      <td>0</td>\n",
              "      <td>0</td>\n",
              "      <td>1</td>\n",
              "    </tr>\n",
              "    <tr>\n",
              "      <th>1</th>\n",
              "      <td>44</td>\n",
              "      <td>179</td>\n",
              "      <td>201</td>\n",
              "      <td>84</td>\n",
              "      <td>82</td>\n",
              "      <td>0</td>\n",
              "      <td>0</td>\n",
              "      <td>8</td>\n",
              "    </tr>\n",
              "    <tr>\n",
              "      <th rowspan=\"6\" valign=\"top\">Mars</th>\n",
              "      <th rowspan=\"2\" valign=\"top\">55 Cancri e</th>\n",
              "      <th>0</th>\n",
              "      <td>0</td>\n",
              "      <td>0</td>\n",
              "      <td>0</td>\n",
              "      <td>32</td>\n",
              "      <td>15</td>\n",
              "      <td>104</td>\n",
              "      <td>0</td>\n",
              "      <td>0</td>\n",
              "    </tr>\n",
              "    <tr>\n",
              "      <th>1</th>\n",
              "      <td>0</td>\n",
              "      <td>0</td>\n",
              "      <td>0</td>\n",
              "      <td>40</td>\n",
              "      <td>16</td>\n",
              "      <td>92</td>\n",
              "      <td>0</td>\n",
              "      <td>0</td>\n",
              "    </tr>\n",
              "    <tr>\n",
              "      <th rowspan=\"2\" valign=\"top\">PSO J318.5-22</th>\n",
              "      <th>0</th>\n",
              "      <td>0</td>\n",
              "      <td>0</td>\n",
              "      <td>0</td>\n",
              "      <td>8</td>\n",
              "      <td>9</td>\n",
              "      <td>14</td>\n",
              "      <td>0</td>\n",
              "      <td>0</td>\n",
              "    </tr>\n",
              "    <tr>\n",
              "      <th>1</th>\n",
              "      <td>0</td>\n",
              "      <td>0</td>\n",
              "      <td>0</td>\n",
              "      <td>9</td>\n",
              "      <td>7</td>\n",
              "      <td>21</td>\n",
              "      <td>0</td>\n",
              "      <td>0</td>\n",
              "    </tr>\n",
              "    <tr>\n",
              "      <th rowspan=\"2\" valign=\"top\">TRAPPIST-1e</th>\n",
              "      <th>0</th>\n",
              "      <td>0</td>\n",
              "      <td>0</td>\n",
              "      <td>0</td>\n",
              "      <td>168</td>\n",
              "      <td>219</td>\n",
              "      <td>798</td>\n",
              "      <td>0</td>\n",
              "      <td>0</td>\n",
              "    </tr>\n",
              "    <tr>\n",
              "      <th>1</th>\n",
              "      <td>0</td>\n",
              "      <td>0</td>\n",
              "      <td>0</td>\n",
              "      <td>164</td>\n",
              "      <td>263</td>\n",
              "      <td>743</td>\n",
              "      <td>0</td>\n",
              "      <td>0</td>\n",
              "    </tr>\n",
              "  </tbody>\n",
              "</table>\n",
              "</div>\n",
              "      <button class=\"colab-df-convert\" onclick=\"convertToInteractive('df-8d8f4437-ab4d-4515-96a5-251c35ba4489')\"\n",
              "              title=\"Convert this dataframe to an interactive table.\"\n",
              "              style=\"display:none;\">\n",
              "        \n",
              "  <svg xmlns=\"http://www.w3.org/2000/svg\" height=\"24px\"viewBox=\"0 0 24 24\"\n",
              "       width=\"24px\">\n",
              "    <path d=\"M0 0h24v24H0V0z\" fill=\"none\"/>\n",
              "    <path d=\"M18.56 5.44l.94 2.06.94-2.06 2.06-.94-2.06-.94-.94-2.06-.94 2.06-2.06.94zm-11 1L8.5 8.5l.94-2.06 2.06-.94-2.06-.94L8.5 2.5l-.94 2.06-2.06.94zm10 10l.94 2.06.94-2.06 2.06-.94-2.06-.94-.94-2.06-.94 2.06-2.06.94z\"/><path d=\"M17.41 7.96l-1.37-1.37c-.4-.4-.92-.59-1.43-.59-.52 0-1.04.2-1.43.59L10.3 9.45l-7.72 7.72c-.78.78-.78 2.05 0 2.83L4 21.41c.39.39.9.59 1.41.59.51 0 1.02-.2 1.41-.59l7.78-7.78 2.81-2.81c.8-.78.8-2.07 0-2.86zM5.41 20L4 18.59l7.72-7.72 1.47 1.35L5.41 20z\"/>\n",
              "  </svg>\n",
              "      </button>\n",
              "      \n",
              "  <style>\n",
              "    .colab-df-container {\n",
              "      display:flex;\n",
              "      flex-wrap:wrap;\n",
              "      gap: 12px;\n",
              "    }\n",
              "\n",
              "    .colab-df-convert {\n",
              "      background-color: #E8F0FE;\n",
              "      border: none;\n",
              "      border-radius: 50%;\n",
              "      cursor: pointer;\n",
              "      display: none;\n",
              "      fill: #1967D2;\n",
              "      height: 32px;\n",
              "      padding: 0 0 0 0;\n",
              "      width: 32px;\n",
              "    }\n",
              "\n",
              "    .colab-df-convert:hover {\n",
              "      background-color: #E2EBFA;\n",
              "      box-shadow: 0px 1px 2px rgba(60, 64, 67, 0.3), 0px 1px 3px 1px rgba(60, 64, 67, 0.15);\n",
              "      fill: #174EA6;\n",
              "    }\n",
              "\n",
              "    [theme=dark] .colab-df-convert {\n",
              "      background-color: #3B4455;\n",
              "      fill: #D2E3FC;\n",
              "    }\n",
              "\n",
              "    [theme=dark] .colab-df-convert:hover {\n",
              "      background-color: #434B5C;\n",
              "      box-shadow: 0px 1px 3px 1px rgba(0, 0, 0, 0.15);\n",
              "      filter: drop-shadow(0px 1px 2px rgba(0, 0, 0, 0.3));\n",
              "      fill: #FFFFFF;\n",
              "    }\n",
              "  </style>\n",
              "\n",
              "      <script>\n",
              "        const buttonEl =\n",
              "          document.querySelector('#df-8d8f4437-ab4d-4515-96a5-251c35ba4489 button.colab-df-convert');\n",
              "        buttonEl.style.display =\n",
              "          google.colab.kernel.accessAllowed ? 'block' : 'none';\n",
              "\n",
              "        async function convertToInteractive(key) {\n",
              "          const element = document.querySelector('#df-8d8f4437-ab4d-4515-96a5-251c35ba4489');\n",
              "          const dataTable =\n",
              "            await google.colab.kernel.invokeFunction('convertToInteractive',\n",
              "                                                     [key], {});\n",
              "          if (!dataTable) return;\n",
              "\n",
              "          const docLinkHtml = 'Like what you see? Visit the ' +\n",
              "            '<a target=\"_blank\" href=https://colab.research.google.com/notebooks/data_table.ipynb>data table notebook</a>'\n",
              "            + ' to learn more about interactive tables.';\n",
              "          element.innerHTML = '';\n",
              "          dataTable['output_type'] = 'display_data';\n",
              "          await google.colab.output.renderOutput(dataTable, element);\n",
              "          const docLink = document.createElement('div');\n",
              "          docLink.innerHTML = docLinkHtml;\n",
              "          element.appendChild(docLink);\n",
              "        }\n",
              "      </script>\n",
              "    </div>\n",
              "  </div>\n",
              "  "
            ]
          },
          "metadata": {},
          "execution_count": 179
        }
      ],
      "source": [
        "# Joint distribution\n",
        "df_data.groupby(['HomePlanet','Destination','Alone','Cabin_deck'])['Cabin_deck'].size().unstack().fillna(0).astype(int)"
      ]
    },
    {
      "cell_type": "markdown",
      "id": "82f83a30",
      "metadata": {
        "papermill": {
          "duration": 0.165297,
          "end_time": "2022-04-15T09:59:18.341258",
          "exception": false,
          "start_time": "2022-04-15T09:59:18.175961",
          "status": "completed"
        },
        "tags": [],
        "id": "82f83a30"
      },
      "source": [
        "*As we can see:*\n",
        "* Passengers from Mars are most likely in deck F.\n",
        "* Passengers from Europa are most likely in deck C if travelling Alone and deck B otherwise.\n",
        "* Passengers from Earth are most likely in deck G."
      ]
    },
    {
      "cell_type": "code",
      "execution_count": 180,
      "id": "e2285d93",
      "metadata": {
        "execution": {
          "iopub.execute_input": "2022-04-15T09:59:18.685422Z",
          "iopub.status.busy": "2022-04-15T09:59:18.684447Z",
          "iopub.status.idle": "2022-04-15T09:59:18.720193Z",
          "shell.execute_reply": "2022-04-15T09:59:18.719418Z",
          "shell.execute_reply.started": "2022-04-15T09:47:29.051453Z"
        },
        "papermill": {
          "duration": 0.208877,
          "end_time": "2022-04-15T09:59:18.720360",
          "exception": false,
          "start_time": "2022-04-15T09:59:18.511483",
          "status": "completed"
        },
        "tags": [],
        "colab": {
          "base_uri": "https://localhost:8080/"
        },
        "id": "e2285d93",
        "outputId": "f244fc30-c167-4a4a-d15a-5f9832df4c7c"
      },
      "outputs": [
        {
          "output_type": "stream",
          "name": "stdout",
          "text": [
            "Number of Cabin_deck missing values before: 162\n",
            "Number of Cabin_deck missing values after: 0\n"
          ]
        }
      ],
      "source": [
        "# Missing values before\n",
        "before_Cabin_deck_miss=df_data['Cabin_deck'].isnull().sum()\n",
        "\n",
        "# Fill missing values using the mode\n",
        "id_index=df_data.loc[df_data['Cabin_deck'].isna(),'Cabin_deck'].index\n",
        "df_data.loc[df_data['Cabin_deck'].isna(),'Cabin_deck']=df_data.groupby(['HomePlanet','Destination','Alone'])['Cabin_deck'].transform(lambda x: x.fillna(pd.Series.mode(x)[0]))[id_index]\n",
        "\n",
        "# Print number of missing values left\n",
        "print('Number of Cabin_deck missing values before:',before_Cabin_deck_miss)\n",
        "print('Number of Cabin_deck missing values after:',df_data['Cabin_deck'].isnull().sum())"
      ]
    },
    {
      "cell_type": "markdown",
      "id": "5d4f055b",
      "metadata": {
        "papermill": {
          "duration": 0.171315,
          "end_time": "2022-04-15T09:59:19.064573",
          "exception": false,
          "start_time": "2022-04-15T09:59:18.893258",
          "status": "completed"
        },
        "tags": [],
        "id": "5d4f055b"
      },
      "source": [
        "**CabinNumber and CabinDeck**"
      ]
    },
    {
      "cell_type": "markdown",
      "id": "a773b3eb",
      "metadata": {
        "papermill": {
          "duration": 0.169498,
          "end_time": "2022-04-15T09:59:19.403531",
          "exception": false,
          "start_time": "2022-04-15T09:59:19.234033",
          "status": "completed"
        },
        "tags": [],
        "id": "a773b3eb"
      },
      "source": [
        "The cabin_number and Passenger_Group_number share a linear relationship on a deck by deck basis. We can therefore extrapolate the missing cabin numbers using linear regression on a deck by deck basis to get an approximate cabin number."
      ]
    },
    {
      "cell_type": "code",
      "execution_count": 181,
      "id": "fadbc282",
      "metadata": {
        "execution": {
          "iopub.execute_input": "2022-04-15T09:59:19.748116Z",
          "iopub.status.busy": "2022-04-15T09:59:19.747205Z",
          "iopub.status.idle": "2022-04-15T09:59:19.843026Z",
          "shell.execute_reply": "2022-04-15T09:59:19.842532Z",
          "shell.execute_reply.started": "2022-04-15T09:47:29.095098Z"
        },
        "papermill": {
          "duration": 0.272322,
          "end_time": "2022-04-15T09:59:19.843182",
          "exception": false,
          "start_time": "2022-04-15T09:59:19.570860",
          "status": "completed"
        },
        "tags": [],
        "colab": {
          "base_uri": "https://localhost:8080/"
        },
        "id": "fadbc282",
        "outputId": "aea74a61-c453-431b-a299-c497a9285510"
      },
      "outputs": [
        {
          "output_type": "stream",
          "name": "stdout",
          "text": [
            "Number of Cabin_number missing values before: 299\n",
            "Number of Cabin_number missing values after: 0\n"
          ]
        }
      ],
      "source": [
        "# Missing values before\n",
        "before_Cabin_number_miss=df_data['Cabin_number'].isna().sum()\n",
        "\n",
        "# Extrapolate linear relationship on a deck by deck basis\n",
        "for deck in ['A', 'B', 'C', 'D', 'E', 'F', 'G']:\n",
        "    # Features and labels\n",
        "    X_CN=df_data.loc[~(df_data['Cabin_number'].isna()) & (df_data['Cabin_deck']==deck),'Passenger_Group']\n",
        "    y_CN=df_data.loc[~(df_data['Cabin_number'].isna()) & (df_data['Cabin_deck']==deck),'Cabin_number']\n",
        "    X_test_CN=df_data.loc[(df_data['Cabin_number'].isna()) & (df_data['Cabin_deck']==deck),'Passenger_Group']\n",
        "\n",
        "    # Linear regression\n",
        "    model_CN=LinearRegression()\n",
        "    model_CN.fit(X_CN.values.reshape(-1, 1), y_CN)\n",
        "    preds_CN=model_CN.predict(X_test_CN.values.reshape(-1, 1))\n",
        "    \n",
        "    # Fill missing values with predictions\n",
        "    df_data.loc[(df_data['Cabin_number'].isna()) & (df_data['Cabin_deck']==deck),'Cabin_number']=preds_CN.astype(int)\n",
        "\n",
        "# Print number of missing values left\n",
        "print('Number of Cabin_number missing values before:',before_Cabin_number_miss)\n",
        "print('Number of Cabin_number missing values after:',df_data['Cabin_number'].isna().sum())"
      ]
    },
    {
      "cell_type": "markdown",
      "id": "b3f3d800",
      "metadata": {
        "papermill": {
          "duration": 0.166105,
          "end_time": "2022-04-15T09:59:20.180756",
          "exception": false,
          "start_time": "2022-04-15T09:59:20.014651",
          "status": "completed"
        },
        "tags": [],
        "id": "b3f3d800"
      },
      "source": [
        "Update Cabin_Parts:"
      ]
    },
    {
      "cell_type": "code",
      "execution_count": 182,
      "id": "59a47191",
      "metadata": {
        "execution": {
          "iopub.execute_input": "2022-04-15T09:59:20.522640Z",
          "iopub.status.busy": "2022-04-15T09:59:20.521727Z",
          "iopub.status.idle": "2022-04-15T09:59:20.533888Z",
          "shell.execute_reply": "2022-04-15T09:59:20.534394Z",
          "shell.execute_reply.started": "2022-04-15T09:47:29.204842Z"
        },
        "papermill": {
          "duration": 0.183019,
          "end_time": "2022-04-15T09:59:20.534555",
          "exception": false,
          "start_time": "2022-04-15T09:59:20.351536",
          "status": "completed"
        },
        "tags": [],
        "id": "59a47191"
      },
      "outputs": [],
      "source": [
        "df_data['Cabin_Part1']=(df_data['Cabin_number']<300).astype(int)   # one-hot encoding\n",
        "df_data['Cabin_Part2']=((df_data['Cabin_number']>=300) & (df_data['Cabin_number']<600)).astype(int)\n",
        "df_data['Cabin_Part3']=((df_data['Cabin_number']>=600) & (df_data['Cabin_number']<900)).astype(int)\n",
        "df_data['Cabin_Part4']=((df_data['Cabin_number']>=900) & (df_data['Cabin_number']<1200)).astype(int)\n",
        "df_data['Cabin_Part5']=((df_data['Cabin_number']>=1200) & (df_data['Cabin_number']<1500)).astype(int)\n",
        "df_data['Cabin_Part6']=((df_data['Cabin_number']>=1500) & (df_data['Cabin_number']<1800)).astype(int)\n",
        "df_data['Cabin_Part7']=(df_data['Cabin_number']>=1800).astype(int)"
      ]
    },
    {
      "cell_type": "markdown",
      "id": "cc7bce83",
      "metadata": {
        "papermill": {
          "duration": 0.166569,
          "end_time": "2022-04-15T09:59:20.875092",
          "exception": false,
          "start_time": "2022-04-15T09:59:20.708523",
          "status": "completed"
        },
        "tags": [],
        "id": "cc7bce83"
      },
      "source": [
        "**VIP**"
      ]
    },
    {
      "cell_type": "markdown",
      "id": "3603bb73",
      "metadata": {
        "papermill": {
          "duration": 0.185787,
          "end_time": "2022-04-15T09:59:21.225646",
          "exception": false,
          "start_time": "2022-04-15T09:59:21.039859",
          "status": "completed"
        },
        "tags": [],
        "id": "3603bb73"
      },
      "source": [
        "For missing values of Vip, We just using the Mode"
      ]
    },
    {
      "cell_type": "code",
      "execution_count": 183,
      "id": "dc047ec2",
      "metadata": {
        "execution": {
          "iopub.execute_input": "2022-04-15T09:59:21.563499Z",
          "iopub.status.busy": "2022-04-15T09:59:21.562575Z",
          "iopub.status.idle": "2022-04-15T09:59:21.574958Z",
          "shell.execute_reply": "2022-04-15T09:59:21.575457Z",
          "shell.execute_reply.started": "2022-04-15T09:47:29.226113Z"
        },
        "papermill": {
          "duration": 0.180632,
          "end_time": "2022-04-15T09:59:21.575608",
          "exception": false,
          "start_time": "2022-04-15T09:59:21.394976",
          "status": "completed"
        },
        "tags": [],
        "colab": {
          "base_uri": "https://localhost:8080/"
        },
        "id": "dc047ec2",
        "outputId": "2fdbb2fa-5c79-407f-bbbb-b2d267c406c2"
      },
      "outputs": [
        {
          "output_type": "stream",
          "name": "stdout",
          "text": [
            "Number of VIP missing values before: 296\n",
            "Number of VIP missing values after: 0\n"
          ]
        }
      ],
      "source": [
        "# Missing values before\n",
        "before_VIP_miss=df_data['VIP'].isnull().sum()\n",
        "\n",
        "# Fill missing values using the mode\n",
        "df_data.loc[df_data.VIP.isnull(),'VIP']=False\n",
        "\n",
        "# Print number of missing values left\n",
        "print('Number of VIP missing values before:',before_VIP_miss)\n",
        "print('Number of VIP missing values after:',df_data['VIP'].isnull().sum())"
      ]
    },
    {
      "cell_type": "markdown",
      "id": "730cb63f",
      "metadata": {
        "papermill": {
          "duration": 0.166952,
          "end_time": "2022-04-15T09:59:21.906230",
          "exception": false,
          "start_time": "2022-04-15T09:59:21.739278",
          "status": "completed"
        },
        "tags": [],
        "id": "730cb63f"
      },
      "source": [
        "**Age**"
      ]
    },
    {
      "cell_type": "code",
      "execution_count": 184,
      "id": "95fe7e3b",
      "metadata": {
        "execution": {
          "iopub.execute_input": "2022-04-15T09:59:22.239655Z",
          "iopub.status.busy": "2022-04-15T09:59:22.238742Z",
          "iopub.status.idle": "2022-04-15T09:59:22.258953Z",
          "shell.execute_reply": "2022-04-15T09:59:22.259373Z",
          "shell.execute_reply.started": "2022-04-15T09:47:29.249906Z"
        },
        "papermill": {
          "duration": 0.186976,
          "end_time": "2022-04-15T09:59:22.259529",
          "exception": false,
          "start_time": "2022-04-15T09:59:22.072553",
          "status": "completed"
        },
        "tags": [],
        "colab": {
          "base_uri": "https://localhost:8080/",
          "height": 457
        },
        "id": "95fe7e3b",
        "outputId": "964f92c9-3697-4854-c012-d083b79dc491"
      },
      "outputs": [
        {
          "output_type": "execute_result",
          "data": {
            "text/plain": [
              "Cabin_deck                 A   B   C   D   E   F   G   T\n",
              "HomePlanet No_Cost Alone                                \n",
              "Earth      0       0       0   0   0   0  24  25  28   0\n",
              "                   1       0   0   0   0  25  24  26   0\n",
              "           1       0       0   0   0   0   7  16   8   0\n",
              "                   1       0   0   0   0  21  21  23   0\n",
              "Europa     0       0      35  34  33  33  34   0   0  44\n",
              "                   1      35  36  35  34  35   0   0  35\n",
              "           1       0      30  27  28  27  28   0   0   0\n",
              "                   1      37  34  35  31  33   0   0   0\n",
              "Mars       0       0       0   0   0  30  29  29   0   0\n",
              "                   1       0   0   0  31  28  30   0   0\n",
              "           1       0       0   0   0  29  26  18   0   0\n",
              "                   1       0   0   0  33  30  29   0   0"
            ],
            "text/html": [
              "\n",
              "  <div id=\"df-1a37bbd3-490c-4145-b357-8e038d992ca7\">\n",
              "    <div class=\"colab-df-container\">\n",
              "      <div>\n",
              "<style scoped>\n",
              "    .dataframe tbody tr th:only-of-type {\n",
              "        vertical-align: middle;\n",
              "    }\n",
              "\n",
              "    .dataframe tbody tr th {\n",
              "        vertical-align: top;\n",
              "    }\n",
              "\n",
              "    .dataframe thead th {\n",
              "        text-align: right;\n",
              "    }\n",
              "</style>\n",
              "<table border=\"1\" class=\"dataframe\">\n",
              "  <thead>\n",
              "    <tr style=\"text-align: right;\">\n",
              "      <th></th>\n",
              "      <th></th>\n",
              "      <th>Cabin_deck</th>\n",
              "      <th>A</th>\n",
              "      <th>B</th>\n",
              "      <th>C</th>\n",
              "      <th>D</th>\n",
              "      <th>E</th>\n",
              "      <th>F</th>\n",
              "      <th>G</th>\n",
              "      <th>T</th>\n",
              "    </tr>\n",
              "    <tr>\n",
              "      <th>HomePlanet</th>\n",
              "      <th>No_Cost</th>\n",
              "      <th>Alone</th>\n",
              "      <th></th>\n",
              "      <th></th>\n",
              "      <th></th>\n",
              "      <th></th>\n",
              "      <th></th>\n",
              "      <th></th>\n",
              "      <th></th>\n",
              "      <th></th>\n",
              "    </tr>\n",
              "  </thead>\n",
              "  <tbody>\n",
              "    <tr>\n",
              "      <th rowspan=\"4\" valign=\"top\">Earth</th>\n",
              "      <th rowspan=\"2\" valign=\"top\">0</th>\n",
              "      <th>0</th>\n",
              "      <td>0</td>\n",
              "      <td>0</td>\n",
              "      <td>0</td>\n",
              "      <td>0</td>\n",
              "      <td>24</td>\n",
              "      <td>25</td>\n",
              "      <td>28</td>\n",
              "      <td>0</td>\n",
              "    </tr>\n",
              "    <tr>\n",
              "      <th>1</th>\n",
              "      <td>0</td>\n",
              "      <td>0</td>\n",
              "      <td>0</td>\n",
              "      <td>0</td>\n",
              "      <td>25</td>\n",
              "      <td>24</td>\n",
              "      <td>26</td>\n",
              "      <td>0</td>\n",
              "    </tr>\n",
              "    <tr>\n",
              "      <th rowspan=\"2\" valign=\"top\">1</th>\n",
              "      <th>0</th>\n",
              "      <td>0</td>\n",
              "      <td>0</td>\n",
              "      <td>0</td>\n",
              "      <td>0</td>\n",
              "      <td>7</td>\n",
              "      <td>16</td>\n",
              "      <td>8</td>\n",
              "      <td>0</td>\n",
              "    </tr>\n",
              "    <tr>\n",
              "      <th>1</th>\n",
              "      <td>0</td>\n",
              "      <td>0</td>\n",
              "      <td>0</td>\n",
              "      <td>0</td>\n",
              "      <td>21</td>\n",
              "      <td>21</td>\n",
              "      <td>23</td>\n",
              "      <td>0</td>\n",
              "    </tr>\n",
              "    <tr>\n",
              "      <th rowspan=\"4\" valign=\"top\">Europa</th>\n",
              "      <th rowspan=\"2\" valign=\"top\">0</th>\n",
              "      <th>0</th>\n",
              "      <td>35</td>\n",
              "      <td>34</td>\n",
              "      <td>33</td>\n",
              "      <td>33</td>\n",
              "      <td>34</td>\n",
              "      <td>0</td>\n",
              "      <td>0</td>\n",
              "      <td>44</td>\n",
              "    </tr>\n",
              "    <tr>\n",
              "      <th>1</th>\n",
              "      <td>35</td>\n",
              "      <td>36</td>\n",
              "      <td>35</td>\n",
              "      <td>34</td>\n",
              "      <td>35</td>\n",
              "      <td>0</td>\n",
              "      <td>0</td>\n",
              "      <td>35</td>\n",
              "    </tr>\n",
              "    <tr>\n",
              "      <th rowspan=\"2\" valign=\"top\">1</th>\n",
              "      <th>0</th>\n",
              "      <td>30</td>\n",
              "      <td>27</td>\n",
              "      <td>28</td>\n",
              "      <td>27</td>\n",
              "      <td>28</td>\n",
              "      <td>0</td>\n",
              "      <td>0</td>\n",
              "      <td>0</td>\n",
              "    </tr>\n",
              "    <tr>\n",
              "      <th>1</th>\n",
              "      <td>37</td>\n",
              "      <td>34</td>\n",
              "      <td>35</td>\n",
              "      <td>31</td>\n",
              "      <td>33</td>\n",
              "      <td>0</td>\n",
              "      <td>0</td>\n",
              "      <td>0</td>\n",
              "    </tr>\n",
              "    <tr>\n",
              "      <th rowspan=\"4\" valign=\"top\">Mars</th>\n",
              "      <th rowspan=\"2\" valign=\"top\">0</th>\n",
              "      <th>0</th>\n",
              "      <td>0</td>\n",
              "      <td>0</td>\n",
              "      <td>0</td>\n",
              "      <td>30</td>\n",
              "      <td>29</td>\n",
              "      <td>29</td>\n",
              "      <td>0</td>\n",
              "      <td>0</td>\n",
              "    </tr>\n",
              "    <tr>\n",
              "      <th>1</th>\n",
              "      <td>0</td>\n",
              "      <td>0</td>\n",
              "      <td>0</td>\n",
              "      <td>31</td>\n",
              "      <td>28</td>\n",
              "      <td>30</td>\n",
              "      <td>0</td>\n",
              "      <td>0</td>\n",
              "    </tr>\n",
              "    <tr>\n",
              "      <th rowspan=\"2\" valign=\"top\">1</th>\n",
              "      <th>0</th>\n",
              "      <td>0</td>\n",
              "      <td>0</td>\n",
              "      <td>0</td>\n",
              "      <td>29</td>\n",
              "      <td>26</td>\n",
              "      <td>18</td>\n",
              "      <td>0</td>\n",
              "      <td>0</td>\n",
              "    </tr>\n",
              "    <tr>\n",
              "      <th>1</th>\n",
              "      <td>0</td>\n",
              "      <td>0</td>\n",
              "      <td>0</td>\n",
              "      <td>33</td>\n",
              "      <td>30</td>\n",
              "      <td>29</td>\n",
              "      <td>0</td>\n",
              "      <td>0</td>\n",
              "    </tr>\n",
              "  </tbody>\n",
              "</table>\n",
              "</div>\n",
              "      <button class=\"colab-df-convert\" onclick=\"convertToInteractive('df-1a37bbd3-490c-4145-b357-8e038d992ca7')\"\n",
              "              title=\"Convert this dataframe to an interactive table.\"\n",
              "              style=\"display:none;\">\n",
              "        \n",
              "  <svg xmlns=\"http://www.w3.org/2000/svg\" height=\"24px\"viewBox=\"0 0 24 24\"\n",
              "       width=\"24px\">\n",
              "    <path d=\"M0 0h24v24H0V0z\" fill=\"none\"/>\n",
              "    <path d=\"M18.56 5.44l.94 2.06.94-2.06 2.06-.94-2.06-.94-.94-2.06-.94 2.06-2.06.94zm-11 1L8.5 8.5l.94-2.06 2.06-.94-2.06-.94L8.5 2.5l-.94 2.06-2.06.94zm10 10l.94 2.06.94-2.06 2.06-.94-2.06-.94-.94-2.06-.94 2.06-2.06.94z\"/><path d=\"M17.41 7.96l-1.37-1.37c-.4-.4-.92-.59-1.43-.59-.52 0-1.04.2-1.43.59L10.3 9.45l-7.72 7.72c-.78.78-.78 2.05 0 2.83L4 21.41c.39.39.9.59 1.41.59.51 0 1.02-.2 1.41-.59l7.78-7.78 2.81-2.81c.8-.78.8-2.07 0-2.86zM5.41 20L4 18.59l7.72-7.72 1.47 1.35L5.41 20z\"/>\n",
              "  </svg>\n",
              "      </button>\n",
              "      \n",
              "  <style>\n",
              "    .colab-df-container {\n",
              "      display:flex;\n",
              "      flex-wrap:wrap;\n",
              "      gap: 12px;\n",
              "    }\n",
              "\n",
              "    .colab-df-convert {\n",
              "      background-color: #E8F0FE;\n",
              "      border: none;\n",
              "      border-radius: 50%;\n",
              "      cursor: pointer;\n",
              "      display: none;\n",
              "      fill: #1967D2;\n",
              "      height: 32px;\n",
              "      padding: 0 0 0 0;\n",
              "      width: 32px;\n",
              "    }\n",
              "\n",
              "    .colab-df-convert:hover {\n",
              "      background-color: #E2EBFA;\n",
              "      box-shadow: 0px 1px 2px rgba(60, 64, 67, 0.3), 0px 1px 3px 1px rgba(60, 64, 67, 0.15);\n",
              "      fill: #174EA6;\n",
              "    }\n",
              "\n",
              "    [theme=dark] .colab-df-convert {\n",
              "      background-color: #3B4455;\n",
              "      fill: #D2E3FC;\n",
              "    }\n",
              "\n",
              "    [theme=dark] .colab-df-convert:hover {\n",
              "      background-color: #434B5C;\n",
              "      box-shadow: 0px 1px 3px 1px rgba(0, 0, 0, 0.15);\n",
              "      filter: drop-shadow(0px 1px 2px rgba(0, 0, 0, 0.3));\n",
              "      fill: #FFFFFF;\n",
              "    }\n",
              "  </style>\n",
              "\n",
              "      <script>\n",
              "        const buttonEl =\n",
              "          document.querySelector('#df-1a37bbd3-490c-4145-b357-8e038d992ca7 button.colab-df-convert');\n",
              "        buttonEl.style.display =\n",
              "          google.colab.kernel.accessAllowed ? 'block' : 'none';\n",
              "\n",
              "        async function convertToInteractive(key) {\n",
              "          const element = document.querySelector('#df-1a37bbd3-490c-4145-b357-8e038d992ca7');\n",
              "          const dataTable =\n",
              "            await google.colab.kernel.invokeFunction('convertToInteractive',\n",
              "                                                     [key], {});\n",
              "          if (!dataTable) return;\n",
              "\n",
              "          const docLinkHtml = 'Like what you see? Visit the ' +\n",
              "            '<a target=\"_blank\" href=https://colab.research.google.com/notebooks/data_table.ipynb>data table notebook</a>'\n",
              "            + ' to learn more about interactive tables.';\n",
              "          element.innerHTML = '';\n",
              "          dataTable['output_type'] = 'display_data';\n",
              "          await google.colab.output.renderOutput(dataTable, element);\n",
              "          const docLink = document.createElement('div');\n",
              "          docLink.innerHTML = docLinkHtml;\n",
              "          element.appendChild(docLink);\n",
              "        }\n",
              "      </script>\n",
              "    </div>\n",
              "  </div>\n",
              "  "
            ]
          },
          "metadata": {},
          "execution_count": 184
        }
      ],
      "source": [
        "# Joint distribution\n",
        "df_data.groupby(['HomePlanet','No_Cost','Alone','Cabin_deck'])['Age'].median().unstack().fillna(0).astype(int)"
      ]
    },
    {
      "cell_type": "code",
      "execution_count": 185,
      "id": "d0ce525e",
      "metadata": {
        "execution": {
          "iopub.execute_input": "2022-04-15T09:59:22.592782Z",
          "iopub.status.busy": "2022-04-15T09:59:22.591941Z",
          "iopub.status.idle": "2022-04-15T09:59:22.618864Z",
          "shell.execute_reply": "2022-04-15T09:59:22.619685Z",
          "shell.execute_reply.started": "2022-04-15T09:47:29.276128Z"
        },
        "papermill": {
          "duration": 0.194699,
          "end_time": "2022-04-15T09:59:22.619945",
          "exception": false,
          "start_time": "2022-04-15T09:59:22.425246",
          "status": "completed"
        },
        "tags": [],
        "colab": {
          "base_uri": "https://localhost:8080/"
        },
        "id": "d0ce525e",
        "outputId": "a7be5303-ec51-4662-aa61-6d7c26d8aec6"
      },
      "outputs": [
        {
          "output_type": "stream",
          "name": "stdout",
          "text": [
            "Number of Age missing values before: 270\n",
            "Number of Age missing values after: 0\n"
          ]
        }
      ],
      "source": [
        "# Missing values before\n",
        "before_Age_miss=df_data['Age'].isnull().sum()\n",
        "\n",
        "# Fill missing values using the mode\n",
        "id_index=df_data.loc[df_data['Age'].isna(),'Age'].index\n",
        "df_data.loc[df_data['Age'].isna(),'Age']=df_data.groupby(['HomePlanet','No_Cost','Alone','Cabin_deck'])['Age'].transform(lambda x: x.fillna(x.median()))[id_index]\n",
        "\n",
        "# Print number of missing values left\n",
        "print('Number of Age missing values before:',before_Age_miss)\n",
        "print('Number of Age missing values after:',df_data['Age'].isnull().sum())"
      ]
    },
    {
      "cell_type": "markdown",
      "id": "41b6075c",
      "metadata": {
        "papermill": {
          "duration": 0.174105,
          "end_time": "2022-04-15T09:59:22.959354",
          "exception": false,
          "start_time": "2022-04-15T09:59:22.785249",
          "status": "completed"
        },
        "tags": [],
        "id": "41b6075c"
      },
      "source": [
        "Update Age_group:"
      ]
    },
    {
      "cell_type": "code",
      "execution_count": 186,
      "id": "dd4adc94",
      "metadata": {
        "execution": {
          "iopub.execute_input": "2022-04-15T09:59:23.303859Z",
          "iopub.status.busy": "2022-04-15T09:59:23.302929Z",
          "iopub.status.idle": "2022-04-15T09:59:23.318942Z",
          "shell.execute_reply": "2022-04-15T09:59:23.319459Z",
          "shell.execute_reply.started": "2022-04-15T09:47:29.314014Z"
        },
        "papermill": {
          "duration": 0.187575,
          "end_time": "2022-04-15T09:59:23.319619",
          "exception": false,
          "start_time": "2022-04-15T09:59:23.132044",
          "status": "completed"
        },
        "tags": [],
        "id": "dd4adc94"
      },
      "outputs": [],
      "source": [
        "df_data['Age_group'] = df_data['Age'].apply(lambda x: '-12_Age' if x<12 else\n",
        "                                            '12-18_Age' if (x>=12) & (x<18) else\n",
        "                                            '18-25_Age' if (x>=18) & (x<25) else\n",
        "                                            '25-35_Age' if (x>=25) & (x<35) else\n",
        "                                            '35-50_Age' if (x>=35) & (x<50) else\n",
        "                                            '+50_Age' if x>=50 else None)"
      ]
    },
    {
      "cell_type": "code",
      "execution_count": 187,
      "id": "9aefd843",
      "metadata": {
        "execution": {
          "iopub.execute_input": "2022-04-15T09:59:23.659690Z",
          "iopub.status.busy": "2022-04-15T09:59:23.658821Z",
          "iopub.status.idle": "2022-04-15T09:59:23.678585Z",
          "shell.execute_reply": "2022-04-15T09:59:23.679033Z",
          "shell.execute_reply.started": "2022-04-15T09:47:29.337637Z"
        },
        "papermill": {
          "duration": 0.191048,
          "end_time": "2022-04-15T09:59:23.679216",
          "exception": false,
          "start_time": "2022-04-15T09:59:23.488168",
          "status": "completed"
        },
        "tags": [],
        "colab": {
          "base_uri": "https://localhost:8080/"
        },
        "id": "9aefd843",
        "outputId": "87a6c501-9b92-4e6f-e979-385082d08e9b"
      },
      "outputs": [
        {
          "output_type": "execute_result",
          "data": {
            "text/plain": [
              "PassengerId                0\n",
              "HomePlanet                 0\n",
              "CryoSleep                310\n",
              "Destination                0\n",
              "Age                        0\n",
              "VIP                        0\n",
              "RoomService              263\n",
              "FoodCourt                289\n",
              "ShoppingMall             306\n",
              "Spa                      284\n",
              "VRDeck                   268\n",
              "Transported             4277\n",
              "Age_group                  0\n",
              "Cost                       0\n",
              "No_Cost                    0\n",
              "Passenger_Group            0\n",
              "Passenger_Group_Size       0\n",
              "Alone                      0\n",
              "Cabin_deck                 0\n",
              "Cabin_number               0\n",
              "Cabin_side                 0\n",
              "Cabin_Part1                0\n",
              "Cabin_Part2                0\n",
              "Cabin_Part3                0\n",
              "Cabin_Part4                0\n",
              "Cabin_Part5                0\n",
              "Cabin_Part6                0\n",
              "Cabin_Part7                0\n",
              "Family_Size                0\n",
              "dtype: int64"
            ]
          },
          "metadata": {},
          "execution_count": 187
        }
      ],
      "source": [
        "df_data.isnull().sum()"
      ]
    },
    {
      "cell_type": "markdown",
      "id": "c3a59d96",
      "metadata": {
        "papermill": {
          "duration": 0.170008,
          "end_time": "2022-04-15T09:59:24.018330",
          "exception": false,
          "start_time": "2022-04-15T09:59:23.848322",
          "status": "completed"
        },
        "tags": [],
        "id": "c3a59d96"
      },
      "source": [
        "**CryoSleep**"
      ]
    },
    {
      "cell_type": "code",
      "execution_count": 188,
      "id": "f059ca8a",
      "metadata": {
        "execution": {
          "iopub.execute_input": "2022-04-15T09:59:24.359644Z",
          "iopub.status.busy": "2022-04-15T09:59:24.358791Z",
          "iopub.status.idle": "2022-04-15T09:59:24.369510Z",
          "shell.execute_reply": "2022-04-15T09:59:24.368993Z",
          "shell.execute_reply.started": "2022-04-15T09:47:29.373397Z"
        },
        "papermill": {
          "duration": 0.182952,
          "end_time": "2022-04-15T09:59:24.369642",
          "exception": false,
          "start_time": "2022-04-15T09:59:24.186690",
          "status": "completed"
        },
        "tags": [],
        "colab": {
          "base_uri": "https://localhost:8080/",
          "height": 143
        },
        "id": "f059ca8a",
        "outputId": "a8353f40-6468-4b6d-e529-eb0012497f07"
      },
      "outputs": [
        {
          "output_type": "execute_result",
          "data": {
            "text/plain": [
              "CryoSleep  False  True\n",
              "No_Cost               \n",
              "0           7339     0\n",
              "1            740  4581"
            ],
            "text/html": [
              "\n",
              "  <div id=\"df-056c4f59-02cd-453a-8f0a-fd5e3a45d001\">\n",
              "    <div class=\"colab-df-container\">\n",
              "      <div>\n",
              "<style scoped>\n",
              "    .dataframe tbody tr th:only-of-type {\n",
              "        vertical-align: middle;\n",
              "    }\n",
              "\n",
              "    .dataframe tbody tr th {\n",
              "        vertical-align: top;\n",
              "    }\n",
              "\n",
              "    .dataframe thead th {\n",
              "        text-align: right;\n",
              "    }\n",
              "</style>\n",
              "<table border=\"1\" class=\"dataframe\">\n",
              "  <thead>\n",
              "    <tr style=\"text-align: right;\">\n",
              "      <th>CryoSleep</th>\n",
              "      <th>False</th>\n",
              "      <th>True</th>\n",
              "    </tr>\n",
              "    <tr>\n",
              "      <th>No_Cost</th>\n",
              "      <th></th>\n",
              "      <th></th>\n",
              "    </tr>\n",
              "  </thead>\n",
              "  <tbody>\n",
              "    <tr>\n",
              "      <th>0</th>\n",
              "      <td>7339</td>\n",
              "      <td>0</td>\n",
              "    </tr>\n",
              "    <tr>\n",
              "      <th>1</th>\n",
              "      <td>740</td>\n",
              "      <td>4581</td>\n",
              "    </tr>\n",
              "  </tbody>\n",
              "</table>\n",
              "</div>\n",
              "      <button class=\"colab-df-convert\" onclick=\"convertToInteractive('df-056c4f59-02cd-453a-8f0a-fd5e3a45d001')\"\n",
              "              title=\"Convert this dataframe to an interactive table.\"\n",
              "              style=\"display:none;\">\n",
              "        \n",
              "  <svg xmlns=\"http://www.w3.org/2000/svg\" height=\"24px\"viewBox=\"0 0 24 24\"\n",
              "       width=\"24px\">\n",
              "    <path d=\"M0 0h24v24H0V0z\" fill=\"none\"/>\n",
              "    <path d=\"M18.56 5.44l.94 2.06.94-2.06 2.06-.94-2.06-.94-.94-2.06-.94 2.06-2.06.94zm-11 1L8.5 8.5l.94-2.06 2.06-.94-2.06-.94L8.5 2.5l-.94 2.06-2.06.94zm10 10l.94 2.06.94-2.06 2.06-.94-2.06-.94-.94-2.06-.94 2.06-2.06.94z\"/><path d=\"M17.41 7.96l-1.37-1.37c-.4-.4-.92-.59-1.43-.59-.52 0-1.04.2-1.43.59L10.3 9.45l-7.72 7.72c-.78.78-.78 2.05 0 2.83L4 21.41c.39.39.9.59 1.41.59.51 0 1.02-.2 1.41-.59l7.78-7.78 2.81-2.81c.8-.78.8-2.07 0-2.86zM5.41 20L4 18.59l7.72-7.72 1.47 1.35L5.41 20z\"/>\n",
              "  </svg>\n",
              "      </button>\n",
              "      \n",
              "  <style>\n",
              "    .colab-df-container {\n",
              "      display:flex;\n",
              "      flex-wrap:wrap;\n",
              "      gap: 12px;\n",
              "    }\n",
              "\n",
              "    .colab-df-convert {\n",
              "      background-color: #E8F0FE;\n",
              "      border: none;\n",
              "      border-radius: 50%;\n",
              "      cursor: pointer;\n",
              "      display: none;\n",
              "      fill: #1967D2;\n",
              "      height: 32px;\n",
              "      padding: 0 0 0 0;\n",
              "      width: 32px;\n",
              "    }\n",
              "\n",
              "    .colab-df-convert:hover {\n",
              "      background-color: #E2EBFA;\n",
              "      box-shadow: 0px 1px 2px rgba(60, 64, 67, 0.3), 0px 1px 3px 1px rgba(60, 64, 67, 0.15);\n",
              "      fill: #174EA6;\n",
              "    }\n",
              "\n",
              "    [theme=dark] .colab-df-convert {\n",
              "      background-color: #3B4455;\n",
              "      fill: #D2E3FC;\n",
              "    }\n",
              "\n",
              "    [theme=dark] .colab-df-convert:hover {\n",
              "      background-color: #434B5C;\n",
              "      box-shadow: 0px 1px 3px 1px rgba(0, 0, 0, 0.15);\n",
              "      filter: drop-shadow(0px 1px 2px rgba(0, 0, 0, 0.3));\n",
              "      fill: #FFFFFF;\n",
              "    }\n",
              "  </style>\n",
              "\n",
              "      <script>\n",
              "        const buttonEl =\n",
              "          document.querySelector('#df-056c4f59-02cd-453a-8f0a-fd5e3a45d001 button.colab-df-convert');\n",
              "        buttonEl.style.display =\n",
              "          google.colab.kernel.accessAllowed ? 'block' : 'none';\n",
              "\n",
              "        async function convertToInteractive(key) {\n",
              "          const element = document.querySelector('#df-056c4f59-02cd-453a-8f0a-fd5e3a45d001');\n",
              "          const dataTable =\n",
              "            await google.colab.kernel.invokeFunction('convertToInteractive',\n",
              "                                                     [key], {});\n",
              "          if (!dataTable) return;\n",
              "\n",
              "          const docLinkHtml = 'Like what you see? Visit the ' +\n",
              "            '<a target=\"_blank\" href=https://colab.research.google.com/notebooks/data_table.ipynb>data table notebook</a>'\n",
              "            + ' to learn more about interactive tables.';\n",
              "          element.innerHTML = '';\n",
              "          dataTable['output_type'] = 'display_data';\n",
              "          await google.colab.output.renderOutput(dataTable, element);\n",
              "          const docLink = document.createElement('div');\n",
              "          docLink.innerHTML = docLinkHtml;\n",
              "          element.appendChild(docLink);\n",
              "        }\n",
              "      </script>\n",
              "    </div>\n",
              "  </div>\n",
              "  "
            ]
          },
          "metadata": {},
          "execution_count": 188
        }
      ],
      "source": [
        "# Joint distribution\n",
        "df_data.groupby(['No_Cost','CryoSleep'])['CryoSleep'].size().unstack().fillna(0).astype(int)"
      ]
    },
    {
      "cell_type": "code",
      "execution_count": 189,
      "id": "5135cd46",
      "metadata": {
        "execution": {
          "iopub.execute_input": "2022-04-15T09:59:24.712918Z",
          "iopub.status.busy": "2022-04-15T09:59:24.712383Z",
          "iopub.status.idle": "2022-04-15T09:59:24.731217Z",
          "shell.execute_reply": "2022-04-15T09:59:24.731683Z",
          "shell.execute_reply.started": "2022-04-15T09:47:29.390013Z"
        },
        "papermill": {
          "duration": 0.193196,
          "end_time": "2022-04-15T09:59:24.731835",
          "exception": false,
          "start_time": "2022-04-15T09:59:24.538639",
          "status": "completed"
        },
        "tags": [],
        "colab": {
          "base_uri": "https://localhost:8080/"
        },
        "id": "5135cd46",
        "outputId": "c29b8a13-f46d-4e3a-c4e5-34d75e222959"
      },
      "outputs": [
        {
          "output_type": "stream",
          "name": "stdout",
          "text": [
            "Number of CryoSleep missing values before: 310\n",
            "Number of CryoSleep missing values after: 0\n"
          ]
        }
      ],
      "source": [
        "# Missing values before\n",
        "before_CryoSleep_miss=df_data['CryoSleep'].isnull().sum()\n",
        "\n",
        "# Fill missing values using the mode\n",
        "id_index=df_data.loc[df_data['CryoSleep'].isna(),'CryoSleep'].index\n",
        "df_data.loc[df_data['CryoSleep'].isna(),'CryoSleep']=df_data.groupby(['No_Cost'])['CryoSleep'].transform(lambda x: x.fillna(pd.Series.mode(x)[0]))[id_index]\n",
        "\n",
        "# Print number of missing values left\n",
        "print('Number of CryoSleep missing values before:',before_CryoSleep_miss)\n",
        "print('Number of CryoSleep missing values after:',df_data['CryoSleep'].isnull().sum())"
      ]
    },
    {
      "cell_type": "markdown",
      "id": "e765c544",
      "metadata": {
        "papermill": {
          "duration": 0.174731,
          "end_time": "2022-04-15T09:59:25.078370",
          "exception": false,
          "start_time": "2022-04-15T09:59:24.903639",
          "status": "completed"
        },
        "tags": [],
        "id": "e765c544"
      },
      "source": [
        "**Cost features and CryoSleep**"
      ]
    },
    {
      "cell_type": "markdown",
      "id": "5ecbb77d",
      "metadata": {
        "papermill": {
          "duration": 0.170419,
          "end_time": "2022-04-15T09:59:25.417867",
          "exception": false,
          "start_time": "2022-04-15T09:59:25.247448",
          "status": "completed"
        },
        "tags": [],
        "id": "5ecbb77d"
      },
      "source": [
        "We don't expect people in CryoSleep to be able to spend anything."
      ]
    },
    {
      "cell_type": "code",
      "execution_count": 190,
      "id": "032b94c8",
      "metadata": {
        "execution": {
          "iopub.execute_input": "2022-04-15T09:59:25.760909Z",
          "iopub.status.busy": "2022-04-15T09:59:25.759867Z",
          "iopub.status.idle": "2022-04-15T09:59:25.766599Z",
          "shell.execute_reply": "2022-04-15T09:59:25.767165Z",
          "shell.execute_reply.started": "2022-04-15T09:47:29.422994Z"
        },
        "papermill": {
          "duration": 0.180563,
          "end_time": "2022-04-15T09:59:25.767324",
          "exception": false,
          "start_time": "2022-04-15T09:59:25.586761",
          "status": "completed"
        },
        "tags": [],
        "colab": {
          "base_uri": "https://localhost:8080/"
        },
        "id": "032b94c8",
        "outputId": "42f0fbca-399b-4ee9-aa8f-1c16b30f2863"
      },
      "outputs": [
        {
          "output_type": "execute_result",
          "data": {
            "text/plain": [
              "0.0"
            ]
          },
          "metadata": {},
          "execution_count": 190
        }
      ],
      "source": [
        "df_data.loc[df_data['CryoSleep']==True,cost_features].sum(axis=1).max()"
      ]
    },
    {
      "cell_type": "code",
      "execution_count": 191,
      "id": "07dc0d5f",
      "metadata": {
        "execution": {
          "iopub.execute_input": "2022-04-15T09:59:26.122587Z",
          "iopub.status.busy": "2022-04-15T09:59:26.121681Z",
          "iopub.status.idle": "2022-04-15T09:59:26.145927Z",
          "shell.execute_reply": "2022-04-15T09:59:26.146449Z",
          "shell.execute_reply.started": "2022-04-15T09:47:29.437969Z"
        },
        "papermill": {
          "duration": 0.202334,
          "end_time": "2022-04-15T09:59:26.146607",
          "exception": false,
          "start_time": "2022-04-15T09:59:25.944273",
          "status": "completed"
        },
        "tags": [],
        "colab": {
          "base_uri": "https://localhost:8080/"
        },
        "id": "07dc0d5f",
        "outputId": "c0074df7-38fd-44bf-842b-dcfa40ba7f52"
      },
      "outputs": [
        {
          "output_type": "stream",
          "name": "stdout",
          "text": [
            "Number of cost_features missing values before: 1410\n",
            "Number of cost_features missing values after: 866\n"
          ]
        }
      ],
      "source": [
        "# Missing values before\n",
        "before_cost_features_miss=df_data[cost_features].isnull().sum().sum()\n",
        "\n",
        "# Fill missing values using the mode\n",
        "for col in cost_features:\n",
        "    df_data.loc[(df_data[col].isnull()) & (df_data['CryoSleep']==True) ,col]=0\n",
        "\n",
        "# Print number of missing values left\n",
        "print('Number of cost_features missing values before:',before_cost_features_miss)\n",
        "print('Number of cost_features missing values after:',df_data[cost_features].isnull().sum().sum())"
      ]
    },
    {
      "cell_type": "markdown",
      "id": "d60921cb",
      "metadata": {
        "papermill": {
          "duration": 0.174191,
          "end_time": "2022-04-15T09:59:26.491004",
          "exception": false,
          "start_time": "2022-04-15T09:59:26.316813",
          "status": "completed"
        },
        "tags": [],
        "id": "d60921cb"
      },
      "source": [
        "**Cost and Others**"
      ]
    },
    {
      "cell_type": "code",
      "execution_count": 192,
      "id": "9ca512b4",
      "metadata": {
        "execution": {
          "iopub.execute_input": "2022-04-15T09:59:26.833456Z",
          "iopub.status.busy": "2022-04-15T09:59:26.832404Z",
          "iopub.status.idle": "2022-04-15T09:59:26.853673Z",
          "shell.execute_reply": "2022-04-15T09:59:26.854329Z",
          "shell.execute_reply.started": "2022-04-15T09:47:29.470414Z"
        },
        "papermill": {
          "duration": 0.193658,
          "end_time": "2022-04-15T09:59:26.854503",
          "exception": false,
          "start_time": "2022-04-15T09:59:26.660845",
          "status": "completed"
        },
        "tags": [],
        "colab": {
          "base_uri": "https://localhost:8080/",
          "height": 269
        },
        "id": "9ca512b4",
        "outputId": "c08c902f-607f-4374-84dd-af446e05f6c7"
      },
      "outputs": [
        {
          "output_type": "execute_result",
          "data": {
            "text/plain": [
              "Age_group             +50_Age  -12_Age    12-18_Age    18-25_Age    25-35_Age  \\\n",
              "HomePlanet Alone                                                                \n",
              "Earth      0       709.716535      0.0   624.915709   774.259875   842.803665   \n",
              "           1       810.024590      0.0   684.097426   776.683946   784.401980   \n",
              "Europa     0      3398.630350      0.0  1138.563291  2442.583630  3791.903394   \n",
              "           1      3861.372781      0.0     0.000000  2575.914634  3584.257991   \n",
              "Mars       0      1360.907563      0.0  1098.383333  1183.336391  1182.615385   \n",
              "           1      1038.463087      0.0  1661.696970  1106.826748  1077.938144   \n",
              "\n",
              "Age_group           35-50_Age  \n",
              "HomePlanet Alone               \n",
              "Earth      0       719.478788  \n",
              "           1       815.783692  \n",
              "Europa     0      3835.726655  \n",
              "           1      4136.227154  \n",
              "Mars       0      1130.743396  \n",
              "           1      1145.596491  "
            ],
            "text/html": [
              "\n",
              "  <div id=\"df-3947d372-c16d-4a41-9984-21d5e2559aa6\">\n",
              "    <div class=\"colab-df-container\">\n",
              "      <div>\n",
              "<style scoped>\n",
              "    .dataframe tbody tr th:only-of-type {\n",
              "        vertical-align: middle;\n",
              "    }\n",
              "\n",
              "    .dataframe tbody tr th {\n",
              "        vertical-align: top;\n",
              "    }\n",
              "\n",
              "    .dataframe thead th {\n",
              "        text-align: right;\n",
              "    }\n",
              "</style>\n",
              "<table border=\"1\" class=\"dataframe\">\n",
              "  <thead>\n",
              "    <tr style=\"text-align: right;\">\n",
              "      <th></th>\n",
              "      <th>Age_group</th>\n",
              "      <th>+50_Age</th>\n",
              "      <th>-12_Age</th>\n",
              "      <th>12-18_Age</th>\n",
              "      <th>18-25_Age</th>\n",
              "      <th>25-35_Age</th>\n",
              "      <th>35-50_Age</th>\n",
              "    </tr>\n",
              "    <tr>\n",
              "      <th>HomePlanet</th>\n",
              "      <th>Alone</th>\n",
              "      <th></th>\n",
              "      <th></th>\n",
              "      <th></th>\n",
              "      <th></th>\n",
              "      <th></th>\n",
              "      <th></th>\n",
              "    </tr>\n",
              "  </thead>\n",
              "  <tbody>\n",
              "    <tr>\n",
              "      <th rowspan=\"2\" valign=\"top\">Earth</th>\n",
              "      <th>0</th>\n",
              "      <td>709.716535</td>\n",
              "      <td>0.0</td>\n",
              "      <td>624.915709</td>\n",
              "      <td>774.259875</td>\n",
              "      <td>842.803665</td>\n",
              "      <td>719.478788</td>\n",
              "    </tr>\n",
              "    <tr>\n",
              "      <th>1</th>\n",
              "      <td>810.024590</td>\n",
              "      <td>0.0</td>\n",
              "      <td>684.097426</td>\n",
              "      <td>776.683946</td>\n",
              "      <td>784.401980</td>\n",
              "      <td>815.783692</td>\n",
              "    </tr>\n",
              "    <tr>\n",
              "      <th rowspan=\"2\" valign=\"top\">Europa</th>\n",
              "      <th>0</th>\n",
              "      <td>3398.630350</td>\n",
              "      <td>0.0</td>\n",
              "      <td>1138.563291</td>\n",
              "      <td>2442.583630</td>\n",
              "      <td>3791.903394</td>\n",
              "      <td>3835.726655</td>\n",
              "    </tr>\n",
              "    <tr>\n",
              "      <th>1</th>\n",
              "      <td>3861.372781</td>\n",
              "      <td>0.0</td>\n",
              "      <td>0.000000</td>\n",
              "      <td>2575.914634</td>\n",
              "      <td>3584.257991</td>\n",
              "      <td>4136.227154</td>\n",
              "    </tr>\n",
              "    <tr>\n",
              "      <th rowspan=\"2\" valign=\"top\">Mars</th>\n",
              "      <th>0</th>\n",
              "      <td>1360.907563</td>\n",
              "      <td>0.0</td>\n",
              "      <td>1098.383333</td>\n",
              "      <td>1183.336391</td>\n",
              "      <td>1182.615385</td>\n",
              "      <td>1130.743396</td>\n",
              "    </tr>\n",
              "    <tr>\n",
              "      <th>1</th>\n",
              "      <td>1038.463087</td>\n",
              "      <td>0.0</td>\n",
              "      <td>1661.696970</td>\n",
              "      <td>1106.826748</td>\n",
              "      <td>1077.938144</td>\n",
              "      <td>1145.596491</td>\n",
              "    </tr>\n",
              "  </tbody>\n",
              "</table>\n",
              "</div>\n",
              "      <button class=\"colab-df-convert\" onclick=\"convertToInteractive('df-3947d372-c16d-4a41-9984-21d5e2559aa6')\"\n",
              "              title=\"Convert this dataframe to an interactive table.\"\n",
              "              style=\"display:none;\">\n",
              "        \n",
              "  <svg xmlns=\"http://www.w3.org/2000/svg\" height=\"24px\"viewBox=\"0 0 24 24\"\n",
              "       width=\"24px\">\n",
              "    <path d=\"M0 0h24v24H0V0z\" fill=\"none\"/>\n",
              "    <path d=\"M18.56 5.44l.94 2.06.94-2.06 2.06-.94-2.06-.94-.94-2.06-.94 2.06-2.06.94zm-11 1L8.5 8.5l.94-2.06 2.06-.94-2.06-.94L8.5 2.5l-.94 2.06-2.06.94zm10 10l.94 2.06.94-2.06 2.06-.94-2.06-.94-.94-2.06-.94 2.06-2.06.94z\"/><path d=\"M17.41 7.96l-1.37-1.37c-.4-.4-.92-.59-1.43-.59-.52 0-1.04.2-1.43.59L10.3 9.45l-7.72 7.72c-.78.78-.78 2.05 0 2.83L4 21.41c.39.39.9.59 1.41.59.51 0 1.02-.2 1.41-.59l7.78-7.78 2.81-2.81c.8-.78.8-2.07 0-2.86zM5.41 20L4 18.59l7.72-7.72 1.47 1.35L5.41 20z\"/>\n",
              "  </svg>\n",
              "      </button>\n",
              "      \n",
              "  <style>\n",
              "    .colab-df-container {\n",
              "      display:flex;\n",
              "      flex-wrap:wrap;\n",
              "      gap: 12px;\n",
              "    }\n",
              "\n",
              "    .colab-df-convert {\n",
              "      background-color: #E8F0FE;\n",
              "      border: none;\n",
              "      border-radius: 50%;\n",
              "      cursor: pointer;\n",
              "      display: none;\n",
              "      fill: #1967D2;\n",
              "      height: 32px;\n",
              "      padding: 0 0 0 0;\n",
              "      width: 32px;\n",
              "    }\n",
              "\n",
              "    .colab-df-convert:hover {\n",
              "      background-color: #E2EBFA;\n",
              "      box-shadow: 0px 1px 2px rgba(60, 64, 67, 0.3), 0px 1px 3px 1px rgba(60, 64, 67, 0.15);\n",
              "      fill: #174EA6;\n",
              "    }\n",
              "\n",
              "    [theme=dark] .colab-df-convert {\n",
              "      background-color: #3B4455;\n",
              "      fill: #D2E3FC;\n",
              "    }\n",
              "\n",
              "    [theme=dark] .colab-df-convert:hover {\n",
              "      background-color: #434B5C;\n",
              "      box-shadow: 0px 1px 3px 1px rgba(0, 0, 0, 0.15);\n",
              "      filter: drop-shadow(0px 1px 2px rgba(0, 0, 0, 0.3));\n",
              "      fill: #FFFFFF;\n",
              "    }\n",
              "  </style>\n",
              "\n",
              "      <script>\n",
              "        const buttonEl =\n",
              "          document.querySelector('#df-3947d372-c16d-4a41-9984-21d5e2559aa6 button.colab-df-convert');\n",
              "        buttonEl.style.display =\n",
              "          google.colab.kernel.accessAllowed ? 'block' : 'none';\n",
              "\n",
              "        async function convertToInteractive(key) {\n",
              "          const element = document.querySelector('#df-3947d372-c16d-4a41-9984-21d5e2559aa6');\n",
              "          const dataTable =\n",
              "            await google.colab.kernel.invokeFunction('convertToInteractive',\n",
              "                                                     [key], {});\n",
              "          if (!dataTable) return;\n",
              "\n",
              "          const docLinkHtml = 'Like what you see? Visit the ' +\n",
              "            '<a target=\"_blank\" href=https://colab.research.google.com/notebooks/data_table.ipynb>data table notebook</a>'\n",
              "            + ' to learn more about interactive tables.';\n",
              "          element.innerHTML = '';\n",
              "          dataTable['output_type'] = 'display_data';\n",
              "          await google.colab.output.renderOutput(dataTable, element);\n",
              "          const docLink = document.createElement('div');\n",
              "          docLink.innerHTML = docLinkHtml;\n",
              "          element.appendChild(docLink);\n",
              "        }\n",
              "      </script>\n",
              "    </div>\n",
              "  </div>\n",
              "  "
            ]
          },
          "metadata": {},
          "execution_count": 192
        }
      ],
      "source": [
        "# Joint distribution\n",
        "df_data.groupby(['HomePlanet','Alone','Age_group'])['Cost'].mean().unstack().fillna(0)"
      ]
    },
    {
      "cell_type": "code",
      "execution_count": 193,
      "id": "843a3115",
      "metadata": {
        "execution": {
          "iopub.execute_input": "2022-04-15T09:59:27.210595Z",
          "iopub.status.busy": "2022-04-15T09:59:27.209744Z",
          "iopub.status.idle": "2022-04-15T09:59:27.296877Z",
          "shell.execute_reply": "2022-04-15T09:59:27.296001Z",
          "shell.execute_reply.started": "2022-04-15T09:47:29.497697Z"
        },
        "papermill": {
          "duration": 0.265947,
          "end_time": "2022-04-15T09:59:27.297071",
          "exception": false,
          "start_time": "2022-04-15T09:59:27.031124",
          "status": "completed"
        },
        "tags": [],
        "colab": {
          "base_uri": "https://localhost:8080/"
        },
        "id": "843a3115",
        "outputId": "9674334b-f4bc-412b-d74a-47449bb5b6df"
      },
      "outputs": [
        {
          "output_type": "stream",
          "name": "stdout",
          "text": [
            "Number of cost_features missing values before: 866\n",
            "Number of cost_features missing values after: 0\n"
          ]
        }
      ],
      "source": [
        "# Missing values before\n",
        "before_cost_features_miss=df_data[cost_features].isnull().sum().sum()\n",
        "\n",
        "# Fill missing values using the mode\n",
        "for col in cost_features:\n",
        "    id_index=df_data.loc[df_data[col].isna(),col].index\n",
        "    df_data.loc[df_data[col].isna(),col]=df_data.groupby(['HomePlanet','Alone','Age_group'])[col].transform(lambda x: x.fillna(x.mean()))[id_index]\n",
        "    \n",
        "# Print number of missing values left\n",
        "print('Number of cost_features missing values before:',before_cost_features_miss)\n",
        "print('Number of cost_features missing values after:',df_data[cost_features].isnull().sum().sum())"
      ]
    },
    {
      "cell_type": "markdown",
      "id": "86b98b3b",
      "metadata": {
        "papermill": {
          "duration": 0.210091,
          "end_time": "2022-04-15T09:59:27.699851",
          "exception": false,
          "start_time": "2022-04-15T09:59:27.489760",
          "status": "completed"
        },
        "tags": [],
        "id": "86b98b3b"
      },
      "source": [
        "Update Cost and No_Cost:"
      ]
    },
    {
      "cell_type": "code",
      "execution_count": 194,
      "id": "4cf33033",
      "metadata": {
        "execution": {
          "iopub.execute_input": "2022-04-15T09:59:28.119087Z",
          "iopub.status.busy": "2022-04-15T09:59:28.118135Z",
          "iopub.status.idle": "2022-04-15T09:59:28.124692Z",
          "shell.execute_reply": "2022-04-15T09:59:28.125197Z",
          "shell.execute_reply.started": "2022-04-15T09:47:29.608415Z"
        },
        "papermill": {
          "duration": 0.208665,
          "end_time": "2022-04-15T09:59:28.125358",
          "exception": false,
          "start_time": "2022-04-15T09:59:27.916693",
          "status": "completed"
        },
        "tags": [],
        "id": "4cf33033"
      },
      "outputs": [],
      "source": [
        "# Update Cost and No_Cost\n",
        "df_data['Cost']=df_data[cost_features].sum(axis=1)\n",
        "df_data['No_Cost']=(df_data['Cost']==0).astype(int)"
      ]
    },
    {
      "cell_type": "code",
      "execution_count": 195,
      "id": "c53cc65e",
      "metadata": {
        "execution": {
          "iopub.execute_input": "2022-04-15T09:59:28.471271Z",
          "iopub.status.busy": "2022-04-15T09:59:28.470603Z",
          "iopub.status.idle": "2022-04-15T09:59:28.500799Z",
          "shell.execute_reply": "2022-04-15T09:59:28.501453Z",
          "shell.execute_reply.started": "2022-04-15T09:47:29.618916Z"
        },
        "papermill": {
          "duration": 0.202234,
          "end_time": "2022-04-15T09:59:28.501656",
          "exception": false,
          "start_time": "2022-04-15T09:59:28.299422",
          "status": "completed"
        },
        "tags": [],
        "colab": {
          "base_uri": "https://localhost:8080/"
        },
        "id": "c53cc65e",
        "outputId": "f2426309-9cf8-4a62-c2bd-fdcdfa1f09e7"
      },
      "outputs": [
        {
          "output_type": "stream",
          "name": "stdout",
          "text": [
            "PassengerId 0\n",
            "HomePlanet 0\n",
            "CryoSleep 0\n",
            "Destination 0\n",
            "Age 0\n",
            "VIP 0\n",
            "RoomService 0\n",
            "FoodCourt 0\n",
            "ShoppingMall 0\n",
            "Spa 0\n",
            "VRDeck 0\n",
            "Age_group 0\n",
            "Cost 0\n",
            "No_Cost 0\n",
            "Passenger_Group 0\n",
            "Passenger_Group_Size 0\n",
            "Alone 0\n",
            "Cabin_deck 0\n",
            "Cabin_number 0\n",
            "Cabin_side 0\n",
            "Cabin_Part1 0\n",
            "Cabin_Part2 0\n",
            "Cabin_Part3 0\n",
            "Cabin_Part4 0\n",
            "Cabin_Part5 0\n",
            "Cabin_Part6 0\n",
            "Cabin_Part7 0\n",
            "Family_Size 0\n"
          ]
        }
      ],
      "source": [
        "li = list(df_data.columns)\n",
        "li.remove('Transported')\n",
        "for col in (li):\n",
        "    print(col,df_data[col].isnull().sum())"
      ]
    },
    {
      "cell_type": "markdown",
      "id": "b25ce56a",
      "metadata": {
        "papermill": {
          "duration": 0.192332,
          "end_time": "2022-04-15T09:59:28.868486",
          "exception": false,
          "start_time": "2022-04-15T09:59:28.676154",
          "status": "completed"
        },
        "tags": [],
        "id": "b25ce56a"
      },
      "source": [
        "No missing values left!"
      ]
    },
    {
      "cell_type": "markdown",
      "id": "3d2e3db1",
      "metadata": {
        "papermill": {
          "duration": 0.209783,
          "end_time": "2022-04-15T09:59:29.274699",
          "exception": false,
          "start_time": "2022-04-15T09:59:29.064916",
          "status": "completed"
        },
        "tags": [],
        "id": "3d2e3db1"
      },
      "source": [
        "<a id=\"1\"></a> <br>\n",
        "# 6. Feature Transformation"
      ]
    },
    {
      "cell_type": "markdown",
      "id": "29d1a8db",
      "metadata": {
        "papermill": {
          "duration": 0.217684,
          "end_time": "2022-04-15T09:59:29.709440",
          "exception": false,
          "start_time": "2022-04-15T09:59:29.491756",
          "status": "completed"
        },
        "tags": [],
        "id": "29d1a8db"
      },
      "source": [
        "**Drop unwanted features**"
      ]
    },
    {
      "cell_type": "code",
      "execution_count": 196,
      "id": "11881ab8",
      "metadata": {
        "execution": {
          "iopub.execute_input": "2022-04-15T09:59:30.111669Z",
          "iopub.status.busy": "2022-04-15T09:59:30.110949Z",
          "iopub.status.idle": "2022-04-15T09:59:30.112680Z",
          "shell.execute_reply": "2022-04-15T09:59:30.113210Z",
          "shell.execute_reply.started": "2022-04-15T09:47:29.674661Z"
        },
        "papermill": {
          "duration": 0.189403,
          "end_time": "2022-04-15T09:59:30.113375",
          "exception": false,
          "start_time": "2022-04-15T09:59:29.923972",
          "status": "completed"
        },
        "tags": [],
        "id": "11881ab8"
      },
      "outputs": [],
      "source": [
        "df_data.drop(['PassengerId', 'Passenger_Group', 'Passenger_Group_Size', 'Age_group', 'Cabin_number'], axis=1, inplace=True)"
      ]
    },
    {
      "cell_type": "markdown",
      "id": "7eb35325",
      "metadata": {
        "papermill": {
          "duration": 0.176456,
          "end_time": "2022-04-15T09:59:30.467624",
          "exception": false,
          "start_time": "2022-04-15T09:59:30.291168",
          "status": "completed"
        },
        "tags": [],
        "id": "7eb35325"
      },
      "source": [
        "**In order to binning continuous features we are going to use 10 quantile base bins for Age column:**"
      ]
    },
    {
      "cell_type": "code",
      "execution_count": 197,
      "id": "4fee667e",
      "metadata": {
        "execution": {
          "iopub.execute_input": "2022-04-15T09:59:30.812816Z",
          "iopub.status.busy": "2022-04-15T09:59:30.812212Z",
          "iopub.status.idle": "2022-04-15T09:59:30.819441Z",
          "shell.execute_reply": "2022-04-15T09:59:30.819925Z",
          "shell.execute_reply.started": "2022-04-15T09:47:29.689011Z"
        },
        "papermill": {
          "duration": 0.183402,
          "end_time": "2022-04-15T09:59:30.820097",
          "exception": false,
          "start_time": "2022-04-15T09:59:30.636695",
          "status": "completed"
        },
        "tags": [],
        "id": "4fee667e"
      },
      "outputs": [],
      "source": [
        "names = ['1','2','3','4','5','6','7','8','9','10']\n",
        "df_data['Age'] = pd.qcut(df_data['Age'], 10, labels = names)"
      ]
    },
    {
      "cell_type": "markdown",
      "id": "d33fef97",
      "metadata": {
        "papermill": {
          "duration": 0.174389,
          "end_time": "2022-04-15T09:59:31.175205",
          "exception": false,
          "start_time": "2022-04-15T09:59:31.000816",
          "status": "completed"
        },
        "tags": [],
        "id": "d33fef97"
      },
      "source": [
        "Using LabelEncoder, we are going to convert non-numerical features to numerical type. LabelEncoder basically labels the classes from 0 to n. This process is necessary for models to learn from those features."
      ]
    },
    {
      "cell_type": "code",
      "execution_count": 198,
      "id": "21f0e3cc",
      "metadata": {
        "execution": {
          "iopub.execute_input": "2022-04-15T09:59:31.528500Z",
          "iopub.status.busy": "2022-04-15T09:59:31.527913Z",
          "iopub.status.idle": "2022-04-15T09:59:31.565192Z",
          "shell.execute_reply": "2022-04-15T09:59:31.565703Z",
          "shell.execute_reply.started": "2022-04-15T09:47:29.705804Z"
        },
        "papermill": {
          "duration": 0.217526,
          "end_time": "2022-04-15T09:59:31.565890",
          "exception": false,
          "start_time": "2022-04-15T09:59:31.348364",
          "status": "completed"
        },
        "tags": [],
        "id": "21f0e3cc"
      },
      "outputs": [],
      "source": [
        "n_col= [col for col in df_data.columns if df_data[col].dtypes=='object']\n",
        "n_col.append('Age')\n",
        "for feature in n_col:\n",
        "    df_data[feature] = LabelEncoder().fit_transform(df_data[feature])"
      ]
    },
    {
      "cell_type": "code",
      "execution_count": 199,
      "id": "b6feaf52",
      "metadata": {
        "execution": {
          "iopub.execute_input": "2022-04-15T09:59:31.919997Z",
          "iopub.status.busy": "2022-04-15T09:59:31.919253Z",
          "iopub.status.idle": "2022-04-15T09:59:31.922704Z",
          "shell.execute_reply": "2022-04-15T09:59:31.922091Z",
          "shell.execute_reply.started": "2022-04-15T09:47:29.753108Z"
        },
        "papermill": {
          "duration": 0.184302,
          "end_time": "2022-04-15T09:59:31.922833",
          "exception": false,
          "start_time": "2022-04-15T09:59:31.738531",
          "status": "completed"
        },
        "tags": [],
        "id": "b6feaf52"
      },
      "outputs": [],
      "source": [
        "#Put Nan's back in (for Test Data)\n",
        "df_data.loc[df_data.Transported==2,'Transported']=np.nan"
      ]
    },
    {
      "cell_type": "markdown",
      "id": "d2cb76dd",
      "metadata": {
        "papermill": {
          "duration": 0.198571,
          "end_time": "2022-04-15T09:59:32.294918",
          "exception": false,
          "start_time": "2022-04-15T09:59:32.096347",
          "status": "completed"
        },
        "tags": [],
        "id": "d2cb76dd"
      },
      "source": [
        "To finish with, we are going to one hot encoded non-ordinal features."
      ]
    },
    {
      "cell_type": "code",
      "execution_count": 200,
      "id": "32161671",
      "metadata": {
        "execution": {
          "iopub.execute_input": "2022-04-15T09:59:32.768088Z",
          "iopub.status.busy": "2022-04-15T09:59:32.767391Z",
          "iopub.status.idle": "2022-04-15T09:59:32.778390Z",
          "shell.execute_reply": "2022-04-15T09:59:32.778887Z",
          "shell.execute_reply.started": "2022-04-15T09:47:29.762155Z"
        },
        "papermill": {
          "duration": 0.274396,
          "end_time": "2022-04-15T09:59:32.779041",
          "exception": false,
          "start_time": "2022-04-15T09:59:32.504645",
          "status": "completed"
        },
        "tags": [],
        "id": "32161671"
      },
      "outputs": [],
      "source": [
        "cat_features = ['HomePlanet', 'Destination']\n",
        "for feature in cat_features:\n",
        "    one_hot = pd.get_dummies(df_data[feature],prefix=feature)\n",
        "    df_data = pd.merge(left=df_data,right=one_hot,left_index=True,right_index=True)"
      ]
    },
    {
      "cell_type": "code",
      "execution_count": 201,
      "id": "357b0f58",
      "metadata": {
        "execution": {
          "iopub.execute_input": "2022-04-15T09:59:33.124219Z",
          "iopub.status.busy": "2022-04-15T09:59:33.123597Z",
          "iopub.status.idle": "2022-04-15T09:59:33.130204Z",
          "shell.execute_reply": "2022-04-15T09:59:33.130704Z",
          "shell.execute_reply.started": "2022-04-15T09:47:29.78257Z"
        },
        "papermill": {
          "duration": 0.18113,
          "end_time": "2022-04-15T09:59:33.130860",
          "exception": false,
          "start_time": "2022-04-15T09:59:32.949730",
          "status": "completed"
        },
        "tags": [],
        "id": "357b0f58"
      },
      "outputs": [],
      "source": [
        "# Drop HomePlanet and Destination columns\n",
        "df_data.drop(columns=['HomePlanet', 'Destination'],inplace=True)"
      ]
    },
    {
      "cell_type": "markdown",
      "id": "0e6e03ed",
      "metadata": {
        "papermill": {
          "duration": 0.167998,
          "end_time": "2022-04-15T09:59:33.466324",
          "exception": false,
          "start_time": "2022-04-15T09:59:33.298326",
          "status": "completed"
        },
        "tags": [],
        "id": "0e6e03ed"
      },
      "source": [
        "<a id=\"1\"></a> <br>\n",
        "# 6. Modeling"
      ]
    },
    {
      "cell_type": "markdown",
      "id": "42b87f2e",
      "metadata": {
        "papermill": {
          "duration": 0.168481,
          "end_time": "2022-04-15T09:59:33.805236",
          "exception": false,
          "start_time": "2022-04-15T09:59:33.636755",
          "status": "completed"
        },
        "tags": [],
        "id": "42b87f2e"
      },
      "source": [
        "For the modeling part we will compare 7 known algorithms, and proceed to evaluate their average accuracy by a stratified kfold cross validation procedure:"
      ]
    },
    {
      "cell_type": "markdown",
      "id": "43a2039b",
      "metadata": {
        "papermill": {
          "duration": 0.169728,
          "end_time": "2022-04-15T09:59:34.147246",
          "exception": false,
          "start_time": "2022-04-15T09:59:33.977518",
          "status": "completed"
        },
        "tags": [],
        "id": "43a2039b"
      },
      "source": [
        "1: SVC<br>\n",
        "2: Decision Tree<br>\n",
        "3: Random Forest<br>\n",
        "4: Extra Trees<br>\n",
        "5: Gradient Boosting<br>\n",
        "6: Multiple layer perceprton (neural network)<br>\n",
        "7: KNN<br>"
      ]
    },
    {
      "cell_type": "code",
      "execution_count": 202,
      "id": "422c5905",
      "metadata": {
        "execution": {
          "iopub.execute_input": "2022-04-15T09:59:34.489428Z",
          "iopub.status.busy": "2022-04-15T09:59:34.488822Z",
          "iopub.status.idle": "2022-04-15T09:59:34.498073Z",
          "shell.execute_reply": "2022-04-15T09:59:34.498589Z",
          "shell.execute_reply.started": "2022-04-15T09:47:29.792618Z"
        },
        "papermill": {
          "duration": 0.183479,
          "end_time": "2022-04-15T09:59:34.498739",
          "exception": false,
          "start_time": "2022-04-15T09:59:34.315260",
          "status": "completed"
        },
        "tags": [],
        "id": "422c5905"
      },
      "outputs": [],
      "source": [
        "# ٍExtract Train and Test Data from df_data\n",
        "df_train = df_data[df_data.Transported.isnull()==False]\n",
        "df_test = df_data[df_data.Transported.isnull()==True]\n",
        "df_test = df_test.drop('Transported',axis=1)"
      ]
    },
    {
      "cell_type": "code",
      "execution_count": 203,
      "id": "3a0562e9",
      "metadata": {
        "execution": {
          "iopub.execute_input": "2022-04-15T09:59:34.844116Z",
          "iopub.status.busy": "2022-04-15T09:59:34.843537Z",
          "iopub.status.idle": "2022-04-15T09:59:34.846562Z",
          "shell.execute_reply": "2022-04-15T09:59:34.846084Z",
          "shell.execute_reply.started": "2022-04-15T09:47:29.809565Z"
        },
        "papermill": {
          "duration": 0.180522,
          "end_time": "2022-04-15T09:59:34.846685",
          "exception": false,
          "start_time": "2022-04-15T09:59:34.666163",
          "status": "completed"
        },
        "tags": [],
        "id": "3a0562e9"
      },
      "outputs": [],
      "source": [
        "X = df_train.drop('Transported' ,axis=1)\n",
        "y = df_train['Transported']"
      ]
    },
    {
      "cell_type": "code",
      "execution_count": 204,
      "id": "13f37b59",
      "metadata": {
        "execution": {
          "iopub.execute_input": "2022-04-15T09:59:35.208011Z",
          "iopub.status.busy": "2022-04-15T09:59:35.207339Z",
          "iopub.status.idle": "2022-04-15T09:59:35.210310Z",
          "shell.execute_reply": "2022-04-15T09:59:35.209791Z",
          "shell.execute_reply.started": "2022-04-15T09:47:29.820263Z"
        },
        "papermill": {
          "duration": 0.193302,
          "end_time": "2022-04-15T09:59:35.210483",
          "exception": false,
          "start_time": "2022-04-15T09:59:35.017181",
          "status": "completed"
        },
        "tags": [],
        "id": "13f37b59"
      },
      "outputs": [],
      "source": [
        "# Define classifiers:\n",
        "kfold = StratifiedKFold(n_splits=10)\n",
        "random_state = 42\n",
        "classifiers = []\n",
        "classifiers.append(SVC(random_state=random_state))\n",
        "classifiers.append(DecisionTreeClassifier(max_depth=4,random_state=random_state))\n",
        "classifiers.append(RandomForestClassifier(n_estimators=5,random_state=random_state))\n",
        "classifiers.append(ExtraTreesClassifier(random_state=random_state))\n",
        "classifiers.append(GradientBoostingClassifier(random_state=random_state))\n",
        "classifiers.append(MLPClassifier(random_state=random_state))\n",
        "classifiers.append(KNeighborsClassifier())"
      ]
    },
    {
      "cell_type": "code",
      "execution_count": 205,
      "id": "da691331",
      "metadata": {
        "execution": {
          "iopub.execute_input": "2022-04-15T09:59:35.554630Z",
          "iopub.status.busy": "2022-04-15T09:59:35.553739Z",
          "iopub.status.idle": "2022-04-15T10:00:03.793099Z",
          "shell.execute_reply": "2022-04-15T10:00:03.792437Z",
          "shell.execute_reply.started": "2022-04-15T09:47:29.834408Z"
        },
        "papermill": {
          "duration": 28.415479,
          "end_time": "2022-04-15T10:00:03.793268",
          "exception": false,
          "start_time": "2022-04-15T09:59:35.377789",
          "status": "completed"
        },
        "tags": [],
        "id": "da691331"
      },
      "outputs": [],
      "source": [
        "# cross_val_score\n",
        "cv_results = []\n",
        "for classifier in classifiers:\n",
        "    cv_results.append(cross_val_score(classifier, X, y, scoring = \"accuracy\", cv = kfold, n_jobs=4))"
      ]
    },
    {
      "cell_type": "code",
      "execution_count": 206,
      "id": "efc3b746",
      "metadata": {
        "execution": {
          "iopub.execute_input": "2022-04-15T10:00:04.164002Z",
          "iopub.status.busy": "2022-04-15T10:00:04.163380Z",
          "iopub.status.idle": "2022-04-15T10:00:04.167199Z",
          "shell.execute_reply": "2022-04-15T10:00:04.167706Z",
          "shell.execute_reply.started": "2022-04-15T09:48:01.490918Z"
        },
        "papermill": {
          "duration": 0.197341,
          "end_time": "2022-04-15T10:00:04.167853",
          "exception": false,
          "start_time": "2022-04-15T10:00:03.970512",
          "status": "completed"
        },
        "tags": [],
        "id": "efc3b746"
      },
      "outputs": [],
      "source": [
        "# cross_val_score Mean\n",
        "cv_means = []\n",
        "for cv_result in cv_results:\n",
        "    cv_means.append(cv_result.mean())"
      ]
    },
    {
      "cell_type": "code",
      "execution_count": 207,
      "id": "fdf404f7",
      "metadata": {
        "execution": {
          "iopub.execute_input": "2022-04-15T10:00:04.513497Z",
          "iopub.status.busy": "2022-04-15T10:00:04.512933Z",
          "iopub.status.idle": "2022-04-15T10:00:04.519252Z",
          "shell.execute_reply": "2022-04-15T10:00:04.519771Z",
          "shell.execute_reply.started": "2022-04-15T09:48:01.499387Z"
        },
        "papermill": {
          "duration": 0.182005,
          "end_time": "2022-04-15T10:00:04.519922",
          "exception": false,
          "start_time": "2022-04-15T10:00:04.337917",
          "status": "completed"
        },
        "tags": [],
        "id": "fdf404f7"
      },
      "outputs": [],
      "source": [
        "# Create DataFram from Algorithms and CrossValMeans parameter\n",
        "cv_res = pd.DataFrame({\"Algorithm\":[\"SVC\",\"DecisionTree\",\n",
        "\"RandomForest\",\"ExtraTrees\",\"GradientBoosting\",\"MultipleLayerPerceptron\",\"KNeighboors\"],\"CrossValMeans\":cv_means})\n",
        "cv_res = cv_res.sort_values(by='CrossValMeans',ascending = False)"
      ]
    },
    {
      "cell_type": "code",
      "execution_count": 208,
      "id": "f0b0ca27",
      "metadata": {
        "execution": {
          "iopub.execute_input": "2022-04-15T10:00:04.865810Z",
          "iopub.status.busy": "2022-04-15T10:00:04.865221Z",
          "iopub.status.idle": "2022-04-15T10:00:04.873909Z",
          "shell.execute_reply": "2022-04-15T10:00:04.874418Z",
          "shell.execute_reply.started": "2022-04-15T09:48:01.515807Z"
        },
        "papermill": {
          "duration": 0.183458,
          "end_time": "2022-04-15T10:00:04.874574",
          "exception": false,
          "start_time": "2022-04-15T10:00:04.691116",
          "status": "completed"
        },
        "tags": [],
        "colab": {
          "base_uri": "https://localhost:8080/",
          "height": 269
        },
        "id": "f0b0ca27",
        "outputId": "0418563a-cb79-430b-c6e4-176493c0529c"
      },
      "outputs": [
        {
          "output_type": "execute_result",
          "data": {
            "text/plain": [
              "                 Algorithm  CrossValMeans\n",
              "4         GradientBoosting       0.799962\n",
              "0                      SVC       0.790525\n",
              "3               ExtraTrees       0.775460\n",
              "2             RandomForest       0.773734\n",
              "1             DecisionTree       0.770736\n",
              "6              KNeighboors       0.766597\n",
              "5  MultipleLayerPerceptron       0.756706"
            ],
            "text/html": [
              "\n",
              "  <div id=\"df-57b0fbb8-f642-4ad7-bd44-cb535e08d85f\">\n",
              "    <div class=\"colab-df-container\">\n",
              "      <div>\n",
              "<style scoped>\n",
              "    .dataframe tbody tr th:only-of-type {\n",
              "        vertical-align: middle;\n",
              "    }\n",
              "\n",
              "    .dataframe tbody tr th {\n",
              "        vertical-align: top;\n",
              "    }\n",
              "\n",
              "    .dataframe thead th {\n",
              "        text-align: right;\n",
              "    }\n",
              "</style>\n",
              "<table border=\"1\" class=\"dataframe\">\n",
              "  <thead>\n",
              "    <tr style=\"text-align: right;\">\n",
              "      <th></th>\n",
              "      <th>Algorithm</th>\n",
              "      <th>CrossValMeans</th>\n",
              "    </tr>\n",
              "  </thead>\n",
              "  <tbody>\n",
              "    <tr>\n",
              "      <th>4</th>\n",
              "      <td>GradientBoosting</td>\n",
              "      <td>0.799962</td>\n",
              "    </tr>\n",
              "    <tr>\n",
              "      <th>0</th>\n",
              "      <td>SVC</td>\n",
              "      <td>0.790525</td>\n",
              "    </tr>\n",
              "    <tr>\n",
              "      <th>3</th>\n",
              "      <td>ExtraTrees</td>\n",
              "      <td>0.775460</td>\n",
              "    </tr>\n",
              "    <tr>\n",
              "      <th>2</th>\n",
              "      <td>RandomForest</td>\n",
              "      <td>0.773734</td>\n",
              "    </tr>\n",
              "    <tr>\n",
              "      <th>1</th>\n",
              "      <td>DecisionTree</td>\n",
              "      <td>0.770736</td>\n",
              "    </tr>\n",
              "    <tr>\n",
              "      <th>6</th>\n",
              "      <td>KNeighboors</td>\n",
              "      <td>0.766597</td>\n",
              "    </tr>\n",
              "    <tr>\n",
              "      <th>5</th>\n",
              "      <td>MultipleLayerPerceptron</td>\n",
              "      <td>0.756706</td>\n",
              "    </tr>\n",
              "  </tbody>\n",
              "</table>\n",
              "</div>\n",
              "      <button class=\"colab-df-convert\" onclick=\"convertToInteractive('df-57b0fbb8-f642-4ad7-bd44-cb535e08d85f')\"\n",
              "              title=\"Convert this dataframe to an interactive table.\"\n",
              "              style=\"display:none;\">\n",
              "        \n",
              "  <svg xmlns=\"http://www.w3.org/2000/svg\" height=\"24px\"viewBox=\"0 0 24 24\"\n",
              "       width=\"24px\">\n",
              "    <path d=\"M0 0h24v24H0V0z\" fill=\"none\"/>\n",
              "    <path d=\"M18.56 5.44l.94 2.06.94-2.06 2.06-.94-2.06-.94-.94-2.06-.94 2.06-2.06.94zm-11 1L8.5 8.5l.94-2.06 2.06-.94-2.06-.94L8.5 2.5l-.94 2.06-2.06.94zm10 10l.94 2.06.94-2.06 2.06-.94-2.06-.94-.94-2.06-.94 2.06-2.06.94z\"/><path d=\"M17.41 7.96l-1.37-1.37c-.4-.4-.92-.59-1.43-.59-.52 0-1.04.2-1.43.59L10.3 9.45l-7.72 7.72c-.78.78-.78 2.05 0 2.83L4 21.41c.39.39.9.59 1.41.59.51 0 1.02-.2 1.41-.59l7.78-7.78 2.81-2.81c.8-.78.8-2.07 0-2.86zM5.41 20L4 18.59l7.72-7.72 1.47 1.35L5.41 20z\"/>\n",
              "  </svg>\n",
              "      </button>\n",
              "      \n",
              "  <style>\n",
              "    .colab-df-container {\n",
              "      display:flex;\n",
              "      flex-wrap:wrap;\n",
              "      gap: 12px;\n",
              "    }\n",
              "\n",
              "    .colab-df-convert {\n",
              "      background-color: #E8F0FE;\n",
              "      border: none;\n",
              "      border-radius: 50%;\n",
              "      cursor: pointer;\n",
              "      display: none;\n",
              "      fill: #1967D2;\n",
              "      height: 32px;\n",
              "      padding: 0 0 0 0;\n",
              "      width: 32px;\n",
              "    }\n",
              "\n",
              "    .colab-df-convert:hover {\n",
              "      background-color: #E2EBFA;\n",
              "      box-shadow: 0px 1px 2px rgba(60, 64, 67, 0.3), 0px 1px 3px 1px rgba(60, 64, 67, 0.15);\n",
              "      fill: #174EA6;\n",
              "    }\n",
              "\n",
              "    [theme=dark] .colab-df-convert {\n",
              "      background-color: #3B4455;\n",
              "      fill: #D2E3FC;\n",
              "    }\n",
              "\n",
              "    [theme=dark] .colab-df-convert:hover {\n",
              "      background-color: #434B5C;\n",
              "      box-shadow: 0px 1px 3px 1px rgba(0, 0, 0, 0.15);\n",
              "      filter: drop-shadow(0px 1px 2px rgba(0, 0, 0, 0.3));\n",
              "      fill: #FFFFFF;\n",
              "    }\n",
              "  </style>\n",
              "\n",
              "      <script>\n",
              "        const buttonEl =\n",
              "          document.querySelector('#df-57b0fbb8-f642-4ad7-bd44-cb535e08d85f button.colab-df-convert');\n",
              "        buttonEl.style.display =\n",
              "          google.colab.kernel.accessAllowed ? 'block' : 'none';\n",
              "\n",
              "        async function convertToInteractive(key) {\n",
              "          const element = document.querySelector('#df-57b0fbb8-f642-4ad7-bd44-cb535e08d85f');\n",
              "          const dataTable =\n",
              "            await google.colab.kernel.invokeFunction('convertToInteractive',\n",
              "                                                     [key], {});\n",
              "          if (!dataTable) return;\n",
              "\n",
              "          const docLinkHtml = 'Like what you see? Visit the ' +\n",
              "            '<a target=\"_blank\" href=https://colab.research.google.com/notebooks/data_table.ipynb>data table notebook</a>'\n",
              "            + ' to learn more about interactive tables.';\n",
              "          element.innerHTML = '';\n",
              "          dataTable['output_type'] = 'display_data';\n",
              "          await google.colab.output.renderOutput(dataTable, element);\n",
              "          const docLink = document.createElement('div');\n",
              "          docLink.innerHTML = docLinkHtml;\n",
              "          element.appendChild(docLink);\n",
              "        }\n",
              "      </script>\n",
              "    </div>\n",
              "  </div>\n",
              "  "
            ]
          },
          "metadata": {},
          "execution_count": 208
        }
      ],
      "source": [
        "cv_res"
      ]
    },
    {
      "cell_type": "code",
      "execution_count": 209,
      "id": "92537988",
      "metadata": {
        "execution": {
          "iopub.execute_input": "2022-04-15T10:00:05.232195Z",
          "iopub.status.busy": "2022-04-15T10:00:05.231582Z",
          "iopub.status.idle": "2022-04-15T10:00:05.239086Z",
          "shell.execute_reply": "2022-04-15T10:00:05.239604Z",
          "shell.execute_reply.started": "2022-04-15T09:48:01.532996Z"
        },
        "papermill": {
          "duration": 0.18716,
          "end_time": "2022-04-15T10:00:05.239769",
          "exception": false,
          "start_time": "2022-04-15T10:00:05.052609",
          "status": "completed"
        },
        "tags": [],
        "id": "92537988"
      },
      "outputs": [],
      "source": [
        "# SPlitting train dataset\n",
        "X_train,X_test,y_train,y_test = train_test_split(X,y,test_size = 0.2,random_state = 42)"
      ]
    },
    {
      "cell_type": "code",
      "execution_count": 210,
      "id": "a22c9a36",
      "metadata": {
        "execution": {
          "iopub.execute_input": "2022-04-15T10:00:05.589838Z",
          "iopub.status.busy": "2022-04-15T10:00:05.589275Z",
          "iopub.status.idle": "2022-04-15T10:00:05.598824Z",
          "shell.execute_reply": "2022-04-15T10:00:05.598220Z",
          "shell.execute_reply.started": "2022-04-15T09:48:01.545389Z"
        },
        "papermill": {
          "duration": 0.184237,
          "end_time": "2022-04-15T10:00:05.598956",
          "exception": false,
          "start_time": "2022-04-15T10:00:05.414719",
          "status": "completed"
        },
        "tags": [],
        "id": "a22c9a36"
      },
      "outputs": [],
      "source": [
        "# Classifiers\n",
        "pipeline_SVC = Pipeline([('SVC_classifier',SVC(random_state=random_state))])\n",
        "pipeline_DTC = Pipeline([('DTC_classifier',DecisionTreeClassifier(max_depth=4,random_state=random_state))])\n",
        "pipeline_RF = Pipeline([('RF_classifier',RandomForestClassifier(n_estimators=5,random_state=random_state))])\n",
        "pipeline_ET = Pipeline([('ET_classifier',ExtraTreesClassifier(random_state=random_state))])\n",
        "pipeline_GB = Pipeline([('GB_classifier',GradientBoostingClassifier(random_state=random_state))])\n",
        "pipeline_MLP = Pipeline([('MLP_classifier',MLPClassifier(max_iter=10000,random_state=random_state))])\n",
        "pipeline_KNN = Pipeline([('KNN_classifier',KNeighborsClassifier())])\n",
        "\n",
        "pipelines = [pipeline_SVC,pipeline_DTC,pipeline_RF,pipeline_ET,pipeline_GB,pipeline_MLP,pipeline_KNN]\n",
        "pipe_dict = {0:'SVC',1:'DecisionTree',2:'RandomForest',3:'ExtraTrees',4:'GradientBoosting',\n",
        "             5:'MLP',6:'KNeighbors'}"
      ]
    },
    {
      "cell_type": "code",
      "execution_count": 211,
      "id": "17eff853",
      "metadata": {
        "execution": {
          "iopub.execute_input": "2022-04-15T10:00:05.954285Z",
          "iopub.status.busy": "2022-04-15T10:00:05.953630Z",
          "iopub.status.idle": "2022-04-15T10:00:11.761040Z",
          "shell.execute_reply": "2022-04-15T10:00:11.761926Z",
          "shell.execute_reply.started": "2022-04-15T09:48:01.561873Z"
        },
        "papermill": {
          "duration": 5.990578,
          "end_time": "2022-04-15T10:00:11.762216",
          "exception": false,
          "start_time": "2022-04-15T10:00:05.771638",
          "status": "completed"
        },
        "tags": [],
        "id": "17eff853"
      },
      "outputs": [],
      "source": [
        "# Fit Model\n",
        "for pipe in pipelines:\n",
        "    pipe.fit(X_train,y_train)"
      ]
    },
    {
      "cell_type": "code",
      "execution_count": 212,
      "id": "e1d3fa40",
      "metadata": {
        "execution": {
          "iopub.execute_input": "2022-04-15T10:00:12.170454Z",
          "iopub.status.busy": "2022-04-15T10:00:12.169789Z",
          "iopub.status.idle": "2022-04-15T10:00:13.070782Z",
          "shell.execute_reply": "2022-04-15T10:00:13.070219Z",
          "shell.execute_reply.started": "2022-04-15T09:48:07.890651Z"
        },
        "papermill": {
          "duration": 1.080777,
          "end_time": "2022-04-15T10:00:13.070947",
          "exception": false,
          "start_time": "2022-04-15T10:00:11.990170",
          "status": "completed"
        },
        "tags": [],
        "colab": {
          "base_uri": "https://localhost:8080/"
        },
        "id": "e1d3fa40",
        "outputId": "36d2018c-658d-4452-8d62-376d5626db72"
      },
      "outputs": [
        {
          "output_type": "stream",
          "name": "stdout",
          "text": [
            "SVC Test Accuracy : 0.7757331799884991\n",
            "\n",
            "DecisionTree Test Accuracy : 0.7613571017826337\n",
            "\n",
            "RandomForest Test Accuracy : 0.7699827487061529\n",
            "\n",
            "ExtraTrees Test Accuracy : 0.7843588269120184\n",
            "\n",
            "GradientBoosting Test Accuracy : 0.78953421506613\n",
            "\n",
            "MLP Test Accuracy : 0.7659574468085106\n",
            "\n",
            "KNeighbors Test Accuracy : 0.772857964347326\n",
            "\n"
          ]
        }
      ],
      "source": [
        "# Calculate Test Accuracy\n",
        "for i,model in enumerate(pipelines):\n",
        "    print(\"{} Test Accuracy : {}\\n\".format(pipe_dict[i],model.score(X_test,y_test)))"
      ]
    },
    {
      "cell_type": "code",
      "execution_count": 213,
      "id": "c7448846",
      "metadata": {
        "execution": {
          "iopub.execute_input": "2022-04-15T10:00:13.423501Z",
          "iopub.status.busy": "2022-04-15T10:00:13.422944Z",
          "iopub.status.idle": "2022-04-15T10:00:14.292252Z",
          "shell.execute_reply": "2022-04-15T10:00:14.291695Z",
          "shell.execute_reply.started": "2022-04-15T09:48:08.87283Z"
        },
        "papermill": {
          "duration": 1.041292,
          "end_time": "2022-04-15T10:00:14.292388",
          "exception": false,
          "start_time": "2022-04-15T10:00:13.251096",
          "status": "completed"
        },
        "tags": [],
        "colab": {
          "base_uri": "https://localhost:8080/"
        },
        "id": "c7448846",
        "outputId": "ec16c34b-0172-49e5-b4e0-2ac7be9036f7"
      },
      "outputs": [
        {
          "output_type": "stream",
          "name": "stdout",
          "text": [
            "SVC : mean_absolute_error : 0.22426682001150086\n",
            "\n",
            "DecisionTree : mean_absolute_error : 0.2386428982173663\n",
            "\n",
            "RandomForest : mean_absolute_error : 0.23001725129384704\n",
            "\n",
            "ExtraTrees : mean_absolute_error : 0.21564117308798159\n",
            "\n",
            "GradientBoosting : mean_absolute_error : 0.21046578493387005\n",
            "\n",
            "MLP : mean_absolute_error : 0.23404255319148937\n",
            "\n",
            "KNeighbors : mean_absolute_error : 0.22714203565267396\n",
            "\n"
          ]
        }
      ],
      "source": [
        "# Calculate mean_absolute_error\n",
        "for i,model in enumerate(pipelines):\n",
        "    y_pred = model.predict(X_test)\n",
        "    print(\"{} : mean_absolute_error : {}\\n\".format(pipe_dict[i],mean_absolute_error(y_test,y_pred)))"
      ]
    },
    {
      "cell_type": "code",
      "execution_count": 214,
      "id": "973793b7",
      "metadata": {
        "execution": {
          "iopub.execute_input": "2022-04-15T10:00:14.644767Z",
          "iopub.status.busy": "2022-04-15T10:00:14.644180Z",
          "iopub.status.idle": "2022-04-15T10:00:15.305029Z",
          "shell.execute_reply": "2022-04-15T10:00:15.304440Z",
          "shell.execute_reply.started": "2022-04-15T09:48:09.798674Z"
        },
        "papermill": {
          "duration": 0.836507,
          "end_time": "2022-04-15T10:00:15.305171",
          "exception": false,
          "start_time": "2022-04-15T10:00:14.468664",
          "status": "completed"
        },
        "tags": [],
        "colab": {
          "base_uri": "https://localhost:8080/",
          "height": 296
        },
        "id": "973793b7",
        "outputId": "3e6935bf-12ac-4c75-be41-d0d004b54944"
      },
      "outputs": [
        {
          "output_type": "execute_result",
          "data": {
            "text/plain": [
              "<sklearn.metrics._plot.confusion_matrix.ConfusionMatrixDisplay at 0x7f708a50d710>"
            ]
          },
          "metadata": {},
          "execution_count": 214
        },
        {
          "output_type": "display_data",
          "data": {
            "text/plain": [
              "<Figure size 432x288 with 2 Axes>"
            ],
            "image/png": "[encoded data removed]"
          },
          "metadata": {
            "needs_background": "light"
          }
        }
      ],
      "source": [
        "plot_confusion_matrix(pipeline_SVC,X_test,y_test)"
      ]
    },
    {
      "cell_type": "code",
      "execution_count": 215,
      "id": "80b9adf2",
      "metadata": {
        "execution": {
          "iopub.execute_input": "2022-04-15T10:00:15.663860Z",
          "iopub.status.busy": "2022-04-15T10:00:15.663267Z",
          "iopub.status.idle": "2022-04-15T10:00:16.731949Z",
          "shell.execute_reply": "2022-04-15T10:00:16.732447Z",
          "shell.execute_reply.started": "2022-04-15T09:48:10.525526Z"
        },
        "papermill": {
          "duration": 1.250855,
          "end_time": "2022-04-15T10:00:16.732615",
          "exception": false,
          "start_time": "2022-04-15T10:00:15.481760",
          "status": "completed"
        },
        "tags": [],
        "id": "80b9adf2"
      },
      "outputs": [],
      "source": [
        "y_pred_test_SVC = pipeline_SVC.predict(df_test)"
      ]
    },
    {
      "cell_type": "code",
      "execution_count": 216,
      "id": "c34e570c",
      "metadata": {
        "execution": {
          "iopub.execute_input": "2022-04-15T10:00:17.098691Z",
          "iopub.status.busy": "2022-04-15T10:00:17.097886Z",
          "iopub.status.idle": "2022-04-15T10:00:17.101460Z",
          "shell.execute_reply": "2022-04-15T10:00:17.099398Z",
          "shell.execute_reply.started": "2022-04-15T09:48:11.662902Z"
        },
        "papermill": {
          "duration": 0.185979,
          "end_time": "2022-04-15T10:00:17.101603",
          "exception": false,
          "start_time": "2022-04-15T10:00:16.915624",
          "status": "completed"
        },
        "tags": [],
        "colab": {
          "base_uri": "https://localhost:8080/"
        },
        "id": "c34e570c",
        "outputId": "8d07198b-bf2f-44b5-8371-f5f0403769c7"
      },
      "outputs": [
        {
          "output_type": "execute_result",
          "data": {
            "text/plain": [
              "array([1., 0., 1., ..., 1., 1., 1.])"
            ]
          },
          "metadata": {},
          "execution_count": 216
        }
      ],
      "source": [
        "y_pred_test_SVC"
      ]
    },
    {
      "cell_type": "code",
      "execution_count": 217,
      "id": "ca15149b",
      "metadata": {
        "execution": {
          "iopub.execute_input": "2022-04-15T10:00:17.463420Z",
          "iopub.status.busy": "2022-04-15T10:00:17.461616Z",
          "iopub.status.idle": "2022-04-15T10:00:17.474435Z",
          "shell.execute_reply": "2022-04-15T10:00:17.474988Z",
          "shell.execute_reply.started": "2022-04-15T09:48:11.673247Z"
        },
        "papermill": {
          "duration": 0.193887,
          "end_time": "2022-04-15T10:00:17.475183",
          "exception": false,
          "start_time": "2022-04-15T10:00:17.281296",
          "status": "completed"
        },
        "tags": [],
        "id": "ca15149b"
      },
      "outputs": [],
      "source": [
        "df_submission = pd.read_csv('/content/spaceship_titanic_sample_submission.csv')"
      ]
    },
    {
      "cell_type": "code",
      "execution_count": 218,
      "id": "278ff80c",
      "metadata": {
        "execution": {
          "iopub.execute_input": "2022-04-15T10:00:17.844281Z",
          "iopub.status.busy": "2022-04-15T10:00:17.843275Z",
          "iopub.status.idle": "2022-04-15T10:00:17.849342Z",
          "shell.execute_reply": "2022-04-15T10:00:17.849911Z",
          "shell.execute_reply.started": "2022-04-15T09:48:11.692728Z"
        },
        "papermill": {
          "duration": 0.198077,
          "end_time": "2022-04-15T10:00:17.850097",
          "exception": false,
          "start_time": "2022-04-15T10:00:17.652020",
          "status": "completed"
        },
        "tags": [],
        "id": "278ff80c"
      },
      "outputs": [],
      "source": [
        "# Sample Submission\n",
        "output = pd.DataFrame({'PassengerId': df_submission.PassengerId, 'Transported': y_pred_test_SVC})\n",
        "output.Transported.replace(0,False,inplace=True)\n",
        "output.Transported.replace(1,True,inplace=True)"
      ]
    },
    {
      "cell_type": "code",
      "execution_count": 219,
      "id": "2167867c",
      "metadata": {
        "execution": {
          "iopub.execute_input": "2022-04-15T10:00:18.209937Z",
          "iopub.status.busy": "2022-04-15T10:00:18.208990Z",
          "iopub.status.idle": "2022-04-15T10:00:18.223158Z",
          "shell.execute_reply": "2022-04-15T10:00:18.223697Z",
          "shell.execute_reply.started": "2022-04-15T09:48:20.687977Z"
        },
        "papermill": {
          "duration": 0.194723,
          "end_time": "2022-04-15T10:00:18.223856",
          "exception": false,
          "start_time": "2022-04-15T10:00:18.029133",
          "status": "completed"
        },
        "tags": [],
        "id": "2167867c"
      },
      "outputs": [],
      "source": [
        "output.to_csv(\"/content/spaceship-titanic_prediction.csv\", index = False)"
      ]
    }
  ],
  "metadata": {
    "kernelspec": {
      "display_name": "Python 3",
      "language": "python",
      "name": "python3"
    },
    "language_info": {
      "codemirror_mode": {
        "name": "ipython",
        "version": 3
      },
      "file_extension": ".py",
      "mimetype": "text/x-python",
      "name": "python",
      "nbconvert_exporter": "python",
      "pygments_lexer": "ipython3",
      "version": "3.7.12"
    },
    "papermill": {
      "default_parameters": {},
      "duration": 269.823964,
      "end_time": "2022-04-15T10:00:20.016868",
      "environment_variables": {},
      "exception": null,
      "input_path": "__notebook__.ipynb",
      "output_path": "__notebook__.ipynb",
      "parameters": {},
      "start_time": "2022-04-15T09:55:50.192904",
      "version": "2.3.3"
    },
    "colab": {
      "name": "spaceship-titanic-prediction.ipynb",
      "provenance": [],
      "include_colab_link": true
    }
  },
  "nbformat": 4,
  "nbformat_minor": 5
}